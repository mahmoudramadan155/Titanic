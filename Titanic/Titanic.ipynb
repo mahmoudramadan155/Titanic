{
 "cells": [
  {
   "cell_type": "code",
   "execution_count": 1,
   "metadata": {},
   "outputs": [],
   "source": [
    "import pandas as pd\n",
    "import numpy as np\n",
    "import io\n",
    "import matplotlib.pyplot as plt\n",
    "import seaborn as sns\n",
    "import scipy.stats as stats\n",
    "import scipy\n",
    "from scipy.fftpack import fftshift\n",
    "from matplotlib import style\n",
    "import missingno as msno\n",
    "import plotly.graph_objects as go\n",
    "from plotly.subplots import make_subplots\n",
    "import os\n",
    "import warnings\n",
    "warnings.filterwarnings(\"ignore\")\n",
    "# warnings.filterwarnings('always')\n",
    "from sklearn.preprocessing import LabelEncoder\n",
    "from sklearn.preprocessing import OneHotEncoder\n",
    "from sklearn.preprocessing import FunctionTransformer\n",
    "from sklearn.preprocessing import StandardScaler,MinMaxScaler\n",
    "from sklearn.preprocessing import KBinsDiscretizer\n",
    "plt.style.use(\"bmh\")\n",
    "sns.set(style='whitegrid',color_codes=True)\n",
    "%matplotlib inline\n",
    "from sklearn.decomposition import PCA\n",
    "\n",
    "from scipy.stats import spearmanr, kendalltau\n",
    "import missingno as msno\n",
    "import os\n",
    "import joblib\n",
    "import tarfile\n",
    "import urllib\n",
    "\n",
    "\n",
    "# classifiaction.\n",
    "from sklearn.linear_model import LogisticRegression\n",
    "from sklearn.svm import LinearSVC,SVC\n",
    "from sklearn.neighbors import KNeighborsClassifier\n",
    "from sklearn.ensemble import RandomForestClassifier, StackingClassifier,GradientBoostingClassifier,BaggingClassifier,AdaBoostClassifier,ExtraTreesClassifier,StackingClassifier\n",
    "# HistGradientBoostingClassifier\n",
    "from sklearn.tree import DecisionTreeClassifier\n",
    "from sklearn.naive_bayes import GaussianNB\n",
    "from xgboost import XGBClassifier\n",
    "from catboost import CatBoostClassifier\n",
    "from lightgbm import LGBMClassifier\n",
    "from sklearn.tree import plot_tree\n",
    "from sklearn.ensemble import VotingClassifier\n",
    "from sklearn.naive_bayes import BernoulliNB,GaussianNB,MultinomialNB\n",
    "# #regression\n",
    "# from sklearn.svm import SVR\n",
    "# from sklearn.neighbors import KNeighborsRegressor\n",
    "# from sklearn.linear_model import LogisticRegression\n",
    "# from sklearn.tree import DecisionTreeRegressor\n",
    "# from xgboost import XGBRegressor\n",
    "# from catboost import CatBoostRegressor\n",
    "# from lightgbm import LGBMRegressor\n",
    "# from sklearn.ensemble import RandomForestRegressor,BaggingRegressor,GradientBoostingRegressor,AdaBoostRegressor\n",
    "# from sklearn.linear_model import LinearRegression, Ridge, Lasso, ElasticNet,RidgeCV\n",
    "\n",
    "#model selection\n",
    "from sklearn.model_selection import GridSearchCV, cross_val_score, cross_val_predict, KFold, train_test_split, cross_validate\n",
    "\n",
    "# #evaluation metrics\n",
    "# from sklearn.metrics import mean_squared_log_error,mean_squared_error, r2_score,mean_absolute_error # for regression\n",
    "from sklearn.metrics import accuracy_score,precision_score,recall_score,f1_score, plot_confusion_matrix, classification_report  # for classification\n",
    "\n",
    "from sklearn import metrics\n",
    "from sklearn.metrics import roc_auc_score, roc_curve, classification_report, confusion_matrix, accuracy_score, make_scorer\n",
    "\n",
    "from sklearn.linear_model import Perceptron\n",
    "from sklearn.linear_model import SGDClassifier\n",
    "\n",
    "# Preprocessing & Imputing\n",
    "from sklearn.preprocessing import StandardScaler, MinMaxScaler, OneHotEncoder, LabelEncoder\n",
    "from sklearn.pipeline import Pipeline\n",
    "from sklearn.impute import SimpleImputer\n",
    "from sklearn.compose import ColumnTransformer\n",
    "\n",
    "# Validating and Tuning\n",
    "from sklearn.model_selection import train_test_split, StratifiedShuffleSplit \n",
    "from sklearn.model_selection import cross_val_score, cross_val_predict\n",
    "from sklearn.model_selection import GridSearchCV, RandomizedSearchCV\n",
    "\n",
    "from sklearn.metrics import roc_curve, auc,roc_auc_score\n",
    "from sklearn.preprocessing import label_binarize\n",
    "from sklearn.multiclass import OneVsRestClassifier\n",
    "\n",
    "from tpot import TPOTClassifier\n",
    "\n",
    "from sklearn.metrics import classification_report, confusion_matrix  \n",
    "# #model selection\n",
    "# from sklearn.model_selection import GridSearchCV, cross_val_score, cross_val_predict, KFold, train_test_split, cross_validate\n",
    "\n",
    "# #evaluation metrics\n",
    "# from sklearn.metrics import mean_squared_log_error,mean_squared_error, r2_score,mean_absolute_error # for regression\n",
    "from sklearn.metrics import accuracy_score,precision_score,recall_score,f1_score  # for classification\n",
    "\n",
    "from sklearn import metrics\n",
    "\n",
    "from sklearn.linear_model import Perceptron\n",
    "from sklearn.linear_model import SGDClassifier"
   ]
  },
  {
   "cell_type": "markdown",
   "metadata": {},
   "source": [
    "# Workflow goals\n",
    "The data science solutions workflow solves for seven major goals.\n",
    "\n",
    "### Classifying. \n",
    "We may want to classify or categorize our samples. We may also want to understand the implications or correlation of different classes with our solution goal.\n",
    "\n",
    "### Correlating.\n",
    "One can approach the problem based on available features within the training dataset. Which features within the dataset contribute significantly to our solution goal? Statistically speaking is there a correlation among a feature and solution goal? As the feature values change does the solution state change as well, and visa-versa? This can be tested both for numerical and categorical features in the given dataset. We may also want to determine correlation among features other than survival for subsequent goals and workflow stages. Correlating certain features may help in creating, completing, or correcting features.\n",
    "\n",
    "### Converting.\n",
    "For modeling stage, one needs to prepare the data. Depending on the choice of model algorithm one may require all features to be converted to numerical equivalent values. So for instance converting text categorical values to numeric values.\n",
    "\n",
    "### Completing.\n",
    "Data preparation may also require us to estimate any missing values within a feature. Model algorithms may work best when there are no missing values.\n",
    "\n",
    "### Correcting.\n",
    "We may also analyze the given training dataset for errors or possibly innacurate values within features and try to corrent these values or exclude the samples containing the errors. One way to do this is to detect any outliers among our samples or features. We may also completely discard a feature if it is not contribting to the analysis or may significantly skew the results.\n",
    "\n",
    "### Creating.\n",
    "Can we create new features based on an existing feature or a set of features, such that the new feature follows the correlation, conversion, completeness goals.\n",
    "\n",
    "### Charting. \n",
    "How to select the right visualization plots and charts depending on nature of the data and the solution goals."
   ]
  },
  {
   "cell_type": "code",
   "execution_count": 2,
   "metadata": {},
   "outputs": [
    {
     "name": "stdout",
     "output_type": "stream",
     "text": [
      "<class 'pandas.core.frame.DataFrame'>\n",
      "RangeIndex: 891 entries, 0 to 890\n",
      "Data columns (total 12 columns):\n",
      " #   Column       Non-Null Count  Dtype  \n",
      "---  ------       --------------  -----  \n",
      " 0   PassengerId  891 non-null    int64  \n",
      " 1   Survived     891 non-null    int64  \n",
      " 2   Pclass       891 non-null    int64  \n",
      " 3   Name         891 non-null    object \n",
      " 4   Sex          891 non-null    object \n",
      " 5   Age          714 non-null    float64\n",
      " 6   SibSp        891 non-null    int64  \n",
      " 7   Parch        891 non-null    int64  \n",
      " 8   Ticket       891 non-null    object \n",
      " 9   Fare         891 non-null    float64\n",
      " 10  Cabin        204 non-null    object \n",
      " 11  Embarked     889 non-null    object \n",
      "dtypes: float64(2), int64(5), object(5)\n",
      "memory usage: 83.7+ KB\n"
     ]
    }
   ],
   "source": [
    "train = pd.read_csv('train.csv')\n",
    "test = pd.read_csv('test.csv')\n",
    "df=train.copy()\n",
    "\n",
    "df.info()"
   ]
  },
  {
   "cell_type": "code",
   "execution_count": 3,
   "metadata": {},
   "outputs": [
    {
     "name": "stdout",
     "output_type": "stream",
     "text": [
      "<class 'pandas.core.frame.DataFrame'>\n",
      "RangeIndex: 418 entries, 0 to 417\n",
      "Data columns (total 11 columns):\n",
      " #   Column       Non-Null Count  Dtype  \n",
      "---  ------       --------------  -----  \n",
      " 0   PassengerId  418 non-null    int64  \n",
      " 1   Pclass       418 non-null    int64  \n",
      " 2   Name         418 non-null    object \n",
      " 3   Sex          418 non-null    object \n",
      " 4   Age          332 non-null    float64\n",
      " 5   SibSp        418 non-null    int64  \n",
      " 6   Parch        418 non-null    int64  \n",
      " 7   Ticket       418 non-null    object \n",
      " 8   Fare         417 non-null    float64\n",
      " 9   Cabin        91 non-null     object \n",
      " 10  Embarked     418 non-null    object \n",
      "dtypes: float64(2), int64(4), object(5)\n",
      "memory usage: 36.0+ KB\n"
     ]
    }
   ],
   "source": [
    "test.info()"
   ]
  },
  {
   "cell_type": "code",
   "execution_count": 4,
   "metadata": {},
   "outputs": [
    {
     "data": {
      "text/html": [
       "<div>\n",
       "<style scoped>\n",
       "    .dataframe tbody tr th:only-of-type {\n",
       "        vertical-align: middle;\n",
       "    }\n",
       "\n",
       "    .dataframe tbody tr th {\n",
       "        vertical-align: top;\n",
       "    }\n",
       "\n",
       "    .dataframe thead th {\n",
       "        text-align: right;\n",
       "    }\n",
       "</style>\n",
       "<table border=\"1\" class=\"dataframe\">\n",
       "  <thead>\n",
       "    <tr style=\"text-align: right;\">\n",
       "      <th></th>\n",
       "      <th>PassengerId</th>\n",
       "      <th>Survived</th>\n",
       "      <th>Pclass</th>\n",
       "      <th>Name</th>\n",
       "      <th>Sex</th>\n",
       "      <th>Age</th>\n",
       "      <th>SibSp</th>\n",
       "      <th>Parch</th>\n",
       "      <th>Ticket</th>\n",
       "      <th>Fare</th>\n",
       "      <th>Cabin</th>\n",
       "      <th>Embarked</th>\n",
       "    </tr>\n",
       "  </thead>\n",
       "  <tbody>\n",
       "    <tr>\n",
       "      <th>0</th>\n",
       "      <td>1</td>\n",
       "      <td>0</td>\n",
       "      <td>3</td>\n",
       "      <td>Braund, Mr. Owen Harris</td>\n",
       "      <td>male</td>\n",
       "      <td>22.0</td>\n",
       "      <td>1</td>\n",
       "      <td>0</td>\n",
       "      <td>A/5 21171</td>\n",
       "      <td>7.2500</td>\n",
       "      <td>NaN</td>\n",
       "      <td>S</td>\n",
       "    </tr>\n",
       "    <tr>\n",
       "      <th>1</th>\n",
       "      <td>2</td>\n",
       "      <td>1</td>\n",
       "      <td>1</td>\n",
       "      <td>Cumings, Mrs. John Bradley (Florence Briggs Th...</td>\n",
       "      <td>female</td>\n",
       "      <td>38.0</td>\n",
       "      <td>1</td>\n",
       "      <td>0</td>\n",
       "      <td>PC 17599</td>\n",
       "      <td>71.2833</td>\n",
       "      <td>C85</td>\n",
       "      <td>C</td>\n",
       "    </tr>\n",
       "    <tr>\n",
       "      <th>2</th>\n",
       "      <td>3</td>\n",
       "      <td>1</td>\n",
       "      <td>3</td>\n",
       "      <td>Heikkinen, Miss. Laina</td>\n",
       "      <td>female</td>\n",
       "      <td>26.0</td>\n",
       "      <td>0</td>\n",
       "      <td>0</td>\n",
       "      <td>STON/O2. 3101282</td>\n",
       "      <td>7.9250</td>\n",
       "      <td>NaN</td>\n",
       "      <td>S</td>\n",
       "    </tr>\n",
       "    <tr>\n",
       "      <th>3</th>\n",
       "      <td>4</td>\n",
       "      <td>1</td>\n",
       "      <td>1</td>\n",
       "      <td>Futrelle, Mrs. Jacques Heath (Lily May Peel)</td>\n",
       "      <td>female</td>\n",
       "      <td>35.0</td>\n",
       "      <td>1</td>\n",
       "      <td>0</td>\n",
       "      <td>113803</td>\n",
       "      <td>53.1000</td>\n",
       "      <td>C123</td>\n",
       "      <td>S</td>\n",
       "    </tr>\n",
       "    <tr>\n",
       "      <th>4</th>\n",
       "      <td>5</td>\n",
       "      <td>0</td>\n",
       "      <td>3</td>\n",
       "      <td>Allen, Mr. William Henry</td>\n",
       "      <td>male</td>\n",
       "      <td>35.0</td>\n",
       "      <td>0</td>\n",
       "      <td>0</td>\n",
       "      <td>373450</td>\n",
       "      <td>8.0500</td>\n",
       "      <td>NaN</td>\n",
       "      <td>S</td>\n",
       "    </tr>\n",
       "  </tbody>\n",
       "</table>\n",
       "</div>"
      ],
      "text/plain": [
       "   PassengerId  Survived  Pclass  \\\n",
       "0            1         0       3   \n",
       "1            2         1       1   \n",
       "2            3         1       3   \n",
       "3            4         1       1   \n",
       "4            5         0       3   \n",
       "\n",
       "                                                Name     Sex   Age  SibSp  \\\n",
       "0                            Braund, Mr. Owen Harris    male  22.0      1   \n",
       "1  Cumings, Mrs. John Bradley (Florence Briggs Th...  female  38.0      1   \n",
       "2                             Heikkinen, Miss. Laina  female  26.0      0   \n",
       "3       Futrelle, Mrs. Jacques Heath (Lily May Peel)  female  35.0      1   \n",
       "4                           Allen, Mr. William Henry    male  35.0      0   \n",
       "\n",
       "   Parch            Ticket     Fare Cabin Embarked  \n",
       "0      0         A/5 21171   7.2500   NaN        S  \n",
       "1      0          PC 17599  71.2833   C85        C  \n",
       "2      0  STON/O2. 3101282   7.9250   NaN        S  \n",
       "3      0            113803  53.1000  C123        S  \n",
       "4      0            373450   8.0500   NaN        S  "
      ]
     },
     "execution_count": 4,
     "metadata": {},
     "output_type": "execute_result"
    }
   ],
   "source": [
    "df.head()"
   ]
  },
  {
   "cell_type": "code",
   "execution_count": 5,
   "metadata": {},
   "outputs": [
    {
     "data": {
      "text/plain": [
       "S    644\n",
       "C    168\n",
       "Q     77\n",
       "Name: Embarked, dtype: int64"
      ]
     },
     "execution_count": 5,
     "metadata": {},
     "output_type": "execute_result"
    }
   ],
   "source": [
    "df.Embarked.value_counts()"
   ]
  },
  {
   "cell_type": "code",
   "execution_count": 6,
   "metadata": {},
   "outputs": [
    {
     "data": {
      "text/plain": [
       "0    678\n",
       "1    118\n",
       "2     80\n",
       "5      5\n",
       "3      5\n",
       "4      4\n",
       "6      1\n",
       "Name: Parch, dtype: int64"
      ]
     },
     "execution_count": 6,
     "metadata": {},
     "output_type": "execute_result"
    }
   ],
   "source": [
    "df.Parch.value_counts()"
   ]
  },
  {
   "cell_type": "code",
   "execution_count": 7,
   "metadata": {},
   "outputs": [
    {
     "data": {
      "text/plain": [
       "0    608\n",
       "1    209\n",
       "2     28\n",
       "4     18\n",
       "3     16\n",
       "8      7\n",
       "5      5\n",
       "Name: SibSp, dtype: int64"
      ]
     },
     "execution_count": 7,
     "metadata": {},
     "output_type": "execute_result"
    }
   ],
   "source": [
    "df.SibSp.value_counts()"
   ]
  },
  {
   "cell_type": "code",
   "execution_count": 8,
   "metadata": {},
   "outputs": [
    {
     "data": {
      "text/plain": [
       "0    549\n",
       "1    342\n",
       "Name: Survived, dtype: int64"
      ]
     },
     "execution_count": 8,
     "metadata": {},
     "output_type": "execute_result"
    }
   ],
   "source": [
    "df.Survived.value_counts()"
   ]
  },
  {
   "cell_type": "code",
   "execution_count": 9,
   "metadata": {},
   "outputs": [
    {
     "data": {
      "text/plain": [
       "3    491\n",
       "1    216\n",
       "2    184\n",
       "Name: Pclass, dtype: int64"
      ]
     },
     "execution_count": 9,
     "metadata": {},
     "output_type": "execute_result"
    }
   ],
   "source": [
    "df.Pclass.value_counts()"
   ]
  },
  {
   "cell_type": "code",
   "execution_count": 10,
   "metadata": {},
   "outputs": [
    {
     "data": {
      "text/plain": [
       "male      577\n",
       "female    314\n",
       "Name: Sex, dtype: int64"
      ]
     },
     "execution_count": 10,
     "metadata": {},
     "output_type": "execute_result"
    }
   ],
   "source": [
    "df.Sex.value_counts()"
   ]
  },
  {
   "cell_type": "code",
   "execution_count": 11,
   "metadata": {},
   "outputs": [
    {
     "data": {
      "text/html": [
       "<div>\n",
       "<style scoped>\n",
       "    .dataframe tbody tr th:only-of-type {\n",
       "        vertical-align: middle;\n",
       "    }\n",
       "\n",
       "    .dataframe tbody tr th {\n",
       "        vertical-align: top;\n",
       "    }\n",
       "\n",
       "    .dataframe thead th {\n",
       "        text-align: right;\n",
       "    }\n",
       "</style>\n",
       "<table border=\"1\" class=\"dataframe\">\n",
       "  <thead>\n",
       "    <tr style=\"text-align: right;\">\n",
       "      <th></th>\n",
       "      <th>PassengerId</th>\n",
       "      <th>Survived</th>\n",
       "      <th>Pclass</th>\n",
       "      <th>Age</th>\n",
       "      <th>SibSp</th>\n",
       "      <th>Parch</th>\n",
       "      <th>Fare</th>\n",
       "    </tr>\n",
       "  </thead>\n",
       "  <tbody>\n",
       "    <tr>\n",
       "      <th>count</th>\n",
       "      <td>891.000000</td>\n",
       "      <td>891.000000</td>\n",
       "      <td>891.000000</td>\n",
       "      <td>714.000000</td>\n",
       "      <td>891.000000</td>\n",
       "      <td>891.000000</td>\n",
       "      <td>891.000000</td>\n",
       "    </tr>\n",
       "    <tr>\n",
       "      <th>mean</th>\n",
       "      <td>446.000000</td>\n",
       "      <td>0.383838</td>\n",
       "      <td>2.308642</td>\n",
       "      <td>29.699118</td>\n",
       "      <td>0.523008</td>\n",
       "      <td>0.381594</td>\n",
       "      <td>32.204208</td>\n",
       "    </tr>\n",
       "    <tr>\n",
       "      <th>std</th>\n",
       "      <td>257.353842</td>\n",
       "      <td>0.486592</td>\n",
       "      <td>0.836071</td>\n",
       "      <td>14.526497</td>\n",
       "      <td>1.102743</td>\n",
       "      <td>0.806057</td>\n",
       "      <td>49.693429</td>\n",
       "    </tr>\n",
       "    <tr>\n",
       "      <th>min</th>\n",
       "      <td>1.000000</td>\n",
       "      <td>0.000000</td>\n",
       "      <td>1.000000</td>\n",
       "      <td>0.420000</td>\n",
       "      <td>0.000000</td>\n",
       "      <td>0.000000</td>\n",
       "      <td>0.000000</td>\n",
       "    </tr>\n",
       "    <tr>\n",
       "      <th>25%</th>\n",
       "      <td>223.500000</td>\n",
       "      <td>0.000000</td>\n",
       "      <td>2.000000</td>\n",
       "      <td>20.125000</td>\n",
       "      <td>0.000000</td>\n",
       "      <td>0.000000</td>\n",
       "      <td>7.910400</td>\n",
       "    </tr>\n",
       "    <tr>\n",
       "      <th>50%</th>\n",
       "      <td>446.000000</td>\n",
       "      <td>0.000000</td>\n",
       "      <td>3.000000</td>\n",
       "      <td>28.000000</td>\n",
       "      <td>0.000000</td>\n",
       "      <td>0.000000</td>\n",
       "      <td>14.454200</td>\n",
       "    </tr>\n",
       "    <tr>\n",
       "      <th>75%</th>\n",
       "      <td>668.500000</td>\n",
       "      <td>1.000000</td>\n",
       "      <td>3.000000</td>\n",
       "      <td>38.000000</td>\n",
       "      <td>1.000000</td>\n",
       "      <td>0.000000</td>\n",
       "      <td>31.000000</td>\n",
       "    </tr>\n",
       "    <tr>\n",
       "      <th>max</th>\n",
       "      <td>891.000000</td>\n",
       "      <td>1.000000</td>\n",
       "      <td>3.000000</td>\n",
       "      <td>80.000000</td>\n",
       "      <td>8.000000</td>\n",
       "      <td>6.000000</td>\n",
       "      <td>512.329200</td>\n",
       "    </tr>\n",
       "  </tbody>\n",
       "</table>\n",
       "</div>"
      ],
      "text/plain": [
       "       PassengerId    Survived      Pclass         Age       SibSp  \\\n",
       "count   891.000000  891.000000  891.000000  714.000000  891.000000   \n",
       "mean    446.000000    0.383838    2.308642   29.699118    0.523008   \n",
       "std     257.353842    0.486592    0.836071   14.526497    1.102743   \n",
       "min       1.000000    0.000000    1.000000    0.420000    0.000000   \n",
       "25%     223.500000    0.000000    2.000000   20.125000    0.000000   \n",
       "50%     446.000000    0.000000    3.000000   28.000000    0.000000   \n",
       "75%     668.500000    1.000000    3.000000   38.000000    1.000000   \n",
       "max     891.000000    1.000000    3.000000   80.000000    8.000000   \n",
       "\n",
       "            Parch        Fare  \n",
       "count  891.000000  891.000000  \n",
       "mean     0.381594   32.204208  \n",
       "std      0.806057   49.693429  \n",
       "min      0.000000    0.000000  \n",
       "25%      0.000000    7.910400  \n",
       "50%      0.000000   14.454200  \n",
       "75%      0.000000   31.000000  \n",
       "max      6.000000  512.329200  "
      ]
     },
     "execution_count": 11,
     "metadata": {},
     "output_type": "execute_result"
    }
   ],
   "source": [
    "df.describe()"
   ]
  },
  {
   "cell_type": "code",
   "execution_count": 12,
   "metadata": {},
   "outputs": [
    {
     "data": {
      "text/html": [
       "<div>\n",
       "<style scoped>\n",
       "    .dataframe tbody tr th:only-of-type {\n",
       "        vertical-align: middle;\n",
       "    }\n",
       "\n",
       "    .dataframe tbody tr th {\n",
       "        vertical-align: top;\n",
       "    }\n",
       "\n",
       "    .dataframe thead th {\n",
       "        text-align: right;\n",
       "    }\n",
       "</style>\n",
       "<table border=\"1\" class=\"dataframe\">\n",
       "  <thead>\n",
       "    <tr style=\"text-align: right;\">\n",
       "      <th></th>\n",
       "      <th>Name</th>\n",
       "      <th>Sex</th>\n",
       "      <th>Ticket</th>\n",
       "      <th>Cabin</th>\n",
       "      <th>Embarked</th>\n",
       "    </tr>\n",
       "  </thead>\n",
       "  <tbody>\n",
       "    <tr>\n",
       "      <th>count</th>\n",
       "      <td>891</td>\n",
       "      <td>891</td>\n",
       "      <td>891</td>\n",
       "      <td>204</td>\n",
       "      <td>889</td>\n",
       "    </tr>\n",
       "    <tr>\n",
       "      <th>unique</th>\n",
       "      <td>891</td>\n",
       "      <td>2</td>\n",
       "      <td>681</td>\n",
       "      <td>147</td>\n",
       "      <td>3</td>\n",
       "    </tr>\n",
       "    <tr>\n",
       "      <th>top</th>\n",
       "      <td>Oreskovic, Mr. Luka</td>\n",
       "      <td>male</td>\n",
       "      <td>347082</td>\n",
       "      <td>C23 C25 C27</td>\n",
       "      <td>S</td>\n",
       "    </tr>\n",
       "    <tr>\n",
       "      <th>freq</th>\n",
       "      <td>1</td>\n",
       "      <td>577</td>\n",
       "      <td>7</td>\n",
       "      <td>4</td>\n",
       "      <td>644</td>\n",
       "    </tr>\n",
       "  </tbody>\n",
       "</table>\n",
       "</div>"
      ],
      "text/plain": [
       "                       Name   Sex  Ticket        Cabin Embarked\n",
       "count                   891   891     891          204      889\n",
       "unique                  891     2     681          147        3\n",
       "top     Oreskovic, Mr. Luka  male  347082  C23 C25 C27        S\n",
       "freq                      1   577       7            4      644"
      ]
     },
     "execution_count": 12,
     "metadata": {},
     "output_type": "execute_result"
    }
   ],
   "source": [
    "df.describe(include='O')"
   ]
  },
  {
   "cell_type": "code",
   "execution_count": 13,
   "metadata": {},
   "outputs": [
    {
     "data": {
      "text/plain": [
       "<AxesSubplot:>"
      ]
     },
     "execution_count": 13,
     "metadata": {},
     "output_type": "execute_result"
    },
    {
     "data": {
      "image/png": "[encoded data removed]",
      "text/plain": [
       "<Figure size 432x288 with 1 Axes>"
      ]
     },
     "metadata": {
      "needs_background": "light"
     },
     "output_type": "display_data"
    }
   ],
   "source": [
    "sns.heatmap(df.isnull(), cmap='viridis', cbar=False, yticklabels=False)"
   ]
  },
  {
   "cell_type": "code",
   "execution_count": 14,
   "metadata": {},
   "outputs": [
    {
     "data": {
      "text/plain": [
       "177"
      ]
     },
     "execution_count": 14,
     "metadata": {},
     "output_type": "execute_result"
    }
   ],
   "source": [
    "df.Age.isna().sum()"
   ]
  },
  {
   "cell_type": "code",
   "execution_count": 15,
   "metadata": {},
   "outputs": [
    {
     "data": {
      "text/plain": [
       "687"
      ]
     },
     "execution_count": 15,
     "metadata": {},
     "output_type": "execute_result"
    }
   ],
   "source": [
    "df.Cabin.isna().sum()"
   ]
  },
  {
   "cell_type": "code",
   "execution_count": 16,
   "metadata": {},
   "outputs": [
    {
     "data": {
      "text/plain": [
       "2"
      ]
     },
     "execution_count": 16,
     "metadata": {},
     "output_type": "execute_result"
    }
   ],
   "source": [
    "df.Embarked.isna().sum()"
   ]
  },
  {
   "cell_type": "code",
   "execution_count": 17,
   "metadata": {},
   "outputs": [],
   "source": [
    "def check_missing_values(df, df_name=None):\n",
    "    print(f'{df_name} - Missing values:')\n",
    "    print('-'*30)\n",
    "    columns = df.columns\n",
    "\n",
    "    for column in columns:\n",
    "        count_missing_values = df[column].isnull().sum()\n",
    "        missing_values = (count_missing_values / len(df[column])) * 100\n",
    "    \n",
    "        if missing_values !=0:\n",
    "            print(f'{column} --> {count_missing_values} values | {missing_values:.2f}%')"
   ]
  },
  {
   "cell_type": "code",
   "execution_count": 18,
   "metadata": {},
   "outputs": [
    {
     "name": "stdout",
     "output_type": "stream",
     "text": [
      "train - Missing values:\n",
      "------------------------------\n",
      "Age --> 177 values | 19.87%\n",
      "Cabin --> 687 values | 77.10%\n",
      "Embarked --> 2 values | 0.22%\n"
     ]
    }
   ],
   "source": [
    "check_missing_values(df,'train')"
   ]
  },
  {
   "cell_type": "code",
   "execution_count": 19,
   "metadata": {},
   "outputs": [
    {
     "name": "stdout",
     "output_type": "stream",
     "text": [
      "test - Missing values:\n",
      "------------------------------\n",
      "Age --> 86 values | 20.57%\n",
      "Fare --> 1 values | 0.24%\n",
      "Cabin --> 327 values | 78.23%\n"
     ]
    }
   ],
   "source": [
    "check_missing_values(test,'test')"
   ]
  },
  {
   "cell_type": "code",
   "execution_count": 20,
   "metadata": {},
   "outputs": [
    {
     "data": {
      "text/html": [
       "<div>\n",
       "<style scoped>\n",
       "    .dataframe tbody tr th:only-of-type {\n",
       "        vertical-align: middle;\n",
       "    }\n",
       "\n",
       "    .dataframe tbody tr th {\n",
       "        vertical-align: top;\n",
       "    }\n",
       "\n",
       "    .dataframe thead th {\n",
       "        text-align: right;\n",
       "    }\n",
       "</style>\n",
       "<table border=\"1\" class=\"dataframe\">\n",
       "  <thead>\n",
       "    <tr style=\"text-align: right;\">\n",
       "      <th></th>\n",
       "      <th>PassengerId</th>\n",
       "      <th>Survived</th>\n",
       "      <th>Pclass</th>\n",
       "      <th>Name</th>\n",
       "      <th>Sex</th>\n",
       "      <th>Age</th>\n",
       "      <th>SibSp</th>\n",
       "      <th>Parch</th>\n",
       "      <th>Ticket</th>\n",
       "      <th>Fare</th>\n",
       "      <th>Cabin</th>\n",
       "      <th>Embarked</th>\n",
       "    </tr>\n",
       "  </thead>\n",
       "  <tbody>\n",
       "    <tr>\n",
       "      <th>5</th>\n",
       "      <td>6</td>\n",
       "      <td>0</td>\n",
       "      <td>3</td>\n",
       "      <td>Moran, Mr. James</td>\n",
       "      <td>male</td>\n",
       "      <td>NaN</td>\n",
       "      <td>0</td>\n",
       "      <td>0</td>\n",
       "      <td>330877</td>\n",
       "      <td>8.4583</td>\n",
       "      <td>NaN</td>\n",
       "      <td>Q</td>\n",
       "    </tr>\n",
       "    <tr>\n",
       "      <th>17</th>\n",
       "      <td>18</td>\n",
       "      <td>1</td>\n",
       "      <td>2</td>\n",
       "      <td>Williams, Mr. Charles Eugene</td>\n",
       "      <td>male</td>\n",
       "      <td>NaN</td>\n",
       "      <td>0</td>\n",
       "      <td>0</td>\n",
       "      <td>244373</td>\n",
       "      <td>13.0000</td>\n",
       "      <td>NaN</td>\n",
       "      <td>S</td>\n",
       "    </tr>\n",
       "    <tr>\n",
       "      <th>19</th>\n",
       "      <td>20</td>\n",
       "      <td>1</td>\n",
       "      <td>3</td>\n",
       "      <td>Masselmani, Mrs. Fatima</td>\n",
       "      <td>female</td>\n",
       "      <td>NaN</td>\n",
       "      <td>0</td>\n",
       "      <td>0</td>\n",
       "      <td>2649</td>\n",
       "      <td>7.2250</td>\n",
       "      <td>NaN</td>\n",
       "      <td>C</td>\n",
       "    </tr>\n",
       "    <tr>\n",
       "      <th>26</th>\n",
       "      <td>27</td>\n",
       "      <td>0</td>\n",
       "      <td>3</td>\n",
       "      <td>Emir, Mr. Farred Chehab</td>\n",
       "      <td>male</td>\n",
       "      <td>NaN</td>\n",
       "      <td>0</td>\n",
       "      <td>0</td>\n",
       "      <td>2631</td>\n",
       "      <td>7.2250</td>\n",
       "      <td>NaN</td>\n",
       "      <td>C</td>\n",
       "    </tr>\n",
       "    <tr>\n",
       "      <th>28</th>\n",
       "      <td>29</td>\n",
       "      <td>1</td>\n",
       "      <td>3</td>\n",
       "      <td>O'Dwyer, Miss. Ellen \"Nellie\"</td>\n",
       "      <td>female</td>\n",
       "      <td>NaN</td>\n",
       "      <td>0</td>\n",
       "      <td>0</td>\n",
       "      <td>330959</td>\n",
       "      <td>7.8792</td>\n",
       "      <td>NaN</td>\n",
       "      <td>Q</td>\n",
       "    </tr>\n",
       "    <tr>\n",
       "      <th>...</th>\n",
       "      <td>...</td>\n",
       "      <td>...</td>\n",
       "      <td>...</td>\n",
       "      <td>...</td>\n",
       "      <td>...</td>\n",
       "      <td>...</td>\n",
       "      <td>...</td>\n",
       "      <td>...</td>\n",
       "      <td>...</td>\n",
       "      <td>...</td>\n",
       "      <td>...</td>\n",
       "      <td>...</td>\n",
       "    </tr>\n",
       "    <tr>\n",
       "      <th>859</th>\n",
       "      <td>860</td>\n",
       "      <td>0</td>\n",
       "      <td>3</td>\n",
       "      <td>Razi, Mr. Raihed</td>\n",
       "      <td>male</td>\n",
       "      <td>NaN</td>\n",
       "      <td>0</td>\n",
       "      <td>0</td>\n",
       "      <td>2629</td>\n",
       "      <td>7.2292</td>\n",
       "      <td>NaN</td>\n",
       "      <td>C</td>\n",
       "    </tr>\n",
       "    <tr>\n",
       "      <th>863</th>\n",
       "      <td>864</td>\n",
       "      <td>0</td>\n",
       "      <td>3</td>\n",
       "      <td>Sage, Miss. Dorothy Edith \"Dolly\"</td>\n",
       "      <td>female</td>\n",
       "      <td>NaN</td>\n",
       "      <td>8</td>\n",
       "      <td>2</td>\n",
       "      <td>CA. 2343</td>\n",
       "      <td>69.5500</td>\n",
       "      <td>NaN</td>\n",
       "      <td>S</td>\n",
       "    </tr>\n",
       "    <tr>\n",
       "      <th>868</th>\n",
       "      <td>869</td>\n",
       "      <td>0</td>\n",
       "      <td>3</td>\n",
       "      <td>van Melkebeke, Mr. Philemon</td>\n",
       "      <td>male</td>\n",
       "      <td>NaN</td>\n",
       "      <td>0</td>\n",
       "      <td>0</td>\n",
       "      <td>345777</td>\n",
       "      <td>9.5000</td>\n",
       "      <td>NaN</td>\n",
       "      <td>S</td>\n",
       "    </tr>\n",
       "    <tr>\n",
       "      <th>878</th>\n",
       "      <td>879</td>\n",
       "      <td>0</td>\n",
       "      <td>3</td>\n",
       "      <td>Laleff, Mr. Kristo</td>\n",
       "      <td>male</td>\n",
       "      <td>NaN</td>\n",
       "      <td>0</td>\n",
       "      <td>0</td>\n",
       "      <td>349217</td>\n",
       "      <td>7.8958</td>\n",
       "      <td>NaN</td>\n",
       "      <td>S</td>\n",
       "    </tr>\n",
       "    <tr>\n",
       "      <th>888</th>\n",
       "      <td>889</td>\n",
       "      <td>0</td>\n",
       "      <td>3</td>\n",
       "      <td>Johnston, Miss. Catherine Helen \"Carrie\"</td>\n",
       "      <td>female</td>\n",
       "      <td>NaN</td>\n",
       "      <td>1</td>\n",
       "      <td>2</td>\n",
       "      <td>W./C. 6607</td>\n",
       "      <td>23.4500</td>\n",
       "      <td>NaN</td>\n",
       "      <td>S</td>\n",
       "    </tr>\n",
       "  </tbody>\n",
       "</table>\n",
       "<p>177 rows × 12 columns</p>\n",
       "</div>"
      ],
      "text/plain": [
       "     PassengerId  Survived  Pclass                                      Name  \\\n",
       "5              6         0       3                          Moran, Mr. James   \n",
       "17            18         1       2              Williams, Mr. Charles Eugene   \n",
       "19            20         1       3                   Masselmani, Mrs. Fatima   \n",
       "26            27         0       3                   Emir, Mr. Farred Chehab   \n",
       "28            29         1       3             O'Dwyer, Miss. Ellen \"Nellie\"   \n",
       "..           ...       ...     ...                                       ...   \n",
       "859          860         0       3                          Razi, Mr. Raihed   \n",
       "863          864         0       3         Sage, Miss. Dorothy Edith \"Dolly\"   \n",
       "868          869         0       3               van Melkebeke, Mr. Philemon   \n",
       "878          879         0       3                        Laleff, Mr. Kristo   \n",
       "888          889         0       3  Johnston, Miss. Catherine Helen \"Carrie\"   \n",
       "\n",
       "        Sex  Age  SibSp  Parch      Ticket     Fare Cabin Embarked  \n",
       "5      male  NaN      0      0      330877   8.4583   NaN        Q  \n",
       "17     male  NaN      0      0      244373  13.0000   NaN        S  \n",
       "19   female  NaN      0      0        2649   7.2250   NaN        C  \n",
       "26     male  NaN      0      0        2631   7.2250   NaN        C  \n",
       "28   female  NaN      0      0      330959   7.8792   NaN        Q  \n",
       "..      ...  ...    ...    ...         ...      ...   ...      ...  \n",
       "859    male  NaN      0      0        2629   7.2292   NaN        C  \n",
       "863  female  NaN      8      2    CA. 2343  69.5500   NaN        S  \n",
       "868    male  NaN      0      0      345777   9.5000   NaN        S  \n",
       "878    male  NaN      0      0      349217   7.8958   NaN        S  \n",
       "888  female  NaN      1      2  W./C. 6607  23.4500   NaN        S  \n",
       "\n",
       "[177 rows x 12 columns]"
      ]
     },
     "execution_count": 20,
     "metadata": {},
     "output_type": "execute_result"
    }
   ],
   "source": [
    "df[df.Age.isna()]"
   ]
  },
  {
   "cell_type": "code",
   "execution_count": 21,
   "metadata": {},
   "outputs": [
    {
     "data": {
      "text/html": [
       "<div>\n",
       "<style scoped>\n",
       "    .dataframe tbody tr th:only-of-type {\n",
       "        vertical-align: middle;\n",
       "    }\n",
       "\n",
       "    .dataframe tbody tr th {\n",
       "        vertical-align: top;\n",
       "    }\n",
       "\n",
       "    .dataframe thead th {\n",
       "        text-align: right;\n",
       "    }\n",
       "</style>\n",
       "<table border=\"1\" class=\"dataframe\">\n",
       "  <thead>\n",
       "    <tr style=\"text-align: right;\">\n",
       "      <th></th>\n",
       "      <th>PassengerId</th>\n",
       "      <th>Survived</th>\n",
       "      <th>Pclass</th>\n",
       "      <th>Name</th>\n",
       "      <th>Sex</th>\n",
       "      <th>Age</th>\n",
       "      <th>SibSp</th>\n",
       "      <th>Parch</th>\n",
       "      <th>Ticket</th>\n",
       "      <th>Fare</th>\n",
       "      <th>Cabin</th>\n",
       "      <th>Embarked</th>\n",
       "    </tr>\n",
       "  </thead>\n",
       "  <tbody>\n",
       "    <tr>\n",
       "      <th>61</th>\n",
       "      <td>62</td>\n",
       "      <td>1</td>\n",
       "      <td>1</td>\n",
       "      <td>Icard, Miss. Amelie</td>\n",
       "      <td>female</td>\n",
       "      <td>38.0</td>\n",
       "      <td>0</td>\n",
       "      <td>0</td>\n",
       "      <td>113572</td>\n",
       "      <td>80.0</td>\n",
       "      <td>B28</td>\n",
       "      <td>NaN</td>\n",
       "    </tr>\n",
       "    <tr>\n",
       "      <th>829</th>\n",
       "      <td>830</td>\n",
       "      <td>1</td>\n",
       "      <td>1</td>\n",
       "      <td>Stone, Mrs. George Nelson (Martha Evelyn)</td>\n",
       "      <td>female</td>\n",
       "      <td>62.0</td>\n",
       "      <td>0</td>\n",
       "      <td>0</td>\n",
       "      <td>113572</td>\n",
       "      <td>80.0</td>\n",
       "      <td>B28</td>\n",
       "      <td>NaN</td>\n",
       "    </tr>\n",
       "  </tbody>\n",
       "</table>\n",
       "</div>"
      ],
      "text/plain": [
       "     PassengerId  Survived  Pclass                                       Name  \\\n",
       "61            62         1       1                        Icard, Miss. Amelie   \n",
       "829          830         1       1  Stone, Mrs. George Nelson (Martha Evelyn)   \n",
       "\n",
       "        Sex   Age  SibSp  Parch  Ticket  Fare Cabin Embarked  \n",
       "61   female  38.0      0      0  113572  80.0   B28      NaN  \n",
       "829  female  62.0      0      0  113572  80.0   B28      NaN  "
      ]
     },
     "execution_count": 21,
     "metadata": {},
     "output_type": "execute_result"
    }
   ],
   "source": [
    "df[df.Embarked.isna()]"
   ]
  },
  {
   "cell_type": "markdown",
   "metadata": {},
   "source": [
    "Summary of Variables and what to do with each one\n",
    "\n",
    "PassengerId: Unique identification of the passenger. -> Delete\n",
    "\n",
    "Survived: Survival (0 = No, 1 = Yes). -> Ready\n",
    "\n",
    "Pclass: Ticket class (1 = 1st, 2 = 2nd, 3 = 3rd). -> Encode (categorical)\n",
    "\n",
    "Name: Name of the passenger. -> Still don't know\n",
    "\n",
    "Sex: Sex. -> Encode (categorical)\n",
    "\n",
    "Age: Age in years. -> Fill missing values in an easy way and maybe group in intervals\n",
    "\n",
    "SibSp: # of siblings / spouses aboard the Titanic. -> Ready\n",
    "\n",
    "Parch: # of parents / children aboard the Titanic. -> Ready\n",
    "\n",
    "Ticket: Ticket number. -> Delete?\n",
    "\n",
    "Fare: Passenger fare. -> Maybe group in intervals\n",
    "\n",
    "Cabin: Cabin number. -> Delete\n",
    "\n",
    "Embarked: Port of Embarkation. Encode (categorical)"
   ]
  },
  {
   "cell_type": "code",
   "execution_count": 22,
   "metadata": {},
   "outputs": [
    {
     "name": "stdout",
     "output_type": "stream",
     "text": [
      "`0` alone contributes to 0    61.62\n",
      "1    38.38\n",
      "Name: Survived, dtype: float64% of Survived\n",
      "----------------------------------\n",
      "`3` alone contributes to 3    55.11\n",
      "1    24.24\n",
      "2    20.65\n",
      "Name: Pclass, dtype: float64% of Pclass\n",
      "----------------------------------\n",
      "`male` alone contributes to male      64.76\n",
      "female    35.24\n",
      "Name: Sex, dtype: float64% of Sex\n",
      "----------------------------------\n",
      "`0` alone contributes to 0    76.09\n",
      "1    13.24\n",
      "2     8.98\n",
      "5     0.56\n",
      "3     0.56\n",
      "4     0.45\n",
      "6     0.11\n",
      "Name: Parch, dtype: float64% of Parch\n",
      "----------------------------------\n",
      "`0` alone contributes to 0    68.24\n",
      "1    23.46\n",
      "2     3.14\n",
      "4     2.02\n",
      "3     1.80\n",
      "8     0.79\n",
      "5     0.56\n",
      "Name: SibSp, dtype: float64% of SibSp\n",
      "----------------------------------\n",
      "`S` alone contributes to S    72.28\n",
      "C    18.86\n",
      "Q     8.64\n",
      "Name: Embarked, dtype: float64% of Embarked\n",
      "----------------------------------\n"
     ]
    }
   ],
   "source": [
    "for i,cat in enumerate(df[['Survived', 'Pclass', 'Sex', 'Parch', 'SibSp', 'Embarked']]):\n",
    "    val_counts = df[cat].value_counts()\n",
    "    dominant_frac = val_counts.iloc[0:7] / len(df)\n",
    "    print(f'`{val_counts.index[0]}` alone contributes to {round(dominant_frac * 100, 2)}% of {cat}')\n",
    "    print('----------------------------------')"
   ]
  },
  {
   "cell_type": "code",
   "execution_count": 23,
   "metadata": {},
   "outputs": [
    {
     "data": {
      "text/html": [
       "<div>\n",
       "<style scoped>\n",
       "    .dataframe tbody tr th:only-of-type {\n",
       "        vertical-align: middle;\n",
       "    }\n",
       "\n",
       "    .dataframe tbody tr th {\n",
       "        vertical-align: top;\n",
       "    }\n",
       "\n",
       "    .dataframe thead th {\n",
       "        text-align: right;\n",
       "    }\n",
       "</style>\n",
       "<table border=\"1\" class=\"dataframe\">\n",
       "  <thead>\n",
       "    <tr style=\"text-align: right;\">\n",
       "      <th></th>\n",
       "      <th>Pclass</th>\n",
       "      <th>Survived</th>\n",
       "    </tr>\n",
       "  </thead>\n",
       "  <tbody>\n",
       "    <tr>\n",
       "      <th>0</th>\n",
       "      <td>1</td>\n",
       "      <td>0.629630</td>\n",
       "    </tr>\n",
       "    <tr>\n",
       "      <th>1</th>\n",
       "      <td>2</td>\n",
       "      <td>0.472826</td>\n",
       "    </tr>\n",
       "    <tr>\n",
       "      <th>2</th>\n",
       "      <td>3</td>\n",
       "      <td>0.242363</td>\n",
       "    </tr>\n",
       "  </tbody>\n",
       "</table>\n",
       "</div>"
      ],
      "text/plain": [
       "   Pclass  Survived\n",
       "0       1  0.629630\n",
       "1       2  0.472826\n",
       "2       3  0.242363"
      ]
     },
     "execution_count": 23,
     "metadata": {},
     "output_type": "execute_result"
    }
   ],
   "source": [
    "df[['Pclass', 'Survived']].groupby(['Pclass'], as_index=False).mean().sort_values(by='Survived', ascending=False)"
   ]
  },
  {
   "cell_type": "code",
   "execution_count": 24,
   "metadata": {},
   "outputs": [
    {
     "data": {
      "text/html": [
       "<div>\n",
       "<style scoped>\n",
       "    .dataframe tbody tr th:only-of-type {\n",
       "        vertical-align: middle;\n",
       "    }\n",
       "\n",
       "    .dataframe tbody tr th {\n",
       "        vertical-align: top;\n",
       "    }\n",
       "\n",
       "    .dataframe thead th {\n",
       "        text-align: right;\n",
       "    }\n",
       "</style>\n",
       "<table border=\"1\" class=\"dataframe\">\n",
       "  <thead>\n",
       "    <tr style=\"text-align: right;\">\n",
       "      <th></th>\n",
       "      <th>Sex</th>\n",
       "      <th>Survived</th>\n",
       "    </tr>\n",
       "  </thead>\n",
       "  <tbody>\n",
       "    <tr>\n",
       "      <th>0</th>\n",
       "      <td>female</td>\n",
       "      <td>0.742038</td>\n",
       "    </tr>\n",
       "    <tr>\n",
       "      <th>1</th>\n",
       "      <td>male</td>\n",
       "      <td>0.188908</td>\n",
       "    </tr>\n",
       "  </tbody>\n",
       "</table>\n",
       "</div>"
      ],
      "text/plain": [
       "      Sex  Survived\n",
       "0  female  0.742038\n",
       "1    male  0.188908"
      ]
     },
     "execution_count": 24,
     "metadata": {},
     "output_type": "execute_result"
    }
   ],
   "source": [
    "df[[\"Sex\", \"Survived\"]].groupby(['Sex'], as_index=False).mean().sort_values(by='Survived', ascending=False)"
   ]
  },
  {
   "cell_type": "code",
   "execution_count": 25,
   "metadata": {},
   "outputs": [
    {
     "data": {
      "text/html": [
       "<div>\n",
       "<style scoped>\n",
       "    .dataframe tbody tr th:only-of-type {\n",
       "        vertical-align: middle;\n",
       "    }\n",
       "\n",
       "    .dataframe tbody tr th {\n",
       "        vertical-align: top;\n",
       "    }\n",
       "\n",
       "    .dataframe thead th {\n",
       "        text-align: right;\n",
       "    }\n",
       "</style>\n",
       "<table border=\"1\" class=\"dataframe\">\n",
       "  <thead>\n",
       "    <tr style=\"text-align: right;\">\n",
       "      <th></th>\n",
       "      <th>SibSp</th>\n",
       "      <th>Survived</th>\n",
       "    </tr>\n",
       "  </thead>\n",
       "  <tbody>\n",
       "    <tr>\n",
       "      <th>1</th>\n",
       "      <td>1</td>\n",
       "      <td>0.535885</td>\n",
       "    </tr>\n",
       "    <tr>\n",
       "      <th>2</th>\n",
       "      <td>2</td>\n",
       "      <td>0.464286</td>\n",
       "    </tr>\n",
       "    <tr>\n",
       "      <th>0</th>\n",
       "      <td>0</td>\n",
       "      <td>0.345395</td>\n",
       "    </tr>\n",
       "    <tr>\n",
       "      <th>3</th>\n",
       "      <td>3</td>\n",
       "      <td>0.250000</td>\n",
       "    </tr>\n",
       "    <tr>\n",
       "      <th>4</th>\n",
       "      <td>4</td>\n",
       "      <td>0.166667</td>\n",
       "    </tr>\n",
       "    <tr>\n",
       "      <th>5</th>\n",
       "      <td>5</td>\n",
       "      <td>0.000000</td>\n",
       "    </tr>\n",
       "    <tr>\n",
       "      <th>6</th>\n",
       "      <td>8</td>\n",
       "      <td>0.000000</td>\n",
       "    </tr>\n",
       "  </tbody>\n",
       "</table>\n",
       "</div>"
      ],
      "text/plain": [
       "   SibSp  Survived\n",
       "1      1  0.535885\n",
       "2      2  0.464286\n",
       "0      0  0.345395\n",
       "3      3  0.250000\n",
       "4      4  0.166667\n",
       "5      5  0.000000\n",
       "6      8  0.000000"
      ]
     },
     "execution_count": 25,
     "metadata": {},
     "output_type": "execute_result"
    }
   ],
   "source": [
    "df[[\"SibSp\", \"Survived\"]].groupby(['SibSp'], as_index=False).mean().sort_values(by='Survived', ascending=False)"
   ]
  },
  {
   "cell_type": "code",
   "execution_count": 26,
   "metadata": {},
   "outputs": [
    {
     "data": {
      "text/html": [
       "<div>\n",
       "<style scoped>\n",
       "    .dataframe tbody tr th:only-of-type {\n",
       "        vertical-align: middle;\n",
       "    }\n",
       "\n",
       "    .dataframe tbody tr th {\n",
       "        vertical-align: top;\n",
       "    }\n",
       "\n",
       "    .dataframe thead th {\n",
       "        text-align: right;\n",
       "    }\n",
       "</style>\n",
       "<table border=\"1\" class=\"dataframe\">\n",
       "  <thead>\n",
       "    <tr style=\"text-align: right;\">\n",
       "      <th></th>\n",
       "      <th>Parch</th>\n",
       "      <th>Survived</th>\n",
       "    </tr>\n",
       "  </thead>\n",
       "  <tbody>\n",
       "    <tr>\n",
       "      <th>3</th>\n",
       "      <td>3</td>\n",
       "      <td>0.600000</td>\n",
       "    </tr>\n",
       "    <tr>\n",
       "      <th>1</th>\n",
       "      <td>1</td>\n",
       "      <td>0.550847</td>\n",
       "    </tr>\n",
       "    <tr>\n",
       "      <th>2</th>\n",
       "      <td>2</td>\n",
       "      <td>0.500000</td>\n",
       "    </tr>\n",
       "    <tr>\n",
       "      <th>0</th>\n",
       "      <td>0</td>\n",
       "      <td>0.343658</td>\n",
       "    </tr>\n",
       "    <tr>\n",
       "      <th>5</th>\n",
       "      <td>5</td>\n",
       "      <td>0.200000</td>\n",
       "    </tr>\n",
       "    <tr>\n",
       "      <th>4</th>\n",
       "      <td>4</td>\n",
       "      <td>0.000000</td>\n",
       "    </tr>\n",
       "    <tr>\n",
       "      <th>6</th>\n",
       "      <td>6</td>\n",
       "      <td>0.000000</td>\n",
       "    </tr>\n",
       "  </tbody>\n",
       "</table>\n",
       "</div>"
      ],
      "text/plain": [
       "   Parch  Survived\n",
       "3      3  0.600000\n",
       "1      1  0.550847\n",
       "2      2  0.500000\n",
       "0      0  0.343658\n",
       "5      5  0.200000\n",
       "4      4  0.000000\n",
       "6      6  0.000000"
      ]
     },
     "execution_count": 26,
     "metadata": {},
     "output_type": "execute_result"
    }
   ],
   "source": [
    "df[[\"Parch\", \"Survived\"]].groupby(['Parch'], as_index=False).mean().sort_values(by='Survived', ascending=False)"
   ]
  },
  {
   "cell_type": "code",
   "execution_count": 27,
   "metadata": {},
   "outputs": [
    {
     "data": {
      "text/html": [
       "<div>\n",
       "<style scoped>\n",
       "    .dataframe tbody tr th:only-of-type {\n",
       "        vertical-align: middle;\n",
       "    }\n",
       "\n",
       "    .dataframe tbody tr th {\n",
       "        vertical-align: top;\n",
       "    }\n",
       "\n",
       "    .dataframe thead th {\n",
       "        text-align: right;\n",
       "    }\n",
       "</style>\n",
       "<table border=\"1\" class=\"dataframe\">\n",
       "  <thead>\n",
       "    <tr style=\"text-align: right;\">\n",
       "      <th></th>\n",
       "      <th>Embarked</th>\n",
       "      <th>Survived</th>\n",
       "    </tr>\n",
       "  </thead>\n",
       "  <tbody>\n",
       "    <tr>\n",
       "      <th>0</th>\n",
       "      <td>C</td>\n",
       "      <td>0.553571</td>\n",
       "    </tr>\n",
       "    <tr>\n",
       "      <th>1</th>\n",
       "      <td>Q</td>\n",
       "      <td>0.389610</td>\n",
       "    </tr>\n",
       "    <tr>\n",
       "      <th>2</th>\n",
       "      <td>S</td>\n",
       "      <td>0.336957</td>\n",
       "    </tr>\n",
       "  </tbody>\n",
       "</table>\n",
       "</div>"
      ],
      "text/plain": [
       "  Embarked  Survived\n",
       "0        C  0.553571\n",
       "1        Q  0.389610\n",
       "2        S  0.336957"
      ]
     },
     "execution_count": 27,
     "metadata": {},
     "output_type": "execute_result"
    }
   ],
   "source": [
    "df[[\"Embarked\", \"Survived\"]].groupby(['Embarked'], as_index=False).mean().sort_values(by='Survived', ascending=False)"
   ]
  },
  {
   "cell_type": "code",
   "execution_count": 28,
   "metadata": {},
   "outputs": [
    {
     "data": {
      "text/plain": [
       "<seaborn.axisgrid.FacetGrid at 0x1a0fb6b2c40>"
      ]
     },
     "execution_count": 28,
     "metadata": {},
     "output_type": "execute_result"
    },
    {
     "data": {
      "image/png": "[encoded data removed]",
      "text/plain": [
       "<Figure size 432x216 with 2 Axes>"
      ]
     },
     "metadata": {
      "needs_background": "light"
     },
     "output_type": "display_data"
    }
   ],
   "source": [
    "g = sns.FacetGrid(df, col='Survived')\n",
    "g.map(plt.hist, 'Age', bins=20)"
   ]
  },
  {
   "cell_type": "markdown",
   "metadata": {},
   "source": [
    "Infants (Age <=4) had high survival rate.\n",
    "\n",
    "Oldest passengers (Age = 80) survived.\n",
    "\n",
    "Large number of 15-25 year olds did not survive.\n",
    "\n",
    "Most passengers are in 15-35 age range."
   ]
  },
  {
   "cell_type": "code",
   "execution_count": 29,
   "metadata": {},
   "outputs": [],
   "source": [
    "df['numeric_ticket'] = df.Ticket.apply(lambda x: 1 if x.isnumeric() else 0)\n",
    "df['ticket_letters'] = df.Ticket.apply(lambda x: ''.join(x.split(' ')[:-1])\\\n",
    ".replace('.','').replace('/','').lower() if len(x.split(' ')[:-1]) >0 else 0)"
   ]
  },
  {
   "cell_type": "code",
   "execution_count": 30,
   "metadata": {},
   "outputs": [],
   "source": [
    "test['numeric_ticket'] = test.Ticket.apply(lambda x: 1 if x.isnumeric() else 0)\n",
    "test['ticket_letters'] = test.Ticket.apply(lambda x: ''.join(x.split(' ')[:-1])\\\n",
    ".replace('.','').replace('/','').lower() if len(x.split(' ')[:-1]) >0 else 0)"
   ]
  },
  {
   "cell_type": "code",
   "execution_count": 31,
   "metadata": {},
   "outputs": [
    {
     "data": {
      "text/plain": [
       "1    661\n",
       "0    230\n",
       "Name: numeric_ticket, dtype: int64"
      ]
     },
     "execution_count": 31,
     "metadata": {},
     "output_type": "execute_result"
    }
   ],
   "source": [
    "df['numeric_ticket'].value_counts()"
   ]
  },
  {
   "cell_type": "code",
   "execution_count": 32,
   "metadata": {},
   "outputs": [
    {
     "data": {
      "text/plain": [
       "1    296\n",
       "0    122\n",
       "Name: numeric_ticket, dtype: int64"
      ]
     },
     "execution_count": 32,
     "metadata": {},
     "output_type": "execute_result"
    }
   ],
   "source": [
    "test['numeric_ticket'].value_counts()"
   ]
  },
  {
   "cell_type": "code",
   "execution_count": 33,
   "metadata": {},
   "outputs": [
    {
     "data": {
      "text/plain": [
       "0            665\n",
       "pc            60\n",
       "ca            41\n",
       "a5            21\n",
       "stono2        18\n",
       "sotonoq       15\n",
       "scparis       11\n",
       "wc            10\n",
       "a4             7\n",
       "soc            6\n",
       "c              5\n",
       "fcc            5\n",
       "pp             3\n",
       "sopp           3\n",
       "wep            3\n",
       "sotono2        2\n",
       "scah           2\n",
       "ppp            2\n",
       "swpp           2\n",
       "fa             1\n",
       "scahbasle      1\n",
       "sca4           1\n",
       "fc             1\n",
       "sc             1\n",
       "as             1\n",
       "casoton        1\n",
       "sop            1\n",
       "sp             1\n",
       "scow           1\n",
       "Name: ticket_letters, dtype: int64"
      ]
     },
     "execution_count": 33,
     "metadata": {},
     "output_type": "execute_result"
    }
   ],
   "source": [
    "df['ticket_letters'].value_counts()"
   ]
  },
  {
   "cell_type": "code",
   "execution_count": 34,
   "metadata": {},
   "outputs": [
    {
     "data": {
      "text/html": [
       "<div>\n",
       "<style scoped>\n",
       "    .dataframe tbody tr th:only-of-type {\n",
       "        vertical-align: middle;\n",
       "    }\n",
       "\n",
       "    .dataframe tbody tr th {\n",
       "        vertical-align: top;\n",
       "    }\n",
       "\n",
       "    .dataframe thead th {\n",
       "        text-align: right;\n",
       "    }\n",
       "</style>\n",
       "<table border=\"1\" class=\"dataframe\">\n",
       "  <thead>\n",
       "    <tr style=\"text-align: right;\">\n",
       "      <th>numeric_ticket</th>\n",
       "      <th>0</th>\n",
       "      <th>1</th>\n",
       "    </tr>\n",
       "    <tr>\n",
       "      <th>Survived</th>\n",
       "      <th></th>\n",
       "      <th></th>\n",
       "    </tr>\n",
       "  </thead>\n",
       "  <tbody>\n",
       "    <tr>\n",
       "      <th>0</th>\n",
       "      <td>142</td>\n",
       "      <td>407</td>\n",
       "    </tr>\n",
       "    <tr>\n",
       "      <th>1</th>\n",
       "      <td>88</td>\n",
       "      <td>254</td>\n",
       "    </tr>\n",
       "  </tbody>\n",
       "</table>\n",
       "</div>"
      ],
      "text/plain": [
       "numeric_ticket    0    1\n",
       "Survived                \n",
       "0               142  407\n",
       "1                88  254"
      ]
     },
     "execution_count": 34,
     "metadata": {},
     "output_type": "execute_result"
    }
   ],
   "source": [
    "pd.pivot_table(df,index='Survived',columns='numeric_ticket', values = 'Ticket', aggfunc='count')"
   ]
  },
  {
   "cell_type": "code",
   "execution_count": 35,
   "metadata": {},
   "outputs": [
    {
     "data": {
      "text/html": [
       "<div>\n",
       "<style scoped>\n",
       "    .dataframe tbody tr th:only-of-type {\n",
       "        vertical-align: middle;\n",
       "    }\n",
       "\n",
       "    .dataframe tbody tr th {\n",
       "        vertical-align: top;\n",
       "    }\n",
       "\n",
       "    .dataframe thead th {\n",
       "        text-align: right;\n",
       "    }\n",
       "</style>\n",
       "<table border=\"1\" class=\"dataframe\">\n",
       "  <thead>\n",
       "    <tr style=\"text-align: right;\">\n",
       "      <th>ticket_letters</th>\n",
       "      <th>0</th>\n",
       "      <th>a4</th>\n",
       "      <th>a5</th>\n",
       "      <th>as</th>\n",
       "      <th>c</th>\n",
       "      <th>ca</th>\n",
       "      <th>casoton</th>\n",
       "      <th>fa</th>\n",
       "      <th>fc</th>\n",
       "      <th>fcc</th>\n",
       "      <th>...</th>\n",
       "      <th>soc</th>\n",
       "      <th>sop</th>\n",
       "      <th>sopp</th>\n",
       "      <th>sotono2</th>\n",
       "      <th>sotonoq</th>\n",
       "      <th>sp</th>\n",
       "      <th>stono2</th>\n",
       "      <th>swpp</th>\n",
       "      <th>wc</th>\n",
       "      <th>wep</th>\n",
       "    </tr>\n",
       "    <tr>\n",
       "      <th>Survived</th>\n",
       "      <th></th>\n",
       "      <th></th>\n",
       "      <th></th>\n",
       "      <th></th>\n",
       "      <th></th>\n",
       "      <th></th>\n",
       "      <th></th>\n",
       "      <th></th>\n",
       "      <th></th>\n",
       "      <th></th>\n",
       "      <th></th>\n",
       "      <th></th>\n",
       "      <th></th>\n",
       "      <th></th>\n",
       "      <th></th>\n",
       "      <th></th>\n",
       "      <th></th>\n",
       "      <th></th>\n",
       "      <th></th>\n",
       "      <th></th>\n",
       "      <th></th>\n",
       "    </tr>\n",
       "  </thead>\n",
       "  <tbody>\n",
       "    <tr>\n",
       "      <th>0</th>\n",
       "      <td>410.0</td>\n",
       "      <td>7.0</td>\n",
       "      <td>19.0</td>\n",
       "      <td>1.0</td>\n",
       "      <td>3.0</td>\n",
       "      <td>27.0</td>\n",
       "      <td>1.0</td>\n",
       "      <td>1.0</td>\n",
       "      <td>1.0</td>\n",
       "      <td>1.0</td>\n",
       "      <td>...</td>\n",
       "      <td>5.0</td>\n",
       "      <td>1.0</td>\n",
       "      <td>3.0</td>\n",
       "      <td>2.0</td>\n",
       "      <td>13.0</td>\n",
       "      <td>1.0</td>\n",
       "      <td>10.0</td>\n",
       "      <td>NaN</td>\n",
       "      <td>9.0</td>\n",
       "      <td>2.0</td>\n",
       "    </tr>\n",
       "    <tr>\n",
       "      <th>1</th>\n",
       "      <td>255.0</td>\n",
       "      <td>NaN</td>\n",
       "      <td>2.0</td>\n",
       "      <td>NaN</td>\n",
       "      <td>2.0</td>\n",
       "      <td>14.0</td>\n",
       "      <td>NaN</td>\n",
       "      <td>NaN</td>\n",
       "      <td>NaN</td>\n",
       "      <td>4.0</td>\n",
       "      <td>...</td>\n",
       "      <td>1.0</td>\n",
       "      <td>NaN</td>\n",
       "      <td>NaN</td>\n",
       "      <td>NaN</td>\n",
       "      <td>2.0</td>\n",
       "      <td>NaN</td>\n",
       "      <td>8.0</td>\n",
       "      <td>2.0</td>\n",
       "      <td>1.0</td>\n",
       "      <td>1.0</td>\n",
       "    </tr>\n",
       "  </tbody>\n",
       "</table>\n",
       "<p>2 rows × 29 columns</p>\n",
       "</div>"
      ],
      "text/plain": [
       "ticket_letters      0   a4    a5   as    c    ca  casoton   fa   fc  fcc  ...  \\\n",
       "Survived                                                                  ...   \n",
       "0               410.0  7.0  19.0  1.0  3.0  27.0      1.0  1.0  1.0  1.0  ...   \n",
       "1               255.0  NaN   2.0  NaN  2.0  14.0      NaN  NaN  NaN  4.0  ...   \n",
       "\n",
       "ticket_letters  soc  sop  sopp  sotono2  sotonoq   sp  stono2  swpp   wc  wep  \n",
       "Survived                                                                       \n",
       "0               5.0  1.0   3.0      2.0     13.0  1.0    10.0   NaN  9.0  2.0  \n",
       "1               1.0  NaN   NaN      NaN      2.0  NaN     8.0   2.0  1.0  1.0  \n",
       "\n",
       "[2 rows x 29 columns]"
      ]
     },
     "execution_count": 35,
     "metadata": {},
     "output_type": "execute_result"
    }
   ],
   "source": [
    "pd.pivot_table(df,index='Survived',columns='ticket_letters', values = 'Ticket', aggfunc='count')"
   ]
  },
  {
   "cell_type": "code",
   "execution_count": 36,
   "metadata": {},
   "outputs": [],
   "source": [
    "df['cabin_multiple'] = df.Cabin.apply(lambda x: 0 if pd.isna(x) else len(x.split(' ')))\n",
    "df['cabin_adv'] = df.Cabin.apply(lambda x: str(x)[0])\n",
    "df['numeric_ticket'] = df.Ticket.apply(lambda x: 1 if x.isnumeric() else 0)\n",
    "df['ticket_letters'] = df.Ticket.apply(lambda x: ''.join(x.split(' ')[:-1]).replace('.','').replace('/','').lower() if len(x.split(' ')[:-1]) >0 else 0)\n",
    "df['name_title'] = df.Name.apply(lambda x: x.split(',')[1].split('.')[0].strip())"
   ]
  },
  {
   "cell_type": "code",
   "execution_count": 37,
   "metadata": {},
   "outputs": [],
   "source": [
    "test['cabin_multiple'] = test.Cabin.apply(lambda x: 0 if pd.isna(x) else len(x.split(' ')))\n",
    "test['cabin_adv'] = test.Cabin.apply(lambda x: str(x)[0])\n",
    "test['numeric_ticket'] = test.Ticket.apply(lambda x: 1 if x.isnumeric() else 0)\n",
    "test['ticket_letters'] = test.Ticket.apply(lambda x: ''.join(x.split(' ')[:-1]).replace('.','').replace('/','').lower() if len(x.split(' ')[:-1]) >0 else 0)\n",
    "test['name_title'] = test.Name.apply(lambda x: x.split(',')[1].split('.')[0].strip())"
   ]
  },
  {
   "cell_type": "code",
   "execution_count": 38,
   "metadata": {},
   "outputs": [],
   "source": [
    "df['norm_sibsp'] = np.log(df.SibSp+1)\n",
    "df['norm_Parch'] = np.log(df.Parch+1)\n",
    "\n",
    "df['norm_fare'] = np.log(df.Fare+1)"
   ]
  },
  {
   "cell_type": "code",
   "execution_count": 39,
   "metadata": {},
   "outputs": [],
   "source": [
    "test['norm_sibsp'] = np.log(test.SibSp+1)\n",
    "test['norm_Parch'] = np.log(test.Parch+1)"
   ]
  },
  {
   "cell_type": "code",
   "execution_count": 40,
   "metadata": {},
   "outputs": [],
   "source": [
    "df.drop(['PassengerId', 'Cabin', 'Ticket'], axis=1, inplace=True)\n",
    "test.drop(['Cabin', 'Ticket'], axis=1, inplace=True)"
   ]
  },
  {
   "cell_type": "code",
   "execution_count": 41,
   "metadata": {},
   "outputs": [
    {
     "data": {
      "image/png": "[encoded data removed]",
      "text/plain": [
       "<Figure size 720x504 with 12 Axes>"
      ]
     },
     "metadata": {
      "needs_background": "light"
     },
     "output_type": "display_data"
    }
   ],
   "source": [
    "df.hist(bins=15, figsize=(10, 7))\n",
    "plt.tight_layout()"
   ]
  },
  {
   "cell_type": "code",
   "execution_count": 42,
   "metadata": {},
   "outputs": [
    {
     "data": {
      "text/plain": [
       "<AxesSubplot:xlabel='Age', ylabel='Density'>"
      ]
     },
     "execution_count": 42,
     "metadata": {},
     "output_type": "execute_result"
    },
    {
     "data": {
      "image/png": "[encoded data removed]",
      "text/plain": [
       "<Figure size 1440x360 with 4 Axes>"
      ]
     },
     "metadata": {
      "needs_background": "light"
     },
     "output_type": "display_data"
    }
   ],
   "source": [
    "fig, axes = plt.subplots(1, 4, figsize=(20,5))\n",
    "\n",
    "sns.distplot(df['Age'].dropna(), kde=False, bins=30, ax=axes[0])\n",
    "axes[0].set_title('Age Distribution overall')\n",
    "\n",
    "sns.distplot(df[df['Sex']=='male']['Age'].dropna(),\n",
    "             kde=False, color='blue', bins=30, ax=axes[1])\n",
    "axes[1].set_title('Age Distribution (Male)')\n",
    "\n",
    "sns.distplot(df[df['Sex']=='female']['Age'].dropna(),\n",
    "             kde=False, color='orange', bins=30, ax=axes[2])\n",
    "axes[2].set_title('Age Distribution (Female)')\n",
    "\n",
    "sns.kdeplot(df[df['Sex']=='male']['Age'].dropna(),\n",
    "            color='blue', ax=axes[3])\n",
    "sns.kdeplot(df[df['Sex']=='female']['Age'].dropna(),\n",
    "            color='orange', ax=axes[3])"
   ]
  },
  {
   "cell_type": "markdown",
   "metadata": {},
   "source": [
    "The distributions by sex are similar\n",
    "\n",
    "There are extreme values (outliers?)"
   ]
  },
  {
   "cell_type": "code",
   "execution_count": 43,
   "metadata": {},
   "outputs": [
    {
     "data": {
      "text/plain": [
       "Text(0, 0.5, '')"
      ]
     },
     "execution_count": 43,
     "metadata": {},
     "output_type": "execute_result"
    },
    {
     "data": {
      "image/png": "[encoded data removed]",
      "text/plain": [
       "<Figure size 864x360 with 2 Axes>"
      ]
     },
     "metadata": {
      "needs_background": "light"
     },
     "output_type": "display_data"
    }
   ],
   "source": [
    "fig, axes = plt.subplots(1, 2, figsize=(12,5))\n",
    "\n",
    "sns.countplot(x='Sex', data=df, ax=axes[0])\n",
    "axes[0].set_title('Number of males and females')\n",
    "\n",
    "sns.countplot(x='Sex', hue='Survived', data=df, ax=axes[1], palette='Set3')\n",
    "axes[1].set_title('Survival by sex')\n",
    "axes[1].set_ylabel('')"
   ]
  },
  {
   "cell_type": "markdown",
   "metadata": {},
   "source": [
    "There are more males than females\n",
    "\n",
    "Males tend to die, Females tend to survive"
   ]
  },
  {
   "cell_type": "code",
   "execution_count": 44,
   "metadata": {},
   "outputs": [
    {
     "data": {
      "image/png": "[encoded data removed]",
      "text/plain": [
       "<Figure size 1152x360 with 3 Axes>"
      ]
     },
     "metadata": {
      "needs_background": "light"
     },
     "output_type": "display_data"
    }
   ],
   "source": [
    "fig, axes = plt.subplots(1, 3, figsize=(16,5))\n",
    "\n",
    "sns.countplot(x='Pclass', data=df, ax=axes[0], palette='Set1')\n",
    "axes[0].set_title('Number of people in each Pclass')\n",
    "\n",
    "sns.countplot(x='Pclass', hue='Sex', data=df, ax=axes[1])\n",
    "axes[1].set_title('Sex by Pclass')\n",
    "axes[1].set_ylabel('')\n",
    "\n",
    "sns.countplot(x='Pclass', hue='Survived', data=df, ax=axes[2], palette='Set3')\n",
    "axes[2].set_title('Survival by Pclass')\n",
    "axes[2].set_ylabel('')\n",
    "\n",
    "plt.tight_layout()"
   ]
  },
  {
   "cell_type": "markdown",
   "metadata": {},
   "source": [
    "More people in third class\n",
    "\n",
    "Higher ratio Survive:Die in third class\n",
    "\n",
    "More men than women die indepentedly of the class"
   ]
  },
  {
   "cell_type": "code",
   "execution_count": 45,
   "metadata": {},
   "outputs": [
    {
     "data": {
      "text/plain": [
       "<seaborn.axisgrid.FacetGrid at 0x1a0fbc2a0a0>"
      ]
     },
     "execution_count": 45,
     "metadata": {},
     "output_type": "execute_result"
    },
    {
     "data": {
      "image/png": "[encoded data removed]",
      "text/plain": [
       "<Figure size 833.17x158.4 with 3 Axes>"
      ]
     },
     "metadata": {
      "needs_background": "light"
     },
     "output_type": "display_data"
    }
   ],
   "source": [
    "grid = sns.FacetGrid(df, col='Pclass', size=2.2, aspect=1.6)\n",
    "grid.map(sns.pointplot, 'Embarked', 'Survived', 'Sex', palette='deep')\n",
    "grid.add_legend()"
   ]
  },
  {
   "cell_type": "code",
   "execution_count": 46,
   "metadata": {},
   "outputs": [
    {
     "data": {
      "image/png": "[encoded data removed]",
      "text/plain": [
       "<Figure size 515.68x475.2 with 6 Axes>"
      ]
     },
     "metadata": {
      "needs_background": "light"
     },
     "output_type": "display_data"
    }
   ],
   "source": [
    "grid = sns.FacetGrid(df, col='Survived', row='Pclass', size=2.2, aspect=1.6)\n",
    "grid.map(plt.hist, 'Age', alpha=.5, bins=20)\n",
    "grid.add_legend();"
   ]
  },
  {
   "cell_type": "markdown",
   "metadata": {},
   "source": [
    "Pclass=3 had most passengers, however most did not survive. \n",
    "\n",
    "Infant passengers in Pclass=2 and Pclass=3 mostly survived.\n",
    "\n",
    "Most passengers in Pclass=1 survived.\n",
    "\n",
    "Pclass varies in terms of Age distribution of passengers."
   ]
  },
  {
   "cell_type": "code",
   "execution_count": 47,
   "metadata": {},
   "outputs": [
    {
     "data": {
      "image/png": "[encoded data removed]",
      "text/plain": [
       "<Figure size 1152x360 with 3 Axes>"
      ]
     },
     "metadata": {
      "needs_background": "light"
     },
     "output_type": "display_data"
    }
   ],
   "source": [
    "fig, axes = plt.subplots(1, 3, figsize=(16,5))\n",
    "\n",
    "sns.countplot(x='Embarked', data=df, ax=axes[0], palette='Set1')\n",
    "axes[0].set_title('Number of people in each Embarkation')\n",
    "\n",
    "sns.countplot(x='Embarked', hue='Sex', data=df, ax=axes[1])\n",
    "axes[1].set_title('Sex by Embarcation')\n",
    "axes[1].set_ylabel('')\n",
    "\n",
    "sns.countplot(x='Embarked', hue='Survived', data=df, ax=axes[2], palette='Set3')\n",
    "axes[2].set_title('Survival by Embarcation')\n",
    "axes[2].set_ylabel('')\n",
    "\n",
    "plt.tight_layout()"
   ]
  },
  {
   "cell_type": "code",
   "execution_count": 48,
   "metadata": {},
   "outputs": [
    {
     "data": {
      "text/plain": [
       "<seaborn.axisgrid.FacetGrid at 0x1a0fbef1eb0>"
      ]
     },
     "execution_count": 48,
     "metadata": {},
     "output_type": "execute_result"
    },
    {
     "data": {
      "image/png": "[encoded data removed]",
      "text/plain": [
       "<Figure size 833.17x158.4 with 3 Axes>"
      ]
     },
     "metadata": {
      "needs_background": "light"
     },
     "output_type": "display_data"
    }
   ],
   "source": [
    "grid = sns.FacetGrid(df, col='Embarked', size=2.2, aspect=1.6)\n",
    "grid.map(sns.pointplot, 'Pclass', 'Survived', 'Sex', palette='deep')\n",
    "grid.add_legend()"
   ]
  },
  {
   "cell_type": "markdown",
   "metadata": {},
   "source": [
    "Female passengers had much better survival rate than males.\n",
    "\n",
    "Exception in Embarked=C where males had higher survival rate. This could be a correlation between Pclass and Embarked and in turn Pclass and Survived, not necessarily direct correlation between Embarked and Survived.\n",
    "\n",
    "Males had better survival rate in Pclass=3 when compared with Pclass=2 for C and Q ports.\n",
    "\n",
    "Ports of embarkation have varying survival rates for Pclass=3 and among male passengers."
   ]
  },
  {
   "cell_type": "code",
   "execution_count": 49,
   "metadata": {},
   "outputs": [
    {
     "data": {
      "text/plain": [
       "<seaborn.axisgrid.FacetGrid at 0x1a0ff5aa250>"
      ]
     },
     "execution_count": 49,
     "metadata": {},
     "output_type": "execute_result"
    },
    {
     "data": {
      "image/png": "[encoded data removed]",
      "text/plain": [
       "<Figure size 515.68x475.2 with 6 Axes>"
      ]
     },
     "metadata": {
      "needs_background": "light"
     },
     "output_type": "display_data"
    }
   ],
   "source": [
    "grid = sns.FacetGrid(df, row='Embarked', col='Survived', size=2.2, aspect=1.6)\n",
    "grid.map(sns.barplot, 'Sex', 'Fare', alpha=.5, ci=None)\n",
    "grid.add_legend()"
   ]
  },
  {
   "cell_type": "markdown",
   "metadata": {},
   "source": [
    "Survival rates"
   ]
  },
  {
   "cell_type": "code",
   "execution_count": 50,
   "metadata": {},
   "outputs": [
    {
     "data": {
      "image/png": "[encoded data removed]",
      "text/plain": [
       "<Figure size 1008x360 with 3 Axes>"
      ]
     },
     "metadata": {
      "needs_background": "light"
     },
     "output_type": "display_data"
    }
   ],
   "source": [
    "fig, axes = plt.subplots(1, 3, figsize=(14,5))\n",
    "\n",
    "sns.pointplot(x ='Sex', y=\"Survived\", data=df, ax=axes[0])\n",
    "axes[0].set_title('Survival by Sex')\n",
    "\n",
    "sns.pointplot(x ='Pclass', y=\"Survived\", data=df, ax=axes[1])\n",
    "axes[1].set_title('Survival by Pclass')\n",
    "axes[1].set_ylabel('')\n",
    "\n",
    "sns.pointplot(x ='Embarked', y=\"Survived\", data=df, ax=axes[2])\n",
    "axes[2].set_title('Survival by Embarkation')\n",
    "axes[2].set_ylabel('')\n",
    "\n",
    "for ax in axes:\n",
    "    ax.set_yticks(np.arange(0, 1.1, 0.1))\n",
    "\n",
    "plt.tight_layout()"
   ]
  },
  {
   "cell_type": "markdown",
   "metadata": {},
   "source": [
    "# Numerical variables"
   ]
  },
  {
   "cell_type": "code",
   "execution_count": 51,
   "metadata": {},
   "outputs": [],
   "source": [
    "def tukey_outliers(x):\n",
    "    q1 = np.percentile(x,25)\n",
    "    q3 = np.percentile(x,75)\n",
    "    \n",
    "    iqr = q3-q1\n",
    "    \n",
    "    min_range = q1 - iqr*1.5\n",
    "    max_range = q3 + iqr*1.5\n",
    "    \n",
    "    outliers = x[(x<min_range) | (x>max_range)]\n",
    "    return outliers"
   ]
  },
  {
   "cell_type": "code",
   "execution_count": 52,
   "metadata": {},
   "outputs": [
    {
     "name": "stdout",
     "output_type": "stream",
     "text": [
      "* Age doesn't have any tukey outliers.\n",
      "\n",
      "* Fare has these tukey outliers,\n",
      "1       71.2833\n",
      "27     263.0000\n",
      "31     146.5208\n",
      "34      82.1708\n",
      "52      76.7292\n",
      "         ...   \n",
      "846     69.5500\n",
      "849     89.1042\n",
      "856    164.8667\n",
      "863     69.5500\n",
      "879     83.1583\n",
      "Name: Fare, Length: 116, dtype: float64\n",
      "\n"
     ]
    }
   ],
   "source": [
    "nums = ['Age', 'Fare']\n",
    "\n",
    "for col in nums:\n",
    "    outliers = tukey_outliers(df[col])\n",
    "    if len(outliers):\n",
    "        print(f\"* {col} has these tukey outliers,\\n{outliers}\\n\")\n",
    "    else:\n",
    "        print(f\"* {col} doesn't have any tukey outliers.\\n\")"
   ]
  },
  {
   "cell_type": "code",
   "execution_count": 53,
   "metadata": {},
   "outputs": [
    {
     "data": {
      "text/plain": [
       "Text(0.5, 1.0, 'Survival by Age')"
      ]
     },
     "execution_count": 53,
     "metadata": {},
     "output_type": "execute_result"
    },
    {
     "data": {
      "image/png": "[encoded data removed]",
      "text/plain": [
       "<Figure size 432x288 with 1 Axes>"
      ]
     },
     "metadata": {
      "needs_background": "light"
     },
     "output_type": "display_data"
    }
   ],
   "source": [
    "sns.boxplot(x='Survived', y='Age', data=df, palette='Set3')\n",
    "plt.title('Survival by Age')"
   ]
  },
  {
   "cell_type": "code",
   "execution_count": 54,
   "metadata": {},
   "outputs": [
    {
     "name": "stdout",
     "output_type": "stream",
     "text": [
      "Before Shape: (891, 17)\n",
      "After Shape: (706, 17)\n"
     ]
    },
    {
     "data": {
      "image/png": "[encoded data removed]",
      "text/plain": [
       "<Figure size 432x288 with 2 Axes>"
      ]
     },
     "metadata": {
      "needs_background": "light"
     },
     "output_type": "display_data"
    }
   ],
   "source": [
    "fig, axes = plt.subplots(1,2)\n",
    "plt.tight_layout(0.2)\n",
    "\n",
    "print(\"Before Shape:\",df.shape)\n",
    "## Removing humidity bellow 0 outliers\n",
    "df2 = df[(df['Age']<66)]\n",
    "print(\"After Shape:\",df2.shape)\n",
    "\n",
    "sns.boxplot(df['Age'],orient='v',ax=axes[0])\n",
    "axes[0].title.set_text(\"Before\")\n",
    "sns.boxplot(df2['Age'],orient='v',ax=axes[1])\n",
    "axes[1].title.set_text(\"After\")\n",
    "plt.show()\n",
    "# Replace new dataset with previous and resetting indexes\n",
    "# df=df2;\n",
    "# df=df.reset_index(drop=True)"
   ]
  },
  {
   "cell_type": "code",
   "execution_count": 55,
   "metadata": {},
   "outputs": [
    {
     "data": {
      "text/plain": [
       "Text(0.5, 1.0, 'Survival by Fare')"
      ]
     },
     "execution_count": 55,
     "metadata": {},
     "output_type": "execute_result"
    },
    {
     "data": {
      "image/png": "[encoded data removed]",
      "text/plain": [
       "<Figure size 432x288 with 1 Axes>"
      ]
     },
     "metadata": {
      "needs_background": "light"
     },
     "output_type": "display_data"
    }
   ],
   "source": [
    "sns.boxplot(x='Survived', y='Fare', data=df)\n",
    "plt.title('Survival by Fare')"
   ]
  },
  {
   "cell_type": "code",
   "execution_count": 56,
   "metadata": {},
   "outputs": [
    {
     "name": "stdout",
     "output_type": "stream",
     "text": [
      "Before Shape: (891, 17)\n",
      "After Shape: (720, 17)\n"
     ]
    },
    {
     "data": {
      "image/png": "[encoded data removed]",
      "text/plain": [
       "<Figure size 432x288 with 2 Axes>"
      ]
     },
     "metadata": {
      "needs_background": "light"
     },
     "output_type": "display_data"
    }
   ],
   "source": [
    "fig, axes = plt.subplots(1,2)\n",
    "plt.tight_layout(0.2)\n",
    "\n",
    "print(\"Before Shape:\",df.shape)\n",
    "## Removing humidity bellow 0 outliers\n",
    "df2 = df[(df['Fare']<46)]\n",
    "print(\"After Shape:\",df2.shape)\n",
    "\n",
    "sns.boxplot(df['Fare'],orient='v',ax=axes[0])\n",
    "axes[0].title.set_text(\"Before\")\n",
    "sns.boxplot(df2['Fare'],orient='v',ax=axes[1])\n",
    "axes[1].title.set_text(\"After\")\n",
    "plt.show()\n",
    "# Replace new dataset with previous and resetting indexes\n",
    "# df=df2;\n",
    "# df=df.reset_index(drop=True)"
   ]
  },
  {
   "cell_type": "code",
   "execution_count": 57,
   "metadata": {},
   "outputs": [
    {
     "data": {
      "text/plain": [
       "Survived          1.000000\n",
       "Pclass           -0.338481\n",
       "Age              -0.077221\n",
       "SibSp            -0.035322\n",
       "Parch             0.081629\n",
       "Fare              0.257307\n",
       "numeric_ticket    0.001492\n",
       "cabin_multiple    0.277053\n",
       "norm_sibsp        0.029430\n",
       "norm_Parch        0.114999\n",
       "norm_fare         0.329862\n",
       "Name: Survived, dtype: float64"
      ]
     },
     "execution_count": 57,
     "metadata": {},
     "output_type": "execute_result"
    }
   ],
   "source": [
    "df.corr()['Survived']"
   ]
  },
  {
   "cell_type": "code",
   "execution_count": 58,
   "metadata": {},
   "outputs": [
    {
     "data": {
      "text/plain": [
       "Text(0.5, 1.0, 'Correlations between variables')"
      ]
     },
     "execution_count": 58,
     "metadata": {},
     "output_type": "execute_result"
    },
    {
     "data": {
      "image/png": "[encoded data removed]",
      "text/plain": [
       "<Figure size 576x576 with 2 Axes>"
      ]
     },
     "metadata": {
      "needs_background": "light"
     },
     "output_type": "display_data"
    }
   ],
   "source": [
    "plt.figure(figsize=(8,8))\n",
    "\n",
    "sns.heatmap(df.corr(), annot=True, cmap='magma', square=True,\n",
    "            linecolor=\"white\", linewidths=0.1)\n",
    "plt.title('Correlations between variables')"
   ]
  },
  {
   "cell_type": "markdown",
   "metadata": {},
   "source": [
    "Create Family size (Family = SibSp + Parch) and Alone if doesn't have family members\n",
    "\n",
    "Fill all the missing values of Age in both dataframes (with mean based on Sex and Pclass) -> Maybe use some algorithm to predict them, in a future project.\n",
    "\n",
    "Fill 2 values of Emarked from df_train with the most common one or check in relation with other variables\n"
   ]
  },
  {
   "cell_type": "code",
   "execution_count": 59,
   "metadata": {},
   "outputs": [
    {
     "data": {
      "text/html": [
       "<div>\n",
       "<style scoped>\n",
       "    .dataframe tbody tr th:only-of-type {\n",
       "        vertical-align: middle;\n",
       "    }\n",
       "\n",
       "    .dataframe tbody tr th {\n",
       "        vertical-align: top;\n",
       "    }\n",
       "\n",
       "    .dataframe thead th {\n",
       "        text-align: right;\n",
       "    }\n",
       "</style>\n",
       "<table border=\"1\" class=\"dataframe\">\n",
       "  <thead>\n",
       "    <tr style=\"text-align: right;\">\n",
       "      <th></th>\n",
       "      <th>Familysize</th>\n",
       "      <th>Survived</th>\n",
       "    </tr>\n",
       "  </thead>\n",
       "  <tbody>\n",
       "    <tr>\n",
       "      <th>3</th>\n",
       "      <td>4</td>\n",
       "      <td>0.724138</td>\n",
       "    </tr>\n",
       "    <tr>\n",
       "      <th>2</th>\n",
       "      <td>3</td>\n",
       "      <td>0.578431</td>\n",
       "    </tr>\n",
       "    <tr>\n",
       "      <th>1</th>\n",
       "      <td>2</td>\n",
       "      <td>0.552795</td>\n",
       "    </tr>\n",
       "    <tr>\n",
       "      <th>6</th>\n",
       "      <td>7</td>\n",
       "      <td>0.333333</td>\n",
       "    </tr>\n",
       "    <tr>\n",
       "      <th>0</th>\n",
       "      <td>1</td>\n",
       "      <td>0.303538</td>\n",
       "    </tr>\n",
       "    <tr>\n",
       "      <th>4</th>\n",
       "      <td>5</td>\n",
       "      <td>0.200000</td>\n",
       "    </tr>\n",
       "    <tr>\n",
       "      <th>5</th>\n",
       "      <td>6</td>\n",
       "      <td>0.136364</td>\n",
       "    </tr>\n",
       "    <tr>\n",
       "      <th>7</th>\n",
       "      <td>8</td>\n",
       "      <td>0.000000</td>\n",
       "    </tr>\n",
       "    <tr>\n",
       "      <th>8</th>\n",
       "      <td>11</td>\n",
       "      <td>0.000000</td>\n",
       "    </tr>\n",
       "  </tbody>\n",
       "</table>\n",
       "</div>"
      ],
      "text/plain": [
       "   Familysize  Survived\n",
       "3           4  0.724138\n",
       "2           3  0.578431\n",
       "1           2  0.552795\n",
       "6           7  0.333333\n",
       "0           1  0.303538\n",
       "4           5  0.200000\n",
       "5           6  0.136364\n",
       "7           8  0.000000\n",
       "8          11  0.000000"
      ]
     },
     "execution_count": 59,
     "metadata": {},
     "output_type": "execute_result"
    }
   ],
   "source": [
    "df['Familysize'] = df['SibSp'] + df['Parch']+1\n",
    "test['Familysize'] = test['SibSp'] + test['Parch']+1\n",
    "\n",
    "df[[\"Familysize\", \"Survived\"]].groupby(['Familysize'], as_index=False)\\\n",
    ".mean().sort_values(by='Survived', ascending=False)"
   ]
  },
  {
   "cell_type": "code",
   "execution_count": 60,
   "metadata": {},
   "outputs": [],
   "source": [
    "df['Alone'] = df['Familysize'].apply(lambda x: 1 if x == 0 else 0)\n",
    "\n",
    "test['Alone'] = test['Familysize'].apply(lambda x: 1 if x == 0 else 0)"
   ]
  },
  {
   "cell_type": "code",
   "execution_count": 61,
   "metadata": {},
   "outputs": [
    {
     "data": {
      "text/html": [
       "<div>\n",
       "<style scoped>\n",
       "    .dataframe tbody tr th:only-of-type {\n",
       "        vertical-align: middle;\n",
       "    }\n",
       "\n",
       "    .dataframe tbody tr th {\n",
       "        vertical-align: top;\n",
       "    }\n",
       "\n",
       "    .dataframe thead th {\n",
       "        text-align: right;\n",
       "    }\n",
       "</style>\n",
       "<table border=\"1\" class=\"dataframe\">\n",
       "  <thead>\n",
       "    <tr style=\"text-align: right;\">\n",
       "      <th></th>\n",
       "      <th>Survived</th>\n",
       "      <th>Pclass</th>\n",
       "      <th>Name</th>\n",
       "      <th>Sex</th>\n",
       "      <th>Age</th>\n",
       "      <th>SibSp</th>\n",
       "      <th>Parch</th>\n",
       "      <th>Fare</th>\n",
       "      <th>Embarked</th>\n",
       "      <th>numeric_ticket</th>\n",
       "      <th>ticket_letters</th>\n",
       "      <th>cabin_multiple</th>\n",
       "      <th>cabin_adv</th>\n",
       "      <th>name_title</th>\n",
       "      <th>norm_sibsp</th>\n",
       "      <th>norm_Parch</th>\n",
       "      <th>norm_fare</th>\n",
       "      <th>Familysize</th>\n",
       "      <th>Alone</th>\n",
       "    </tr>\n",
       "  </thead>\n",
       "  <tbody>\n",
       "    <tr>\n",
       "      <th>61</th>\n",
       "      <td>1</td>\n",
       "      <td>1</td>\n",
       "      <td>Icard, Miss. Amelie</td>\n",
       "      <td>female</td>\n",
       "      <td>38.0</td>\n",
       "      <td>0</td>\n",
       "      <td>0</td>\n",
       "      <td>80.0</td>\n",
       "      <td>NaN</td>\n",
       "      <td>1</td>\n",
       "      <td>0</td>\n",
       "      <td>1</td>\n",
       "      <td>B</td>\n",
       "      <td>Miss</td>\n",
       "      <td>0.0</td>\n",
       "      <td>0.0</td>\n",
       "      <td>4.394449</td>\n",
       "      <td>1</td>\n",
       "      <td>0</td>\n",
       "    </tr>\n",
       "    <tr>\n",
       "      <th>829</th>\n",
       "      <td>1</td>\n",
       "      <td>1</td>\n",
       "      <td>Stone, Mrs. George Nelson (Martha Evelyn)</td>\n",
       "      <td>female</td>\n",
       "      <td>62.0</td>\n",
       "      <td>0</td>\n",
       "      <td>0</td>\n",
       "      <td>80.0</td>\n",
       "      <td>NaN</td>\n",
       "      <td>1</td>\n",
       "      <td>0</td>\n",
       "      <td>1</td>\n",
       "      <td>B</td>\n",
       "      <td>Mrs</td>\n",
       "      <td>0.0</td>\n",
       "      <td>0.0</td>\n",
       "      <td>4.394449</td>\n",
       "      <td>1</td>\n",
       "      <td>0</td>\n",
       "    </tr>\n",
       "  </tbody>\n",
       "</table>\n",
       "</div>"
      ],
      "text/plain": [
       "     Survived  Pclass                                       Name     Sex  \\\n",
       "61          1       1                        Icard, Miss. Amelie  female   \n",
       "829         1       1  Stone, Mrs. George Nelson (Martha Evelyn)  female   \n",
       "\n",
       "      Age  SibSp  Parch  Fare Embarked  numeric_ticket ticket_letters  \\\n",
       "61   38.0      0      0  80.0      NaN               1              0   \n",
       "829  62.0      0      0  80.0      NaN               1              0   \n",
       "\n",
       "     cabin_multiple cabin_adv name_title  norm_sibsp  norm_Parch  norm_fare  \\\n",
       "61                1         B       Miss         0.0         0.0   4.394449   \n",
       "829               1         B        Mrs         0.0         0.0   4.394449   \n",
       "\n",
       "     Familysize  Alone  \n",
       "61            1      0  \n",
       "829           1      0  "
      ]
     },
     "execution_count": 61,
     "metadata": {},
     "output_type": "execute_result"
    }
   ],
   "source": [
    "df[df['Embarked'].isnull()]"
   ]
  },
  {
   "cell_type": "code",
   "execution_count": 62,
   "metadata": {},
   "outputs": [
    {
     "data": {
      "image/png": "[encoded data removed]",
      "text/plain": [
       "<Figure size 1152x576 with 4 Axes>"
      ]
     },
     "metadata": {
      "needs_background": "light"
     },
     "output_type": "display_data"
    }
   ],
   "source": [
    "fig, axes = plt.subplots(2, 2, figsize=(16,8))\n",
    "\n",
    "sns.boxplot(x=\"Embarked\", y=\"Fare\", hue=\"Pclass\", data=df, ax=axes[0,0])\n",
    "\n",
    "sns.boxplot(x=\"Embarked\", y=\"Fare\", hue=\"Sex\", data=df, ax=axes[0,1])\n",
    "\n",
    "sns.boxplot(x=\"Embarked\", y=\"Fare\", hue=\"Survived\", data=df, ax=axes[1,0])\n",
    "\n",
    "sns.boxplot(x=\"Embarked\", y=\"Fare\", hue=\"Alone\", data=df, ax=axes[1,1])\n",
    "\n",
    "plt.tight_layout()"
   ]
  },
  {
   "cell_type": "markdown",
   "metadata": {},
   "source": [
    "### Based on the median values of the plots seems likely to be 'C' > 'S', definitely is not Q. I'll go with C since Pclass, Sex and Survived point to that."
   ]
  },
  {
   "cell_type": "code",
   "execution_count": 63,
   "metadata": {},
   "outputs": [],
   "source": [
    "df['Embarked'].fillna('C',inplace=True)"
   ]
  },
  {
   "cell_type": "code",
   "execution_count": 64,
   "metadata": {},
   "outputs": [
    {
     "data": {
      "text/plain": [
       "array([[<AxesSubplot:title={'center':'Fare'}>]], dtype=object)"
      ]
     },
     "execution_count": 64,
     "metadata": {},
     "output_type": "execute_result"
    },
    {
     "data": {
      "image/png": "[encoded data removed]",
      "text/plain": [
       "<Figure size 432x288 with 1 Axes>"
      ]
     },
     "metadata": {
      "needs_background": "light"
     },
     "output_type": "display_data"
    }
   ],
   "source": [
    "test.hist(column='Fare')"
   ]
  },
  {
   "cell_type": "code",
   "execution_count": 65,
   "metadata": {},
   "outputs": [
    {
     "data": {
      "text/plain": [
       "14.4542"
      ]
     },
     "execution_count": 65,
     "metadata": {},
     "output_type": "execute_result"
    }
   ],
   "source": [
    "test.Fare.median()"
   ]
  },
  {
   "cell_type": "code",
   "execution_count": 66,
   "metadata": {},
   "outputs": [],
   "source": [
    "# test.Fare.value_counts()"
   ]
  },
  {
   "cell_type": "code",
   "execution_count": 67,
   "metadata": {},
   "outputs": [],
   "source": [
    "test.Fare.replace(np.nan,test.Fare.median(),inplace=True)\n",
    "\n",
    "test['norm_fare'] = np.log(test.Fare+1)"
   ]
  },
  {
   "cell_type": "code",
   "execution_count": 68,
   "metadata": {},
   "outputs": [
    {
     "data": {
      "image/png": "[encoded data removed]",
      "text/plain": [
       "<Figure size 864x504 with 1 Axes>"
      ]
     },
     "metadata": {
      "needs_background": "light"
     },
     "output_type": "display_data"
    }
   ],
   "source": [
    "plt.figure(figsize=(12, 7))\n",
    "\n",
    "testPlot = sns.boxplot(x='Pclass', y='Age', hue='Sex', data=df)\n",
    "\n",
    "m1 = df.groupby(['Pclass', 'Sex'])['Age'].median().values\n",
    "mL1 = [str(np.round(s, 2)) for s in m1]\n",
    "\n",
    "ind = 0\n",
    "for tick in range(len(testPlot.get_xticklabels())):\n",
    "    testPlot.text(tick-.2, m1[ind+1]+1, mL1[ind+1],  horizontalalignment='center',  color='w', weight='semibold')\n",
    "    testPlot.text(tick+.2, m1[ind]+1, mL1[ind], horizontalalignment='center', color='w', weight='semibold')\n",
    "    ind += 2"
   ]
  },
  {
   "cell_type": "code",
   "execution_count": 69,
   "metadata": {},
   "outputs": [
    {
     "data": {
      "text/plain": [
       "41.0"
      ]
     },
     "execution_count": 69,
     "metadata": {},
     "output_type": "execute_result"
    }
   ],
   "source": [
    "m1[0+1]+1"
   ]
  },
  {
   "cell_type": "code",
   "execution_count": 70,
   "metadata": {},
   "outputs": [
    {
     "data": {
      "text/plain": [
       "36.0"
      ]
     },
     "execution_count": 70,
     "metadata": {},
     "output_type": "execute_result"
    }
   ],
   "source": [
    "m1[0]+1"
   ]
  },
  {
   "cell_type": "code",
   "execution_count": 71,
   "metadata": {},
   "outputs": [
    {
     "data": {
      "text/plain": [
       "array([35. , 40. , 28. , 30. , 21.5, 25. ])"
      ]
     },
     "execution_count": 71,
     "metadata": {},
     "output_type": "execute_result"
    }
   ],
   "source": [
    "m1"
   ]
  },
  {
   "cell_type": "code",
   "execution_count": 72,
   "metadata": {},
   "outputs": [],
   "source": [
    "def get_age(cols):\n",
    "    age = cols[0]\n",
    "    pclass = cols[1]\n",
    "    sex = cols[2]\n",
    "    \n",
    "    if pd.isnull(age):\n",
    "\n",
    "        if pclass == 1:\n",
    "            if sex == 'male':\n",
    "                return 40\n",
    "            else:\n",
    "                return 35\n",
    "\n",
    "        elif pclass == 2:\n",
    "            if sex == 'male':\n",
    "                return 30\n",
    "            else:\n",
    "                return 28\n",
    "\n",
    "        else:\n",
    "            if sex == 'male':\n",
    "                return 25\n",
    "            else:\n",
    "                return 21.5\n",
    "            \n",
    "    else:\n",
    "        return age"
   ]
  },
  {
   "cell_type": "code",
   "execution_count": 73,
   "metadata": {},
   "outputs": [],
   "source": [
    "df['Age'] = df[['Age','Pclass', 'Sex']].apply(get_age, axis=1)"
   ]
  },
  {
   "cell_type": "code",
   "execution_count": 74,
   "metadata": {},
   "outputs": [],
   "source": [
    "test['Age'] = test[['Age','Pclass', 'Sex']].apply(get_age, axis=1)"
   ]
  },
  {
   "cell_type": "code",
   "execution_count": 75,
   "metadata": {},
   "outputs": [],
   "source": [
    "def get_title(name):\n",
    "    for string in name.split():\n",
    "        if '.' in string:\n",
    "            return string[:-1]"
   ]
  },
  {
   "cell_type": "code",
   "execution_count": 76,
   "metadata": {},
   "outputs": [],
   "source": [
    "df['Title'] = df['Name'].apply(lambda x: get_title(x))\n",
    "\n",
    "test['Title'] = test['Name'].apply(lambda x: get_title(x))"
   ]
  },
  {
   "cell_type": "code",
   "execution_count": 77,
   "metadata": {},
   "outputs": [
    {
     "data": {
      "text/plain": [
       "Mr          517\n",
       "Miss        182\n",
       "Mrs         125\n",
       "Master       40\n",
       "Dr            7\n",
       "Rev           6\n",
       "Mlle          2\n",
       "Col           2\n",
       "Major         2\n",
       "Sir           1\n",
       "Ms            1\n",
       "Lady          1\n",
       "Capt          1\n",
       "Jonkheer      1\n",
       "Countess      1\n",
       "Mme           1\n",
       "Don           1\n",
       "Name: Title, dtype: int64"
      ]
     },
     "execution_count": 77,
     "metadata": {},
     "output_type": "execute_result"
    }
   ],
   "source": [
    "df.Title.value_counts()"
   ]
  },
  {
   "cell_type": "code",
   "execution_count": 78,
   "metadata": {},
   "outputs": [
    {
     "data": {
      "text/plain": [
       "['Sandstrom,', 'Miss.', 'Marguerite', 'Rut']"
      ]
     },
     "execution_count": 78,
     "metadata": {},
     "output_type": "execute_result"
    }
   ],
   "source": [
    "df.Name[10].split()"
   ]
  },
  {
   "cell_type": "code",
   "execution_count": 79,
   "metadata": {},
   "outputs": [],
   "source": [
    "df.drop('Name', axis=1, inplace=True)\n",
    "\n",
    "test.drop('Name', axis=1, inplace=True)"
   ]
  },
  {
   "cell_type": "code",
   "execution_count": 80,
   "metadata": {},
   "outputs": [],
   "source": [
    "# ['Mr', 'Mrs', 'Miss', 'Master', 'Don', 'Rev', 'Dr', 'Mme', 'Ms',\n",
    "#        'Major', 'Lady', 'Sir', 'Mlle', 'Col', 'Capt', 'Countess',\n",
    "#        'Jonkheer']"
   ]
  },
  {
   "cell_type": "code",
   "execution_count": 81,
   "metadata": {},
   "outputs": [],
   "source": [
    "df['Title'] = df['Title'].replace(['Lady', 'Capt', 'Col','Don', 'Dr', \n",
    "                                             'Major', 'Rev', 'Sir', 'Dona', 'Countess', 'Jonkheer'], 'Other')\n",
    "\n",
    "df['Title'] = df['Title'].replace('Mlle', 'Miss')\n",
    "df['Title'] = df['Title'].replace('Ms', 'Miss')\n",
    "df['Title'] = df['Title'].replace('Mme', 'Mrs')"
   ]
  },
  {
   "cell_type": "code",
   "execution_count": 82,
   "metadata": {},
   "outputs": [],
   "source": [
    "test['Title'] = test['Title'].replace(['Lady', 'Capt', 'Col','Don', 'Dr', \n",
    "                                             'Major', 'Rev', 'Sir', 'Dona', 'Countess', 'Jonkheer'], 'Other')\n",
    "\n",
    "test['Title'] = test['Title'].replace('Mlle', 'Miss')\n",
    "test['Title'] = test['Title'].replace('Ms', 'Miss')\n",
    "test['Title'] = test['Title'].replace('Mme', 'Mrs')"
   ]
  },
  {
   "cell_type": "code",
   "execution_count": 83,
   "metadata": {},
   "outputs": [
    {
     "data": {
      "text/plain": [
       "Mr        517\n",
       "Miss      185\n",
       "Mrs       126\n",
       "Master     40\n",
       "Other      23\n",
       "Name: Title, dtype: int64"
      ]
     },
     "execution_count": 83,
     "metadata": {},
     "output_type": "execute_result"
    }
   ],
   "source": [
    "df.Title.value_counts()"
   ]
  },
  {
   "cell_type": "code",
   "execution_count": 84,
   "metadata": {},
   "outputs": [
    {
     "data": {
      "text/html": [
       "<div>\n",
       "<style scoped>\n",
       "    .dataframe tbody tr th:only-of-type {\n",
       "        vertical-align: middle;\n",
       "    }\n",
       "\n",
       "    .dataframe tbody tr th {\n",
       "        vertical-align: top;\n",
       "    }\n",
       "\n",
       "    .dataframe thead th {\n",
       "        text-align: right;\n",
       "    }\n",
       "</style>\n",
       "<table border=\"1\" class=\"dataframe\">\n",
       "  <thead>\n",
       "    <tr style=\"text-align: right;\">\n",
       "      <th></th>\n",
       "      <th>Title</th>\n",
       "      <th>Survived</th>\n",
       "    </tr>\n",
       "  </thead>\n",
       "  <tbody>\n",
       "    <tr>\n",
       "      <th>0</th>\n",
       "      <td>Master</td>\n",
       "      <td>0.575000</td>\n",
       "    </tr>\n",
       "    <tr>\n",
       "      <th>1</th>\n",
       "      <td>Miss</td>\n",
       "      <td>0.702703</td>\n",
       "    </tr>\n",
       "    <tr>\n",
       "      <th>2</th>\n",
       "      <td>Mr</td>\n",
       "      <td>0.156673</td>\n",
       "    </tr>\n",
       "    <tr>\n",
       "      <th>3</th>\n",
       "      <td>Mrs</td>\n",
       "      <td>0.793651</td>\n",
       "    </tr>\n",
       "    <tr>\n",
       "      <th>4</th>\n",
       "      <td>Other</td>\n",
       "      <td>0.347826</td>\n",
       "    </tr>\n",
       "  </tbody>\n",
       "</table>\n",
       "</div>"
      ],
      "text/plain": [
       "    Title  Survived\n",
       "0  Master  0.575000\n",
       "1    Miss  0.702703\n",
       "2      Mr  0.156673\n",
       "3     Mrs  0.793651\n",
       "4   Other  0.347826"
      ]
     },
     "execution_count": 84,
     "metadata": {},
     "output_type": "execute_result"
    }
   ],
   "source": [
    "df[['Title', 'Survived']].groupby(['Title'], as_index=False).mean()"
   ]
  },
  {
   "cell_type": "code",
   "execution_count": 85,
   "metadata": {},
   "outputs": [],
   "source": [
    "title_mapping = {\"Mr\": 1, \"Miss\": 2, \"Mrs\": 3, \"Master\": 4, \"Other\": 5}\n",
    "df['Title_num'] = df['Title'].map(title_mapping)\n",
    "df['Title_num'] = df['Title_num'].fillna(0)\n",
    "\n",
    "test['Title_num'] = test['Title'].map(title_mapping)\n",
    "test['Title_num'] = test['Title_num'].fillna(0)"
   ]
  },
  {
   "cell_type": "code",
   "execution_count": 86,
   "metadata": {},
   "outputs": [
    {
     "data": {
      "text/plain": [
       "1    517\n",
       "2    185\n",
       "3    126\n",
       "4     40\n",
       "5     23\n",
       "Name: Title_num, dtype: int64"
      ]
     },
     "execution_count": 86,
     "metadata": {},
     "output_type": "execute_result"
    }
   ],
   "source": [
    "df.Title_num.value_counts()"
   ]
  },
  {
   "cell_type": "code",
   "execution_count": 87,
   "metadata": {},
   "outputs": [],
   "source": [
    "df['Sex_num'] = df['Sex'].replace( {'female': 0, 'male': 1})\n",
    "\n",
    "test['Sex_num'] = test['Sex'].replace( {'female': 0, 'male': 1})"
   ]
  },
  {
   "cell_type": "code",
   "execution_count": 88,
   "metadata": {},
   "outputs": [],
   "source": [
    "df['Embarked_num'] = df['Embarked'].replace( {'S': -1, 'Q': 0, 'C': 1})\n",
    "\n",
    "test['Embarked_num'] = df['Embarked'].replace( {'S': -1, 'Q': 0, 'C': 1})"
   ]
  },
  {
   "cell_type": "code",
   "execution_count": 89,
   "metadata": {},
   "outputs": [],
   "source": [
    "df['Pclass_num'] = df['Pclass'].replace( {1: -1, 2: 0, 3: 1})\n",
    "\n",
    "test['Pclass_num'] = test['Pclass'].replace( {1: -1, 2: 0, 3: 1})"
   ]
  },
  {
   "cell_type": "code",
   "execution_count": 90,
   "metadata": {},
   "outputs": [
    {
     "data": {
      "text/plain": [
       "<seaborn.axisgrid.FacetGrid at 0x1a0ff152e20>"
      ]
     },
     "execution_count": 90,
     "metadata": {},
     "output_type": "execute_result"
    },
    {
     "data": {
      "image/png": "[encoded data removed]",
      "text/plain": [
       "<Figure size 515.68x475.2 with 6 Axes>"
      ]
     },
     "metadata": {
      "needs_background": "light"
     },
     "output_type": "display_data"
    }
   ],
   "source": [
    "grid = sns.FacetGrid(df, row='Pclass', col='Sex', size=2.2, aspect=1.6)\n",
    "grid.map(plt.hist, 'Age', alpha=.5, bins=20)\n",
    "grid.add_legend()"
   ]
  },
  {
   "cell_type": "code",
   "execution_count": 91,
   "metadata": {},
   "outputs": [],
   "source": [
    "# guess_ages = np.zeros((2,3))\n",
    "\n",
    "# for i in range(0, 2):\n",
    "#     for j in range(0, 3):\n",
    "#         guess_df = df[(df['Sex'] == i) & (df['Pclass'] == j+1)]['Age'].dropna()\n",
    "\n",
    "#         # age_mean = guess_df.mean()\n",
    "#         # age_std = guess_df.std()\n",
    "#         # age_guess = rnd.uniform(age_mean - age_std, age_mean + age_std)\n",
    "\n",
    "#         age_guess = guess_df.median()\n",
    "\n",
    "#         # Convert random age float to nearest .5 age\n",
    "#         guess_ages[i,j] = int( (age_guess/0.5) + 0.5 ) * 0.5\n",
    "            \n",
    "# for i in range(0, 2):\n",
    "#     for j in range(0, 3):\n",
    "#         df.loc[ (df.Age.isnull()) & (df.Sex == i) & (df.Pclass == j+1),'Age'] = guess_ages[i,j]\n",
    "\n",
    "# df['Age'] = df['Age'].astype(int)\n",
    "\n"
   ]
  },
  {
   "cell_type": "code",
   "execution_count": 92,
   "metadata": {},
   "outputs": [],
   "source": [
    "# df['AgeBand'] = pd.cut(df['Age'], 5)\n",
    "# df[['AgeBand', 'Survived']].groupby(['AgeBand'], as_index=False).mean().sort_values(by='AgeBand', ascending=True)"
   ]
  },
  {
   "cell_type": "code",
   "execution_count": 93,
   "metadata": {},
   "outputs": [],
   "source": [
    "df['Age1'] = df.Age\n",
    "\n",
    "test['Age1'] = test.Age"
   ]
  },
  {
   "cell_type": "code",
   "execution_count": 94,
   "metadata": {},
   "outputs": [],
   "source": [
    "df.loc[ df['Age'] <= 16, 'Age'] = 0\n",
    "df.loc[(df['Age'] > 16) & (df['Age'] <= 32), 'Age'] = 1\n",
    "df.loc[(df['Age'] > 32) & (df['Age'] <= 48), 'Age'] = 2\n",
    "df.loc[(df['Age'] > 48) & (df['Age'] <= 64), 'Age'] = 3\n",
    "df.loc[ df['Age'] > 64, 'Age'] = 4"
   ]
  },
  {
   "cell_type": "code",
   "execution_count": 95,
   "metadata": {},
   "outputs": [],
   "source": [
    "test.loc[ test['Age'] <= 16, 'Age'] = 0\n",
    "test.loc[(test['Age'] > 16) & (test['Age'] <= 32), 'Age'] = 1\n",
    "test.loc[(test['Age'] > 32) & (test['Age'] <= 48), 'Age'] = 2\n",
    "test.loc[(test['Age'] > 48) & (test['Age'] <= 64), 'Age'] = 3\n",
    "test.loc[ test['Age'] > 64, 'Age'] = 4"
   ]
  },
  {
   "cell_type": "code",
   "execution_count": 96,
   "metadata": {},
   "outputs": [],
   "source": [
    "# df = df.drop(['AgeBand'], axis=1)"
   ]
  },
  {
   "cell_type": "code",
   "execution_count": 97,
   "metadata": {},
   "outputs": [],
   "source": [
    "df['Age*Class'] = df.Age * df.Pclass\n",
    "\n",
    "test['Age*Class'] = test.Age * test.Pclass"
   ]
  },
  {
   "cell_type": "code",
   "execution_count": 98,
   "metadata": {},
   "outputs": [],
   "source": [
    "# df['FareBand'] = pd.qcut(df['Fare'], 4)\n",
    "# df[['FareBand', 'Survived']].groupby(['FareBand'], as_index=False).mean().sort_values(by='FareBand', ascending=True)"
   ]
  },
  {
   "cell_type": "code",
   "execution_count": 99,
   "metadata": {},
   "outputs": [],
   "source": [
    "df['Fare1'] = df.Fare\n",
    "\n",
    "test['Fare1'] = test.Fare"
   ]
  },
  {
   "cell_type": "code",
   "execution_count": 100,
   "metadata": {},
   "outputs": [],
   "source": [
    "df.loc[ df['Fare'] <= 7.91, 'Fare'] = 0\n",
    "df.loc[(df['Fare'] > 7.91) & (df['Fare'] <= 14.454), 'Fare'] = 1\n",
    "df.loc[(df['Fare'] > 14.454) & (df['Fare'] <= 31), 'Fare']   = 2\n",
    "df.loc[ df['Fare'] > 31, 'Fare'] = 3\n",
    "df['Fare'] = df['Fare'].astype(int)\n",
    "\n",
    "# df = df.drop(['FareBand'], axis=1)"
   ]
  },
  {
   "cell_type": "code",
   "execution_count": 101,
   "metadata": {},
   "outputs": [],
   "source": [
    "test.loc[ test['Fare'] <= 7.91, 'Fare'] = 0\n",
    "test.loc[(test['Fare'] > 7.91) & (test['Fare'] <= 14.454), 'Fare'] = 1\n",
    "test.loc[(test['Fare'] > 14.454) & (test['Fare'] <= 31), 'Fare']   = 2\n",
    "test.loc[ test['Fare'] > 31, 'Fare'] = 3\n",
    "test['Fare'] = test['Fare'].astype(int)\n"
   ]
  },
  {
   "cell_type": "code",
   "execution_count": 102,
   "metadata": {},
   "outputs": [],
   "source": [
    "# sex = pd.get_dummies(df['Sex'], prefix='Sex', drop_first=True)\n",
    "embarked = pd.get_dummies(df['Embarked'], prefix='Embarked', drop_first=True)\n",
    "pclass = pd.get_dummies(df['Pclass'], prefix='Pclass', drop_first=True)\n",
    "title = pd.get_dummies(df['Title'], prefix='Title', drop_first=True)\n",
    "\n",
    "df.drop(['Sex', 'Embarked', 'Pclass', 'Title'], axis=1, inplace=True)\n",
    "\n",
    "df = pd.concat([df, embarked, pclass, title], axis=1)"
   ]
  },
  {
   "cell_type": "code",
   "execution_count": 103,
   "metadata": {},
   "outputs": [],
   "source": [
    "embarked = pd.get_dummies(test['Embarked'], prefix='Embarked', drop_first=True)\n",
    "pclass = pd.get_dummies(test['Pclass'], prefix='Pclass', drop_first=True)\n",
    "title = pd.get_dummies(test['Title'], prefix='Title', drop_first=True)\n",
    "\n",
    "test.drop(['Sex', 'Embarked', 'Pclass', 'Title'], axis=1, inplace=True)\n",
    "\n",
    "test = pd.concat([test, embarked, pclass, title], axis=1)"
   ]
  },
  {
   "cell_type": "code",
   "execution_count": 104,
   "metadata": {},
   "outputs": [
    {
     "data": {
      "text/plain": [
       "Title_Mr         -0.549199\n",
       "Sex_num          -0.543351\n",
       "Pclass_num       -0.338481\n",
       "Pclass_3         -0.322308\n",
       "Age*Class        -0.270304\n",
       "Embarked_S       -0.155660\n",
       "Age1             -0.059579\n",
       "Age              -0.036384\n",
       "SibSp            -0.035322\n",
       "Title_Other      -0.012054\n",
       "numeric_ticket    0.001492\n",
       "Embarked_Q        0.003650\n",
       "Familysize        0.016639\n",
       "norm_sibsp        0.029430\n",
       "Parch             0.081629\n",
       "Pclass_2          0.093349\n",
       "norm_Parch        0.114999\n",
       "Embarked_num      0.174199\n",
       "Fare1             0.257307\n",
       "cabin_multiple    0.277053\n",
       "Fare              0.295875\n",
       "norm_fare         0.329862\n",
       "Title_Miss        0.335636\n",
       "Title_Mrs         0.341994\n",
       "Title_num         0.407753\n",
       "Survived          1.000000\n",
       "Name: Survived, dtype: float64"
      ]
     },
     "execution_count": 104,
     "metadata": {},
     "output_type": "execute_result"
    }
   ],
   "source": [
    "df.corr()['Survived'].sort_values()[:-1]"
   ]
  },
  {
   "cell_type": "code",
   "execution_count": 105,
   "metadata": {},
   "outputs": [
    {
     "data": {
      "text/plain": [
       "<AxesSubplot:>"
      ]
     },
     "execution_count": 105,
     "metadata": {},
     "output_type": "execute_result"
    },
    {
     "data": {
      "image/png": "[encoded data removed]",
      "text/plain": [
       "<Figure size 432x288 with 1 Axes>"
      ]
     },
     "metadata": {
      "needs_background": "light"
     },
     "output_type": "display_data"
    }
   ],
   "source": [
    "df.corr()['Survived'].sort_values()[:-1].plot.bar()"
   ]
  },
  {
   "cell_type": "code",
   "execution_count": 106,
   "metadata": {},
   "outputs": [
    {
     "data": {
      "text/plain": [
       "4.0"
      ]
     },
     "execution_count": 106,
     "metadata": {},
     "output_type": "execute_result"
    }
   ],
   "source": [
    "df.Age.unique().max()"
   ]
  },
  {
   "cell_type": "code",
   "execution_count": 107,
   "metadata": {},
   "outputs": [
    {
     "data": {
      "text/plain": [
       "0.0"
      ]
     },
     "execution_count": 107,
     "metadata": {},
     "output_type": "execute_result"
    }
   ],
   "source": [
    "df.Age.unique().min()"
   ]
  },
  {
   "cell_type": "code",
   "execution_count": 108,
   "metadata": {},
   "outputs": [
    {
     "data": {
      "text/plain": [
       "3"
      ]
     },
     "execution_count": 108,
     "metadata": {},
     "output_type": "execute_result"
    }
   ],
   "source": [
    "df.Fare.unique().max()"
   ]
  },
  {
   "cell_type": "code",
   "execution_count": 109,
   "metadata": {},
   "outputs": [
    {
     "data": {
      "text/plain": [
       "0"
      ]
     },
     "execution_count": 109,
     "metadata": {},
     "output_type": "execute_result"
    }
   ],
   "source": [
    "df.Fare.unique().min()"
   ]
  },
  {
   "cell_type": "code",
   "execution_count": 110,
   "metadata": {},
   "outputs": [
    {
     "data": {
      "text/plain": [
       "Survived            int64\n",
       "Age               float64\n",
       "SibSp               int64\n",
       "Parch               int64\n",
       "Fare                int32\n",
       "numeric_ticket      int64\n",
       "ticket_letters     object\n",
       "cabin_multiple      int64\n",
       "cabin_adv          object\n",
       "name_title         object\n",
       "norm_sibsp        float64\n",
       "norm_Parch        float64\n",
       "norm_fare         float64\n",
       "Familysize          int64\n",
       "Alone               int64\n",
       "Title_num           int64\n",
       "Sex_num             int64\n",
       "Embarked_num        int64\n",
       "Pclass_num          int64\n",
       "Age1              float64\n",
       "Age*Class         float64\n",
       "Fare1             float64\n",
       "Embarked_Q          uint8\n",
       "Embarked_S          uint8\n",
       "Pclass_2            uint8\n",
       "Pclass_3            uint8\n",
       "Title_Miss          uint8\n",
       "Title_Mr            uint8\n",
       "Title_Mrs           uint8\n",
       "Title_Other         uint8\n",
       "dtype: object"
      ]
     },
     "execution_count": 110,
     "metadata": {},
     "output_type": "execute_result"
    }
   ],
   "source": [
    "df.dtypes"
   ]
  },
  {
   "cell_type": "code",
   "execution_count": 111,
   "metadata": {},
   "outputs": [
    {
     "data": {
      "text/plain": [
       "array(['a5', 'pc', 'stono2', 0, 'pp', 'ca', 'scparis', 'sca4', 'a4', 'sp',\n",
       "       'soc', 'wc', 'sotonoq', 'wep', 'c', 'sop', 'fa', 'fcc', 'swpp',\n",
       "       'scow', 'ppp', 'sc', 'scah', 'as', 'scahbasle', 'sopp', 'fc',\n",
       "       'sotono2', 'casoton'], dtype=object)"
      ]
     },
     "execution_count": 111,
     "metadata": {},
     "output_type": "execute_result"
    }
   ],
   "source": [
    "df.ticket_letters.unique()"
   ]
  },
  {
   "cell_type": "code",
   "execution_count": 112,
   "metadata": {},
   "outputs": [
    {
     "data": {
      "text/plain": [
       "array(['n', 'C', 'E', 'G', 'D', 'A', 'B', 'F', 'T'], dtype=object)"
      ]
     },
     "execution_count": 112,
     "metadata": {},
     "output_type": "execute_result"
    }
   ],
   "source": [
    "df.cabin_adv.unique()"
   ]
  },
  {
   "cell_type": "code",
   "execution_count": 113,
   "metadata": {},
   "outputs": [],
   "source": [
    "# df.ticket_letters.apply(LabelEncoder().fit_transform)\n",
    "\n",
    "# df[ \"cabin_adv\"] = le.fit_transform(df[ \"cabin_adv\"])\n",
    "# test[ \"cabin_adv\"] = le.transform(test[ \"cabin_adv\"])\n",
    "\n",
    "# df[ \"ticket_letters\"] = le.fit_transform(df[ \"ticket_letters\"])\n",
    "# test[ \"ticket_letters\"] = le.transform(test[ \"ticket_letters\"])\n",
    "\n",
    "# df[[\"ticket_letters\", \"cabin_adv\"]] = le.fit_transform(df[[\"ticket_letters\", \"cabin_adv\"]])\n",
    "\n",
    "# test[[\"ticket_letters\", \"cabin_adv\"]] = le.transform(test[[\"ticket_letters\", \"cabin_adv\"]])"
   ]
  },
  {
   "cell_type": "code",
   "execution_count": 114,
   "metadata": {},
   "outputs": [],
   "source": [
    "# df.drop(['name_title','cabin_adv','ticket_letters'], axis=1,inplace=True)"
   ]
  },
  {
   "cell_type": "code",
   "execution_count": 115,
   "metadata": {},
   "outputs": [],
   "source": [
    "X = df.drop(['Survived','name_title','cabin_adv','ticket_letters'], axis=1)\n",
    "y = df['Survived']"
   ]
  },
  {
   "cell_type": "code",
   "execution_count": 116,
   "metadata": {},
   "outputs": [],
   "source": [
    "X_train, X_test, y_train, y_test = train_test_split(X, y, stratify=y, test_size=0.2, random_state=1)"
   ]
  },
  {
   "cell_type": "code",
   "execution_count": 117,
   "metadata": {},
   "outputs": [],
   "source": [
    "# scaler = StandardScaler()\n",
    "# df[['Age', 'Fare']] = scaler.fit_transform(df[['Age', 'Fare']])"
   ]
  },
  {
   "cell_type": "code",
   "execution_count": 118,
   "metadata": {},
   "outputs": [
    {
     "data": {
      "text/plain": [
       "0    549\n",
       "1    342\n",
       "Name: Survived, dtype: int64"
      ]
     },
     "execution_count": 118,
     "metadata": {},
     "output_type": "execute_result"
    }
   ],
   "source": [
    "df.Survived.value_counts()"
   ]
  },
  {
   "cell_type": "code",
   "execution_count": 119,
   "metadata": {},
   "outputs": [
    {
     "data": {
      "text/plain": [
       "(891, 30)"
      ]
     },
     "execution_count": 119,
     "metadata": {},
     "output_type": "execute_result"
    }
   ],
   "source": [
    "df.shape"
   ]
  },
  {
   "cell_type": "code",
   "execution_count": 120,
   "metadata": {},
   "outputs": [
    {
     "data": {
      "text/plain": [
       "0.6161616161616161"
      ]
     },
     "execution_count": 120,
     "metadata": {},
     "output_type": "execute_result"
    }
   ],
   "source": [
    "549 /891"
   ]
  },
  {
   "cell_type": "code",
   "execution_count": 121,
   "metadata": {},
   "outputs": [
    {
     "name": "stdout",
     "output_type": "stream",
     "text": [
      "Accuracy: 0.8379888268156425\n"
     ]
    }
   ],
   "source": [
    "logreg = LogisticRegression(random_state=121)\n",
    "\n",
    "logreg.fit(X_train, y_train)\n",
    "\n",
    "y_pred = logreg.predict(X_test)\n",
    "\n",
    "accuracy = accuracy_score(y_test, y_pred)\n",
    "\n",
    "print('Accuracy:', accuracy)"
   ]
  },
  {
   "cell_type": "code",
   "execution_count": 122,
   "metadata": {},
   "outputs": [],
   "source": [
    "logreg = LogisticRegression(random_state=121)\n",
    "\n",
    "param_grid = {\n",
    "    'penalty': ['l1', 'l2', 'elasticnet'],\n",
    "    'C': [0.01, 0.05, 0.1, 0.2,0.3,0.4,0.5,0.6,0.7,0.8,0.9,1,2,3,4,5,6,7,8,9,10,12,13,14,15,16,16.5,17,18],\n",
    "    'solver': ['newton-cg', 'lbfgs', 'liblinear', 'sag', 'saga']}"
   ]
  },
  {
   "cell_type": "code",
   "execution_count": 123,
   "metadata": {},
   "outputs": [],
   "source": [
    "# model = GridSearchCV(logreg, param_grid=param_grid, scoring='accuracy', cv=10, n_jobs=-1)\n",
    "\n",
    "# model.fit(X_train, y_train)\n",
    "\n",
    "# print('Best Params:', model.best_params_)"
   ]
  },
  {
   "cell_type": "code",
   "execution_count": 124,
   "metadata": {},
   "outputs": [],
   "source": [
    "# C=0.9, penalty='l1', solver='liblinear' ,83.80"
   ]
  },
  {
   "cell_type": "code",
   "execution_count": 125,
   "metadata": {},
   "outputs": [],
   "source": [
    "best_lr = LogisticRegression(C=6,penalty='l2',solver='liblinear')\n",
    "best_lr.fit(X_train, y_train)\n",
    "y_pred = best_lr.predict(X_test)"
   ]
  },
  {
   "cell_type": "code",
   "execution_count": 126,
   "metadata": {},
   "outputs": [
    {
     "name": "stdout",
     "output_type": "stream",
     "text": [
      "Accuracy: 83.24%\n",
      "-------------------------------------------------------\n",
      "              precision    recall  f1-score   support\n",
      "\n",
      "           0       0.84      0.89      0.87       110\n",
      "           1       0.81      0.74      0.77        69\n",
      "\n",
      "    accuracy                           0.83       179\n",
      "   macro avg       0.83      0.82      0.82       179\n",
      "weighted avg       0.83      0.83      0.83       179\n",
      "\n",
      "-------------------------------------------------------\n",
      "[[98 12]\n",
      " [18 51]]\n"
     ]
    }
   ],
   "source": [
    "print(f'Accuracy: {accuracy_score(y_test, y_pred)*100:.2f}%')\n",
    "print('-'*55)\n",
    "print(classification_report(y_test, y_pred))\n",
    "print('-'*55)\n",
    "print(confusion_matrix(y_test, y_pred))"
   ]
  },
  {
   "cell_type": "code",
   "execution_count": 127,
   "metadata": {},
   "outputs": [],
   "source": [
    "error_rate = []\n",
    "\n",
    "for i in range(1,40):\n",
    "    knn = KNeighborsClassifier(n_neighbors=i)\n",
    "    knn.fit(X_train, y_train)\n",
    "    \n",
    "    pred_i = knn.predict(X_test)\n",
    "    \n",
    "    error_rate.append(np.mean(pred_i != y_test))"
   ]
  },
  {
   "cell_type": "code",
   "execution_count": 128,
   "metadata": {},
   "outputs": [
    {
     "data": {
      "text/plain": [
       "Text(0.5, 1.0, 'Error rate vs Number of neighbors')"
      ]
     },
     "execution_count": 128,
     "metadata": {},
     "output_type": "execute_result"
    },
    {
     "data": {
      "image/png": "[encoded data removed]",
      "text/plain": [
       "<Figure size 720x432 with 1 Axes>"
      ]
     },
     "metadata": {
      "needs_background": "light"
     },
     "output_type": "display_data"
    }
   ],
   "source": [
    "# Plot Error rate vs Number of neighbors\n",
    "plt.figure(figsize=(10,6))\n",
    "plt.plot(range(1,40), error_rate,color='blue', ls='--',\n",
    "         marker='o', markerfacecolor='red', markersize=10)\n",
    "plt.xlabel('Neighbors')\n",
    "plt.ylabel('Error rate')\n",
    "plt.title('Error rate vs Number of neighbors')"
   ]
  },
  {
   "cell_type": "code",
   "execution_count": 129,
   "metadata": {},
   "outputs": [],
   "source": [
    "knn = KNeighborsClassifier(n_neighbors=15,algorithm='ball_tree',n_jobs=-1)\n",
    "knn.fit(X_train, y_train)\n",
    "\n",
    "y_pred = knn.predict(X_test)"
   ]
  },
  {
   "cell_type": "code",
   "execution_count": 130,
   "metadata": {},
   "outputs": [
    {
     "name": "stdout",
     "output_type": "stream",
     "text": [
      "Accuracy: 75.42%\n",
      "-------------------------------------------------------\n",
      "              precision    recall  f1-score   support\n",
      "\n",
      "           0       0.78      0.84      0.81       110\n",
      "           1       0.70      0.62      0.66        69\n",
      "\n",
      "    accuracy                           0.75       179\n",
      "   macro avg       0.74      0.73      0.73       179\n",
      "weighted avg       0.75      0.75      0.75       179\n",
      "\n",
      "-------------------------------------------------------\n",
      "[[92 18]\n",
      " [26 43]]\n"
     ]
    }
   ],
   "source": [
    "print(f'Accuracy: {accuracy_score(y_test, y_pred)*100:.2f}%')\n",
    "print('-'*55)\n",
    "print(classification_report(y_test, y_pred))\n",
    "print('-'*55)\n",
    "print(confusion_matrix(y_test, y_pred))"
   ]
  },
  {
   "cell_type": "code",
   "execution_count": 131,
   "metadata": {},
   "outputs": [
    {
     "name": "stdout",
     "output_type": "stream",
     "text": [
      "Accuracy: 0.8324022346368715\n"
     ]
    }
   ],
   "source": [
    "rf = RandomForestClassifier(random_state=121)\n",
    "\n",
    "rf.fit(X_train, y_train)\n",
    "\n",
    "y_pred = rf.predict(X_test)\n",
    "\n",
    "accuracy = accuracy_score(y_test, y_pred)\n",
    "print('Accuracy:', accuracy)"
   ]
  },
  {
   "cell_type": "code",
   "execution_count": 132,
   "metadata": {},
   "outputs": [],
   "source": [
    "param_grid = {\n",
    "   'criterion':['giny', 'entropy'],\n",
    "   'n_estimators':[50, 100, 500, 750, 1000],\n",
    "   'max_depth':[5,6,7, 8,9,10],\n",
    "   'min_samples_split':[2, 5, 10, 15, 100],\n",
    "   'min_samples_leaf':[1, 5, 10]}"
   ]
  },
  {
   "cell_type": "code",
   "execution_count": 133,
   "metadata": {},
   "outputs": [],
   "source": [
    "# model = GridSearchCV(rf, param_grid=param_grid, cv=5, n_jobs=-1)\n",
    "\n",
    "# model.fit(X_train, y_train)\n",
    "\n",
    "# print('Best Params:', model.best_params_)"
   ]
  },
  {
   "cell_type": "code",
   "execution_count": 134,
   "metadata": {},
   "outputs": [],
   "source": [
    "best_rf = RandomForestClassifier(random_state=121, criterion='entropy', max_depth=9, min_samples_leaf=5, min_samples_split=2, n_estimators=50)\n",
    "\n",
    "best_rf.fit(X_train, y_train)\n",
    "\n",
    "y_pred = best_rf.predict(X_test)\n",
    "\n",
    "accuracy = accuracy_score(y_test, y_pred)"
   ]
  },
  {
   "cell_type": "code",
   "execution_count": 135,
   "metadata": {},
   "outputs": [
    {
     "name": "stdout",
     "output_type": "stream",
     "text": [
      "Accuracy: 83.80%\n",
      "-------------------------------------------------------\n",
      "              precision    recall  f1-score   support\n",
      "\n",
      "           0       0.86      0.88      0.87       110\n",
      "           1       0.80      0.77      0.79        69\n",
      "\n",
      "    accuracy                           0.84       179\n",
      "   macro avg       0.83      0.82      0.83       179\n",
      "weighted avg       0.84      0.84      0.84       179\n",
      "\n",
      "-------------------------------------------------------\n",
      "[[97 13]\n",
      " [16 53]]\n"
     ]
    }
   ],
   "source": [
    "print(f'Accuracy: {accuracy_score(y_test, y_pred)*100:.2f}%')\n",
    "print('-'*55)\n",
    "print(classification_report(y_test, y_pred))\n",
    "print('-'*55)\n",
    "print(confusion_matrix(y_test, y_pred))"
   ]
  },
  {
   "cell_type": "code",
   "execution_count": 136,
   "metadata": {},
   "outputs": [],
   "source": [
    "# nb_classifier = GaussianNB()\n",
    "\n",
    "# params_NB = {'var_smoothing': np.logspace(0,-9, num=100)}\n",
    "# gs_NB = GridSearchCV(estimator=nb_classifier, \n",
    "#                  param_grid=params_NB, \n",
    "#                  cv=10,   # use any cross validation technique \n",
    "#                  verbose=1, \n",
    "#                  scoring='accuracy') \n",
    "# gs_NB.fit(X_train, y_train)\n",
    "\n",
    "# print(gs_NB.best_params_)\n",
    "\n",
    "# print(confusion_matrix(y_test, y_pred))"
   ]
  },
  {
   "cell_type": "code",
   "execution_count": 137,
   "metadata": {},
   "outputs": [
    {
     "name": "stdout",
     "output_type": "stream",
     "text": [
      "Accuracy: 0.8044692737430168\n"
     ]
    }
   ],
   "source": [
    "nb_classifier = GaussianNB(var_smoothing= 8.111308307896872e-05)\n",
    "\n",
    "nb_classifier.fit(X_train, y_train)\n",
    "\n",
    "y_pred = nb_classifier.predict(X_test)\n",
    "\n",
    "accuracy = accuracy_score(y_test, y_pred)\n",
    "print('Accuracy:', accuracy)"
   ]
  },
  {
   "cell_type": "code",
   "execution_count": 138,
   "metadata": {},
   "outputs": [
    {
     "name": "stdout",
     "output_type": "stream",
     "text": [
      "[[99 11]\n",
      " [24 45]]\n"
     ]
    }
   ],
   "source": [
    "print(confusion_matrix(y_test, y_pred))"
   ]
  },
  {
   "cell_type": "code",
   "execution_count": 139,
   "metadata": {},
   "outputs": [
    {
     "name": "stdout",
     "output_type": "stream",
     "text": [
      "Accuracy: 0.6759776536312849\n",
      "[[101   9]\n",
      " [ 49  20]]\n"
     ]
    }
   ],
   "source": [
    "SVC_classifier = SVC()\n",
    "\n",
    "SVC_classifier.fit(X_train, y_train)\n",
    "\n",
    "y_pred = SVC_classifier.predict(X_test)\n",
    "\n",
    "accuracy = accuracy_score(y_test, y_pred)\n",
    "print('Accuracy:', accuracy)\n",
    "print(confusion_matrix(y_test, y_pred))"
   ]
  },
  {
   "cell_type": "code",
   "execution_count": 140,
   "metadata": {},
   "outputs": [
    {
     "name": "stdout",
     "output_type": "stream",
     "text": [
      "Accuracy: 0.7653631284916201\n",
      "[[99 11]\n",
      " [31 38]]\n"
     ]
    }
   ],
   "source": [
    "LinearSVC_classifier = LinearSVC()\n",
    "\n",
    "LinearSVC_classifier.fit(X_train, y_train)\n",
    "\n",
    "y_pred = LinearSVC_classifier.predict(X_test)\n",
    "\n",
    "accuracy = accuracy_score(y_test, y_pred)\n",
    "print('Accuracy:', accuracy)\n",
    "print(confusion_matrix(y_test, y_pred))"
   ]
  },
  {
   "cell_type": "code",
   "execution_count": 141,
   "metadata": {},
   "outputs": [
    {
     "name": "stdout",
     "output_type": "stream",
     "text": [
      "Accuracy: 0.8268156424581006\n"
     ]
    }
   ],
   "source": [
    "GradientBoosting_classifier = GradientBoostingClassifier()\n",
    "\n",
    "GradientBoosting_classifier.fit(X_train, y_train)\n",
    "\n",
    "y_pred = GradientBoosting_classifier.predict(X_test)\n",
    "\n",
    "accuracy = accuracy_score(y_test, y_pred)\n",
    "print('Accuracy:', accuracy)"
   ]
  },
  {
   "cell_type": "code",
   "execution_count": 142,
   "metadata": {},
   "outputs": [
    {
     "name": "stdout",
     "output_type": "stream",
     "text": [
      "[[96 14]\n",
      " [17 52]]\n"
     ]
    }
   ],
   "source": [
    "print(confusion_matrix(y_test, y_pred))"
   ]
  },
  {
   "cell_type": "code",
   "execution_count": 143,
   "metadata": {},
   "outputs": [
    {
     "name": "stdout",
     "output_type": "stream",
     "text": [
      "Accuracy: 0.8491620111731844\n"
     ]
    }
   ],
   "source": [
    "Bagging_classifier = BaggingClassifier()\n",
    "\n",
    "Bagging_classifier.fit(X_train, y_train)\n",
    "\n",
    "y_pred = Bagging_classifier.predict(X_test)\n",
    "\n",
    "accuracy = accuracy_score(y_test, y_pred)\n",
    "print('Accuracy:', accuracy)"
   ]
  },
  {
   "cell_type": "code",
   "execution_count": 144,
   "metadata": {},
   "outputs": [
    {
     "name": "stdout",
     "output_type": "stream",
     "text": [
      "[[98 12]\n",
      " [15 54]]\n"
     ]
    }
   ],
   "source": [
    "print(confusion_matrix(y_test, y_pred))"
   ]
  },
  {
   "cell_type": "code",
   "execution_count": 145,
   "metadata": {},
   "outputs": [
    {
     "name": "stdout",
     "output_type": "stream",
     "text": [
      "Accuracy: 0.7932960893854749\n"
     ]
    }
   ],
   "source": [
    "AdaBoost_classifier = AdaBoostClassifier()\n",
    "\n",
    "AdaBoost_classifier.fit(X_train, y_train)\n",
    "\n",
    "y_pred = AdaBoost_classifier.predict(X_test)\n",
    "\n",
    "accuracy = accuracy_score(y_test, y_pred)\n",
    "print('Accuracy:', accuracy)"
   ]
  },
  {
   "cell_type": "code",
   "execution_count": 146,
   "metadata": {},
   "outputs": [
    {
     "name": "stdout",
     "output_type": "stream",
     "text": [
      "[[93 17]\n",
      " [20 49]]\n"
     ]
    }
   ],
   "source": [
    "print(confusion_matrix(y_test, y_pred))"
   ]
  },
  {
   "cell_type": "code",
   "execution_count": 147,
   "metadata": {},
   "outputs": [
    {
     "name": "stdout",
     "output_type": "stream",
     "text": [
      "[07:29:20] WARNING: C:/Users/Administrator/workspace/xgboost-win64_release_1.4.0/src/learner.cc:1095: Starting in XGBoost 1.3.0, the default evaluation metric used with the objective 'binary:logistic' was changed from 'error' to 'logloss'. Explicitly set eval_metric if you'd like to restore the old behavior.\n",
      "Accuracy: 0.8603351955307262\n"
     ]
    }
   ],
   "source": [
    "xgb = XGBClassifier(random_state=121)\n",
    "\n",
    "xgb.fit(X_train, y_train)\n",
    "\n",
    "y_pred = xgb.predict(X_test)\n",
    "\n",
    "accuracy = accuracy_score(y_test, y_pred)\n",
    "print('Accuracy:', accuracy)"
   ]
  },
  {
   "cell_type": "code",
   "execution_count": 148,
   "metadata": {},
   "outputs": [
    {
     "name": "stdout",
     "output_type": "stream",
     "text": [
      "[[98 12]\n",
      " [13 56]]\n"
     ]
    }
   ],
   "source": [
    "print(confusion_matrix(y_test, y_pred))"
   ]
  },
  {
   "cell_type": "code",
   "execution_count": 149,
   "metadata": {
    "scrolled": true
   },
   "outputs": [
    {
     "name": "stdout",
     "output_type": "stream",
     "text": [
      "Learning rate set to 0.008911\n",
      "0:\tlearn: 0.6874472\ttotal: 144ms\tremaining: 2m 24s\n",
      "1:\tlearn: 0.6812164\ttotal: 147ms\tremaining: 1m 13s\n",
      "2:\tlearn: 0.6753549\ttotal: 150ms\tremaining: 49.7s\n",
      "3:\tlearn: 0.6701691\ttotal: 152ms\tremaining: 37.9s\n",
      "4:\tlearn: 0.6646097\ttotal: 155ms\tremaining: 30.8s\n",
      "5:\tlearn: 0.6590470\ttotal: 158ms\tremaining: 26.1s\n",
      "6:\tlearn: 0.6539511\ttotal: 160ms\tremaining: 22.7s\n",
      "7:\tlearn: 0.6484745\ttotal: 163ms\tremaining: 20.2s\n",
      "8:\tlearn: 0.6434521\ttotal: 166ms\tremaining: 18.3s\n",
      "9:\tlearn: 0.6380793\ttotal: 168ms\tremaining: 16.7s\n",
      "10:\tlearn: 0.6340415\ttotal: 171ms\tremaining: 15.4s\n",
      "11:\tlearn: 0.6291378\ttotal: 174ms\tremaining: 14.3s\n",
      "12:\tlearn: 0.6246981\ttotal: 177ms\tremaining: 13.4s\n",
      "13:\tlearn: 0.6204981\ttotal: 179ms\tremaining: 12.6s\n",
      "14:\tlearn: 0.6164172\ttotal: 182ms\tremaining: 11.9s\n",
      "15:\tlearn: 0.6118140\ttotal: 184ms\tremaining: 11.3s\n",
      "16:\tlearn: 0.6076514\ttotal: 187ms\tremaining: 10.8s\n",
      "17:\tlearn: 0.6034800\ttotal: 189ms\tremaining: 10.3s\n",
      "18:\tlearn: 0.5992560\ttotal: 191ms\tremaining: 9.87s\n",
      "19:\tlearn: 0.5947303\ttotal: 194ms\tremaining: 9.51s\n",
      "20:\tlearn: 0.5909185\ttotal: 197ms\tremaining: 9.17s\n",
      "21:\tlearn: 0.5866896\ttotal: 199ms\tremaining: 8.84s\n",
      "22:\tlearn: 0.5830206\ttotal: 201ms\tremaining: 8.56s\n",
      "23:\tlearn: 0.5785607\ttotal: 204ms\tremaining: 8.3s\n",
      "24:\tlearn: 0.5750126\ttotal: 207ms\tremaining: 8.05s\n",
      "25:\tlearn: 0.5713222\ttotal: 209ms\tremaining: 7.83s\n",
      "26:\tlearn: 0.5672742\ttotal: 211ms\tremaining: 7.62s\n",
      "27:\tlearn: 0.5639499\ttotal: 214ms\tremaining: 7.41s\n",
      "28:\tlearn: 0.5602933\ttotal: 216ms\tremaining: 7.23s\n",
      "29:\tlearn: 0.5570746\ttotal: 218ms\tremaining: 7.05s\n",
      "30:\tlearn: 0.5535525\ttotal: 220ms\tremaining: 6.88s\n",
      "31:\tlearn: 0.5505933\ttotal: 222ms\tremaining: 6.73s\n",
      "32:\tlearn: 0.5470943\ttotal: 225ms\tremaining: 6.58s\n",
      "33:\tlearn: 0.5438647\ttotal: 226ms\tremaining: 6.43s\n",
      "34:\tlearn: 0.5405115\ttotal: 228ms\tremaining: 6.29s\n",
      "35:\tlearn: 0.5375139\ttotal: 231ms\tremaining: 6.17s\n",
      "36:\tlearn: 0.5349188\ttotal: 232ms\tremaining: 6.04s\n",
      "37:\tlearn: 0.5322521\ttotal: 234ms\tremaining: 5.92s\n",
      "38:\tlearn: 0.5295406\ttotal: 236ms\tremaining: 5.81s\n",
      "39:\tlearn: 0.5269375\ttotal: 238ms\tremaining: 5.71s\n",
      "40:\tlearn: 0.5241554\ttotal: 240ms\tremaining: 5.61s\n",
      "41:\tlearn: 0.5214767\ttotal: 242ms\tremaining: 5.52s\n",
      "42:\tlearn: 0.5190018\ttotal: 245ms\tremaining: 5.45s\n",
      "43:\tlearn: 0.5163188\ttotal: 247ms\tremaining: 5.36s\n",
      "44:\tlearn: 0.5140852\ttotal: 249ms\tremaining: 5.29s\n",
      "45:\tlearn: 0.5119236\ttotal: 251ms\tremaining: 5.21s\n",
      "46:\tlearn: 0.5093411\ttotal: 253ms\tremaining: 5.14s\n",
      "47:\tlearn: 0.5068244\ttotal: 255ms\tremaining: 5.07s\n",
      "48:\tlearn: 0.5041323\ttotal: 257ms\tremaining: 5s\n",
      "49:\tlearn: 0.5016345\ttotal: 260ms\tremaining: 4.94s\n",
      "50:\tlearn: 0.4997722\ttotal: 262ms\tremaining: 4.88s\n",
      "51:\tlearn: 0.4972050\ttotal: 264ms\tremaining: 4.81s\n",
      "52:\tlearn: 0.4951163\ttotal: 266ms\tremaining: 4.75s\n",
      "53:\tlearn: 0.4930030\ttotal: 268ms\tremaining: 4.69s\n",
      "54:\tlearn: 0.4907564\ttotal: 269ms\tremaining: 4.63s\n",
      "55:\tlearn: 0.4887299\ttotal: 271ms\tremaining: 4.58s\n",
      "56:\tlearn: 0.4867030\ttotal: 274ms\tremaining: 4.53s\n",
      "57:\tlearn: 0.4844792\ttotal: 276ms\tremaining: 4.49s\n",
      "58:\tlearn: 0.4822225\ttotal: 278ms\tremaining: 4.44s\n",
      "59:\tlearn: 0.4800655\ttotal: 280ms\tremaining: 4.39s\n",
      "60:\tlearn: 0.4784893\ttotal: 282ms\tremaining: 4.34s\n",
      "61:\tlearn: 0.4763308\ttotal: 284ms\tremaining: 4.3s\n",
      "62:\tlearn: 0.4745194\ttotal: 287ms\tremaining: 4.27s\n",
      "63:\tlearn: 0.4727316\ttotal: 289ms\tremaining: 4.23s\n",
      "64:\tlearn: 0.4708000\ttotal: 291ms\tremaining: 4.18s\n",
      "65:\tlearn: 0.4692973\ttotal: 293ms\tremaining: 4.14s\n",
      "66:\tlearn: 0.4678260\ttotal: 295ms\tremaining: 4.1s\n",
      "67:\tlearn: 0.4657732\ttotal: 296ms\tremaining: 4.06s\n",
      "68:\tlearn: 0.4644008\ttotal: 298ms\tremaining: 4.02s\n",
      "69:\tlearn: 0.4626037\ttotal: 300ms\tremaining: 3.99s\n",
      "70:\tlearn: 0.4610352\ttotal: 302ms\tremaining: 3.95s\n",
      "71:\tlearn: 0.4595576\ttotal: 305ms\tremaining: 3.93s\n",
      "72:\tlearn: 0.4578230\ttotal: 307ms\tremaining: 3.9s\n",
      "73:\tlearn: 0.4561325\ttotal: 309ms\tremaining: 3.87s\n",
      "74:\tlearn: 0.4544742\ttotal: 311ms\tremaining: 3.84s\n",
      "75:\tlearn: 0.4531770\ttotal: 313ms\tremaining: 3.81s\n",
      "76:\tlearn: 0.4514772\ttotal: 316ms\tremaining: 3.78s\n",
      "77:\tlearn: 0.4499098\ttotal: 318ms\tremaining: 3.76s\n",
      "78:\tlearn: 0.4485473\ttotal: 320ms\tremaining: 3.73s\n",
      "79:\tlearn: 0.4473486\ttotal: 322ms\tremaining: 3.7s\n",
      "80:\tlearn: 0.4458669\ttotal: 324ms\tremaining: 3.67s\n",
      "81:\tlearn: 0.4444417\ttotal: 326ms\tremaining: 3.64s\n",
      "82:\tlearn: 0.4432542\ttotal: 327ms\tremaining: 3.62s\n",
      "83:\tlearn: 0.4418521\ttotal: 329ms\tremaining: 3.59s\n",
      "84:\tlearn: 0.4404515\ttotal: 331ms\tremaining: 3.57s\n",
      "85:\tlearn: 0.4392751\ttotal: 333ms\tremaining: 3.54s\n",
      "86:\tlearn: 0.4380726\ttotal: 335ms\tremaining: 3.52s\n",
      "87:\tlearn: 0.4369448\ttotal: 337ms\tremaining: 3.5s\n",
      "88:\tlearn: 0.4354262\ttotal: 340ms\tremaining: 3.48s\n",
      "89:\tlearn: 0.4341444\ttotal: 342ms\tremaining: 3.46s\n",
      "90:\tlearn: 0.4330500\ttotal: 344ms\tremaining: 3.44s\n",
      "91:\tlearn: 0.4320262\ttotal: 347ms\tremaining: 3.42s\n",
      "92:\tlearn: 0.4307487\ttotal: 349ms\tremaining: 3.4s\n",
      "93:\tlearn: 0.4293731\ttotal: 351ms\tremaining: 3.38s\n",
      "94:\tlearn: 0.4287829\ttotal: 353ms\tremaining: 3.36s\n",
      "95:\tlearn: 0.4280785\ttotal: 355ms\tremaining: 3.34s\n",
      "96:\tlearn: 0.4273272\ttotal: 357ms\tremaining: 3.33s\n",
      "97:\tlearn: 0.4266871\ttotal: 359ms\tremaining: 3.3s\n",
      "98:\tlearn: 0.4257726\ttotal: 360ms\tremaining: 3.28s\n",
      "99:\tlearn: 0.4244599\ttotal: 362ms\tremaining: 3.26s\n",
      "100:\tlearn: 0.4235892\ttotal: 364ms\tremaining: 3.24s\n",
      "101:\tlearn: 0.4226753\ttotal: 366ms\tremaining: 3.22s\n",
      "102:\tlearn: 0.4216052\ttotal: 368ms\tremaining: 3.21s\n",
      "103:\tlearn: 0.4206627\ttotal: 370ms\tremaining: 3.19s\n",
      "104:\tlearn: 0.4197716\ttotal: 373ms\tremaining: 3.18s\n",
      "105:\tlearn: 0.4188972\ttotal: 375ms\tremaining: 3.16s\n",
      "106:\tlearn: 0.4180881\ttotal: 377ms\tremaining: 3.14s\n",
      "107:\tlearn: 0.4171933\ttotal: 379ms\tremaining: 3.13s\n",
      "108:\tlearn: 0.4162864\ttotal: 381ms\tremaining: 3.11s\n",
      "109:\tlearn: 0.4156205\ttotal: 383ms\tremaining: 3.1s\n",
      "110:\tlearn: 0.4150833\ttotal: 385ms\tremaining: 3.08s\n",
      "111:\tlearn: 0.4142778\ttotal: 388ms\tremaining: 3.07s\n",
      "112:\tlearn: 0.4135688\ttotal: 390ms\tremaining: 3.06s\n",
      "113:\tlearn: 0.4124984\ttotal: 392ms\tremaining: 3.04s\n",
      "114:\tlearn: 0.4121205\ttotal: 393ms\tremaining: 3.02s\n",
      "115:\tlearn: 0.4111688\ttotal: 395ms\tremaining: 3.01s\n",
      "116:\tlearn: 0.4108163\ttotal: 396ms\tremaining: 2.99s\n",
      "117:\tlearn: 0.4100969\ttotal: 398ms\tremaining: 2.98s\n",
      "118:\tlearn: 0.4091780\ttotal: 401ms\tremaining: 2.96s\n",
      "119:\tlearn: 0.4082803\ttotal: 403ms\tremaining: 2.95s\n",
      "120:\tlearn: 0.4074978\ttotal: 405ms\tremaining: 2.94s\n",
      "121:\tlearn: 0.4068494\ttotal: 408ms\tremaining: 2.93s\n",
      "122:\tlearn: 0.4062216\ttotal: 410ms\tremaining: 2.92s\n",
      "123:\tlearn: 0.4052454\ttotal: 412ms\tremaining: 2.91s\n",
      "124:\tlearn: 0.4045375\ttotal: 415ms\tremaining: 2.9s\n",
      "125:\tlearn: 0.4038970\ttotal: 417ms\tremaining: 2.89s\n",
      "126:\tlearn: 0.4035181\ttotal: 418ms\tremaining: 2.88s\n",
      "127:\tlearn: 0.4027633\ttotal: 420ms\tremaining: 2.86s\n",
      "128:\tlearn: 0.4019650\ttotal: 423ms\tremaining: 2.85s\n",
      "129:\tlearn: 0.4017493\ttotal: 424ms\tremaining: 2.83s\n",
      "130:\tlearn: 0.4011743\ttotal: 426ms\tremaining: 2.82s\n",
      "131:\tlearn: 0.4007792\ttotal: 428ms\tremaining: 2.81s\n",
      "132:\tlearn: 0.4000565\ttotal: 431ms\tremaining: 2.81s\n",
      "133:\tlearn: 0.3992186\ttotal: 433ms\tremaining: 2.8s\n",
      "134:\tlearn: 0.3983857\ttotal: 435ms\tremaining: 2.79s\n",
      "135:\tlearn: 0.3977603\ttotal: 438ms\tremaining: 2.78s\n",
      "136:\tlearn: 0.3973215\ttotal: 440ms\tremaining: 2.77s\n",
      "137:\tlearn: 0.3964614\ttotal: 442ms\tremaining: 2.76s\n",
      "138:\tlearn: 0.3957587\ttotal: 444ms\tremaining: 2.75s\n",
      "139:\tlearn: 0.3952065\ttotal: 446ms\tremaining: 2.74s\n",
      "140:\tlearn: 0.3945049\ttotal: 449ms\tremaining: 2.73s\n",
      "141:\tlearn: 0.3937922\ttotal: 451ms\tremaining: 2.72s\n",
      "142:\tlearn: 0.3930642\ttotal: 453ms\tremaining: 2.71s\n",
      "143:\tlearn: 0.3922952\ttotal: 455ms\tremaining: 2.71s\n",
      "144:\tlearn: 0.3915945\ttotal: 458ms\tremaining: 2.7s\n",
      "145:\tlearn: 0.3910790\ttotal: 460ms\tremaining: 2.69s\n",
      "146:\tlearn: 0.3905403\ttotal: 462ms\tremaining: 2.68s\n",
      "147:\tlearn: 0.3901374\ttotal: 464ms\tremaining: 2.67s\n",
      "148:\tlearn: 0.3897008\ttotal: 466ms\tremaining: 2.66s\n",
      "149:\tlearn: 0.3891009\ttotal: 468ms\tremaining: 2.65s\n",
      "150:\tlearn: 0.3889512\ttotal: 469ms\tremaining: 2.64s\n",
      "151:\tlearn: 0.3885986\ttotal: 471ms\tremaining: 2.63s\n",
      "152:\tlearn: 0.3878378\ttotal: 473ms\tremaining: 2.62s\n",
      "153:\tlearn: 0.3873883\ttotal: 475ms\tremaining: 2.61s\n",
      "154:\tlearn: 0.3867960\ttotal: 478ms\tremaining: 2.6s\n",
      "155:\tlearn: 0.3863245\ttotal: 480ms\tremaining: 2.6s\n",
      "156:\tlearn: 0.3857225\ttotal: 482ms\tremaining: 2.59s\n",
      "157:\tlearn: 0.3848829\ttotal: 485ms\tremaining: 2.59s\n",
      "158:\tlearn: 0.3844206\ttotal: 487ms\tremaining: 2.58s\n",
      "159:\tlearn: 0.3837630\ttotal: 490ms\tremaining: 2.57s\n",
      "160:\tlearn: 0.3834421\ttotal: 492ms\tremaining: 2.57s\n",
      "161:\tlearn: 0.3829897\ttotal: 494ms\tremaining: 2.55s\n",
      "162:\tlearn: 0.3824267\ttotal: 496ms\tremaining: 2.55s\n",
      "163:\tlearn: 0.3820858\ttotal: 498ms\tremaining: 2.54s\n",
      "164:\tlearn: 0.3817409\ttotal: 500ms\tremaining: 2.53s\n",
      "165:\tlearn: 0.3815373\ttotal: 502ms\tremaining: 2.52s\n",
      "166:\tlearn: 0.3810811\ttotal: 504ms\tremaining: 2.51s\n",
      "167:\tlearn: 0.3806989\ttotal: 506ms\tremaining: 2.5s\n",
      "168:\tlearn: 0.3803151\ttotal: 508ms\tremaining: 2.5s\n",
      "169:\tlearn: 0.3800743\ttotal: 510ms\tremaining: 2.49s\n",
      "170:\tlearn: 0.3798202\ttotal: 512ms\tremaining: 2.48s\n",
      "171:\tlearn: 0.3792605\ttotal: 514ms\tremaining: 2.47s\n",
      "172:\tlearn: 0.3787793\ttotal: 517ms\tremaining: 2.47s\n",
      "173:\tlearn: 0.3783372\ttotal: 519ms\tremaining: 2.46s\n",
      "174:\tlearn: 0.3780623\ttotal: 521ms\tremaining: 2.46s\n",
      "175:\tlearn: 0.3774472\ttotal: 524ms\tremaining: 2.45s\n",
      "176:\tlearn: 0.3770665\ttotal: 526ms\tremaining: 2.45s\n",
      "177:\tlearn: 0.3765938\ttotal: 529ms\tremaining: 2.44s\n",
      "178:\tlearn: 0.3762032\ttotal: 531ms\tremaining: 2.43s\n",
      "179:\tlearn: 0.3758941\ttotal: 533ms\tremaining: 2.43s\n",
      "180:\tlearn: 0.3755783\ttotal: 535ms\tremaining: 2.42s\n",
      "181:\tlearn: 0.3751707\ttotal: 536ms\tremaining: 2.41s\n",
      "182:\tlearn: 0.3746557\ttotal: 539ms\tremaining: 2.4s\n",
      "183:\tlearn: 0.3743673\ttotal: 541ms\tremaining: 2.4s\n",
      "184:\tlearn: 0.3738477\ttotal: 543ms\tremaining: 2.39s\n",
      "185:\tlearn: 0.3735658\ttotal: 545ms\tremaining: 2.38s\n",
      "186:\tlearn: 0.3731177\ttotal: 547ms\tremaining: 2.38s\n",
      "187:\tlearn: 0.3728017\ttotal: 549ms\tremaining: 2.37s\n",
      "188:\tlearn: 0.3722555\ttotal: 551ms\tremaining: 2.36s\n",
      "189:\tlearn: 0.3718966\ttotal: 553ms\tremaining: 2.36s\n",
      "190:\tlearn: 0.3715734\ttotal: 555ms\tremaining: 2.35s\n",
      "191:\tlearn: 0.3711803\ttotal: 558ms\tremaining: 2.35s\n",
      "192:\tlearn: 0.3707198\ttotal: 560ms\tremaining: 2.34s\n",
      "193:\tlearn: 0.3703964\ttotal: 562ms\tremaining: 2.33s\n",
      "194:\tlearn: 0.3700785\ttotal: 564ms\tremaining: 2.33s\n",
      "195:\tlearn: 0.3698553\ttotal: 566ms\tremaining: 2.32s\n",
      "196:\tlearn: 0.3694186\ttotal: 568ms\tremaining: 2.31s\n",
      "197:\tlearn: 0.3690948\ttotal: 570ms\tremaining: 2.31s\n",
      "198:\tlearn: 0.3688822\ttotal: 571ms\tremaining: 2.3s\n",
      "199:\tlearn: 0.3683882\ttotal: 573ms\tremaining: 2.29s\n",
      "200:\tlearn: 0.3680772\ttotal: 575ms\tremaining: 2.29s\n",
      "201:\tlearn: 0.3676768\ttotal: 578ms\tremaining: 2.28s\n",
      "202:\tlearn: 0.3674761\ttotal: 580ms\tremaining: 2.28s\n",
      "203:\tlearn: 0.3670233\ttotal: 583ms\tremaining: 2.27s\n",
      "204:\tlearn: 0.3664629\ttotal: 585ms\tremaining: 2.27s\n",
      "205:\tlearn: 0.3658443\ttotal: 587ms\tremaining: 2.26s\n",
      "206:\tlearn: 0.3655372\ttotal: 589ms\tremaining: 2.25s\n",
      "207:\tlearn: 0.3652576\ttotal: 591ms\tremaining: 2.25s\n",
      "208:\tlearn: 0.3649394\ttotal: 592ms\tremaining: 2.24s\n",
      "209:\tlearn: 0.3645391\ttotal: 594ms\tremaining: 2.24s\n",
      "210:\tlearn: 0.3643784\ttotal: 596ms\tremaining: 2.23s\n",
      "211:\tlearn: 0.3640132\ttotal: 598ms\tremaining: 2.22s\n",
      "212:\tlearn: 0.3637465\ttotal: 600ms\tremaining: 2.22s\n",
      "213:\tlearn: 0.3634112\ttotal: 602ms\tremaining: 2.21s\n",
      "214:\tlearn: 0.3631185\ttotal: 605ms\tremaining: 2.21s\n",
      "215:\tlearn: 0.3627930\ttotal: 607ms\tremaining: 2.2s\n",
      "216:\tlearn: 0.3625900\ttotal: 609ms\tremaining: 2.2s\n",
      "217:\tlearn: 0.3622534\ttotal: 612ms\tremaining: 2.19s\n",
      "218:\tlearn: 0.3617855\ttotal: 614ms\tremaining: 2.19s\n",
      "219:\tlearn: 0.3615213\ttotal: 616ms\tremaining: 2.18s\n",
      "220:\tlearn: 0.3610235\ttotal: 618ms\tremaining: 2.18s\n",
      "221:\tlearn: 0.3607877\ttotal: 619ms\tremaining: 2.17s\n"
     ]
    },
    {
     "name": "stdout",
     "output_type": "stream",
     "text": [
      "222:\tlearn: 0.3603677\ttotal: 621ms\tremaining: 2.17s\n",
      "223:\tlearn: 0.3599478\ttotal: 624ms\tremaining: 2.16s\n",
      "224:\tlearn: 0.3596321\ttotal: 626ms\tremaining: 2.15s\n",
      "225:\tlearn: 0.3593695\ttotal: 628ms\tremaining: 2.15s\n",
      "226:\tlearn: 0.3591610\ttotal: 630ms\tremaining: 2.14s\n",
      "227:\tlearn: 0.3588511\ttotal: 632ms\tremaining: 2.14s\n",
      "228:\tlearn: 0.3587040\ttotal: 634ms\tremaining: 2.13s\n",
      "229:\tlearn: 0.3585150\ttotal: 636ms\tremaining: 2.13s\n",
      "230:\tlearn: 0.3583819\ttotal: 639ms\tremaining: 2.13s\n",
      "231:\tlearn: 0.3579993\ttotal: 641ms\tremaining: 2.12s\n",
      "232:\tlearn: 0.3575984\ttotal: 643ms\tremaining: 2.12s\n",
      "233:\tlearn: 0.3572635\ttotal: 645ms\tremaining: 2.11s\n",
      "234:\tlearn: 0.3570086\ttotal: 647ms\tremaining: 2.1s\n",
      "235:\tlearn: 0.3566842\ttotal: 649ms\tremaining: 2.1s\n",
      "236:\tlearn: 0.3564347\ttotal: 651ms\tremaining: 2.1s\n",
      "237:\tlearn: 0.3560734\ttotal: 653ms\tremaining: 2.09s\n",
      "238:\tlearn: 0.3559040\ttotal: 655ms\tremaining: 2.08s\n",
      "239:\tlearn: 0.3555425\ttotal: 657ms\tremaining: 2.08s\n",
      "240:\tlearn: 0.3551936\ttotal: 659ms\tremaining: 2.08s\n",
      "241:\tlearn: 0.3547860\ttotal: 662ms\tremaining: 2.07s\n",
      "242:\tlearn: 0.3546213\ttotal: 664ms\tremaining: 2.07s\n",
      "243:\tlearn: 0.3543789\ttotal: 667ms\tremaining: 2.06s\n",
      "244:\tlearn: 0.3540780\ttotal: 669ms\tremaining: 2.06s\n",
      "245:\tlearn: 0.3537897\ttotal: 671ms\tremaining: 2.06s\n",
      "246:\tlearn: 0.3536354\ttotal: 673ms\tremaining: 2.05s\n",
      "247:\tlearn: 0.3535196\ttotal: 676ms\tremaining: 2.05s\n",
      "248:\tlearn: 0.3531412\ttotal: 678ms\tremaining: 2.04s\n",
      "249:\tlearn: 0.3529990\ttotal: 680ms\tremaining: 2.04s\n",
      "250:\tlearn: 0.3527648\ttotal: 682ms\tremaining: 2.04s\n",
      "251:\tlearn: 0.3526154\ttotal: 684ms\tremaining: 2.03s\n",
      "252:\tlearn: 0.3523480\ttotal: 686ms\tremaining: 2.02s\n",
      "253:\tlearn: 0.3520375\ttotal: 688ms\tremaining: 2.02s\n",
      "254:\tlearn: 0.3518083\ttotal: 689ms\tremaining: 2.01s\n",
      "255:\tlearn: 0.3515747\ttotal: 692ms\tremaining: 2.01s\n",
      "256:\tlearn: 0.3514576\ttotal: 693ms\tremaining: 2s\n",
      "257:\tlearn: 0.3512561\ttotal: 695ms\tremaining: 2s\n",
      "258:\tlearn: 0.3507725\ttotal: 697ms\tremaining: 2s\n",
      "259:\tlearn: 0.3506115\ttotal: 699ms\tremaining: 1.99s\n",
      "260:\tlearn: 0.3502076\ttotal: 702ms\tremaining: 1.99s\n",
      "261:\tlearn: 0.3499818\ttotal: 704ms\tremaining: 1.98s\n",
      "262:\tlearn: 0.3496234\ttotal: 706ms\tremaining: 1.98s\n",
      "263:\tlearn: 0.3492393\ttotal: 708ms\tremaining: 1.97s\n",
      "264:\tlearn: 0.3490007\ttotal: 710ms\tremaining: 1.97s\n",
      "265:\tlearn: 0.3487918\ttotal: 712ms\tremaining: 1.96s\n",
      "266:\tlearn: 0.3484328\ttotal: 713ms\tremaining: 1.96s\n",
      "267:\tlearn: 0.3484160\ttotal: 714ms\tremaining: 1.95s\n",
      "268:\tlearn: 0.3482373\ttotal: 716ms\tremaining: 1.95s\n",
      "269:\tlearn: 0.3479923\ttotal: 718ms\tremaining: 1.94s\n",
      "270:\tlearn: 0.3478610\ttotal: 720ms\tremaining: 1.94s\n",
      "271:\tlearn: 0.3477900\ttotal: 721ms\tremaining: 1.93s\n",
      "272:\tlearn: 0.3475661\ttotal: 724ms\tremaining: 1.93s\n",
      "273:\tlearn: 0.3474045\ttotal: 726ms\tremaining: 1.92s\n",
      "274:\tlearn: 0.3469722\ttotal: 728ms\tremaining: 1.92s\n",
      "275:\tlearn: 0.3467103\ttotal: 730ms\tremaining: 1.92s\n",
      "276:\tlearn: 0.3465896\ttotal: 732ms\tremaining: 1.91s\n",
      "277:\tlearn: 0.3463168\ttotal: 734ms\tremaining: 1.91s\n",
      "278:\tlearn: 0.3460238\ttotal: 736ms\tremaining: 1.9s\n",
      "279:\tlearn: 0.3457947\ttotal: 738ms\tremaining: 1.9s\n",
      "280:\tlearn: 0.3456023\ttotal: 740ms\tremaining: 1.89s\n",
      "281:\tlearn: 0.3455031\ttotal: 742ms\tremaining: 1.89s\n",
      "282:\tlearn: 0.3452761\ttotal: 744ms\tremaining: 1.88s\n",
      "283:\tlearn: 0.3447553\ttotal: 746ms\tremaining: 1.88s\n",
      "284:\tlearn: 0.3445606\ttotal: 748ms\tremaining: 1.88s\n",
      "285:\tlearn: 0.3443546\ttotal: 750ms\tremaining: 1.87s\n",
      "286:\tlearn: 0.3442079\ttotal: 752ms\tremaining: 1.87s\n",
      "287:\tlearn: 0.3440880\ttotal: 754ms\tremaining: 1.86s\n",
      "288:\tlearn: 0.3439676\ttotal: 756ms\tremaining: 1.86s\n",
      "289:\tlearn: 0.3437394\ttotal: 758ms\tremaining: 1.86s\n",
      "290:\tlearn: 0.3433639\ttotal: 761ms\tremaining: 1.85s\n",
      "291:\tlearn: 0.3430376\ttotal: 763ms\tremaining: 1.85s\n",
      "292:\tlearn: 0.3428360\ttotal: 765ms\tremaining: 1.84s\n",
      "293:\tlearn: 0.3427201\ttotal: 767ms\tremaining: 1.84s\n",
      "294:\tlearn: 0.3424740\ttotal: 769ms\tremaining: 1.84s\n",
      "295:\tlearn: 0.3422626\ttotal: 771ms\tremaining: 1.83s\n",
      "296:\tlearn: 0.3419087\ttotal: 773ms\tremaining: 1.83s\n",
      "297:\tlearn: 0.3417394\ttotal: 775ms\tremaining: 1.82s\n",
      "298:\tlearn: 0.3415082\ttotal: 777ms\tremaining: 1.82s\n",
      "299:\tlearn: 0.3413654\ttotal: 779ms\tremaining: 1.82s\n",
      "300:\tlearn: 0.3413371\ttotal: 781ms\tremaining: 1.81s\n",
      "301:\tlearn: 0.3411985\ttotal: 783ms\tremaining: 1.81s\n",
      "302:\tlearn: 0.3410018\ttotal: 785ms\tremaining: 1.8s\n",
      "303:\tlearn: 0.3408367\ttotal: 787ms\tremaining: 1.8s\n",
      "304:\tlearn: 0.3404985\ttotal: 790ms\tremaining: 1.8s\n",
      "305:\tlearn: 0.3403665\ttotal: 792ms\tremaining: 1.8s\n",
      "306:\tlearn: 0.3400269\ttotal: 795ms\tremaining: 1.79s\n",
      "307:\tlearn: 0.3398555\ttotal: 797ms\tremaining: 1.79s\n",
      "308:\tlearn: 0.3397397\ttotal: 799ms\tremaining: 1.79s\n",
      "309:\tlearn: 0.3395117\ttotal: 801ms\tremaining: 1.78s\n",
      "310:\tlearn: 0.3393043\ttotal: 803ms\tremaining: 1.78s\n",
      "311:\tlearn: 0.3391388\ttotal: 805ms\tremaining: 1.77s\n",
      "312:\tlearn: 0.3389718\ttotal: 807ms\tremaining: 1.77s\n",
      "313:\tlearn: 0.3387913\ttotal: 809ms\tremaining: 1.77s\n",
      "314:\tlearn: 0.3386873\ttotal: 811ms\tremaining: 1.76s\n",
      "315:\tlearn: 0.3383650\ttotal: 813ms\tremaining: 1.76s\n",
      "316:\tlearn: 0.3382921\ttotal: 815ms\tremaining: 1.76s\n",
      "317:\tlearn: 0.3379087\ttotal: 818ms\tremaining: 1.75s\n",
      "318:\tlearn: 0.3377646\ttotal: 820ms\tremaining: 1.75s\n",
      "319:\tlearn: 0.3375809\ttotal: 823ms\tremaining: 1.75s\n",
      "320:\tlearn: 0.3374727\ttotal: 825ms\tremaining: 1.75s\n",
      "321:\tlearn: 0.3371180\ttotal: 828ms\tremaining: 1.74s\n",
      "322:\tlearn: 0.3369683\ttotal: 830ms\tremaining: 1.74s\n",
      "323:\tlearn: 0.3366342\ttotal: 832ms\tremaining: 1.74s\n",
      "324:\tlearn: 0.3362802\ttotal: 834ms\tremaining: 1.73s\n",
      "325:\tlearn: 0.3360342\ttotal: 836ms\tremaining: 1.73s\n",
      "326:\tlearn: 0.3359563\ttotal: 838ms\tremaining: 1.73s\n",
      "327:\tlearn: 0.3357069\ttotal: 840ms\tremaining: 1.72s\n",
      "328:\tlearn: 0.3355439\ttotal: 842ms\tremaining: 1.72s\n",
      "329:\tlearn: 0.3353157\ttotal: 844ms\tremaining: 1.71s\n",
      "330:\tlearn: 0.3351579\ttotal: 846ms\tremaining: 1.71s\n",
      "331:\tlearn: 0.3349975\ttotal: 848ms\tremaining: 1.71s\n",
      "332:\tlearn: 0.3347424\ttotal: 850ms\tremaining: 1.7s\n",
      "333:\tlearn: 0.3344882\ttotal: 852ms\tremaining: 1.7s\n",
      "334:\tlearn: 0.3344441\ttotal: 854ms\tremaining: 1.7s\n",
      "335:\tlearn: 0.3342481\ttotal: 857ms\tremaining: 1.69s\n",
      "336:\tlearn: 0.3340456\ttotal: 859ms\tremaining: 1.69s\n",
      "337:\tlearn: 0.3337687\ttotal: 861ms\tremaining: 1.69s\n",
      "338:\tlearn: 0.3335666\ttotal: 864ms\tremaining: 1.68s\n",
      "339:\tlearn: 0.3334455\ttotal: 866ms\tremaining: 1.68s\n",
      "340:\tlearn: 0.3331567\ttotal: 868ms\tremaining: 1.68s\n",
      "341:\tlearn: 0.3328181\ttotal: 870ms\tremaining: 1.67s\n",
      "342:\tlearn: 0.3326838\ttotal: 872ms\tremaining: 1.67s\n",
      "343:\tlearn: 0.3323486\ttotal: 874ms\tremaining: 1.67s\n",
      "344:\tlearn: 0.3321422\ttotal: 876ms\tremaining: 1.66s\n",
      "345:\tlearn: 0.3320219\ttotal: 878ms\tremaining: 1.66s\n",
      "346:\tlearn: 0.3319629\ttotal: 880ms\tremaining: 1.66s\n",
      "347:\tlearn: 0.3318327\ttotal: 882ms\tremaining: 1.65s\n",
      "348:\tlearn: 0.3316385\ttotal: 884ms\tremaining: 1.65s\n",
      "349:\tlearn: 0.3313447\ttotal: 886ms\tremaining: 1.65s\n",
      "350:\tlearn: 0.3312501\ttotal: 888ms\tremaining: 1.64s\n",
      "351:\tlearn: 0.3311055\ttotal: 890ms\tremaining: 1.64s\n",
      "352:\tlearn: 0.3310505\ttotal: 892ms\tremaining: 1.64s\n",
      "353:\tlearn: 0.3308626\ttotal: 895ms\tremaining: 1.63s\n",
      "354:\tlearn: 0.3306886\ttotal: 897ms\tremaining: 1.63s\n",
      "355:\tlearn: 0.3304385\ttotal: 899ms\tremaining: 1.63s\n",
      "356:\tlearn: 0.3303431\ttotal: 901ms\tremaining: 1.62s\n",
      "357:\tlearn: 0.3301548\ttotal: 903ms\tremaining: 1.62s\n",
      "358:\tlearn: 0.3299942\ttotal: 905ms\tremaining: 1.61s\n",
      "359:\tlearn: 0.3298805\ttotal: 907ms\tremaining: 1.61s\n",
      "360:\tlearn: 0.3297740\ttotal: 909ms\tremaining: 1.61s\n",
      "361:\tlearn: 0.3294476\ttotal: 912ms\tremaining: 1.61s\n",
      "362:\tlearn: 0.3293859\ttotal: 914ms\tremaining: 1.6s\n",
      "363:\tlearn: 0.3291827\ttotal: 916ms\tremaining: 1.6s\n",
      "364:\tlearn: 0.3289421\ttotal: 918ms\tremaining: 1.6s\n",
      "365:\tlearn: 0.3286801\ttotal: 920ms\tremaining: 1.59s\n",
      "366:\tlearn: 0.3285907\ttotal: 922ms\tremaining: 1.59s\n",
      "367:\tlearn: 0.3284605\ttotal: 924ms\tremaining: 1.59s\n",
      "368:\tlearn: 0.3279775\ttotal: 927ms\tremaining: 1.58s\n",
      "369:\tlearn: 0.3278836\ttotal: 929ms\tremaining: 1.58s\n",
      "370:\tlearn: 0.3275042\ttotal: 931ms\tremaining: 1.58s\n",
      "371:\tlearn: 0.3272993\ttotal: 933ms\tremaining: 1.57s\n",
      "372:\tlearn: 0.3272572\ttotal: 935ms\tremaining: 1.57s\n",
      "373:\tlearn: 0.3270021\ttotal: 938ms\tremaining: 1.57s\n",
      "374:\tlearn: 0.3267494\ttotal: 940ms\tremaining: 1.57s\n",
      "375:\tlearn: 0.3264839\ttotal: 942ms\tremaining: 1.56s\n",
      "376:\tlearn: 0.3262672\ttotal: 944ms\tremaining: 1.56s\n",
      "377:\tlearn: 0.3260910\ttotal: 946ms\tremaining: 1.56s\n",
      "378:\tlearn: 0.3259307\ttotal: 949ms\tremaining: 1.55s\n",
      "379:\tlearn: 0.3258163\ttotal: 952ms\tremaining: 1.55s\n",
      "380:\tlearn: 0.3255970\ttotal: 954ms\tremaining: 1.55s\n",
      "381:\tlearn: 0.3252290\ttotal: 956ms\tremaining: 1.55s\n",
      "382:\tlearn: 0.3250952\ttotal: 958ms\tremaining: 1.54s\n",
      "383:\tlearn: 0.3249778\ttotal: 961ms\tremaining: 1.54s\n"
     ]
    },
    {
     "name": "stdout",
     "output_type": "stream",
     "text": [
      "384:\tlearn: 0.3247516\ttotal: 964ms\tremaining: 1.54s\n",
      "385:\tlearn: 0.3246550\ttotal: 966ms\tremaining: 1.54s\n",
      "386:\tlearn: 0.3244181\ttotal: 968ms\tremaining: 1.53s\n",
      "387:\tlearn: 0.3242867\ttotal: 969ms\tremaining: 1.53s\n",
      "388:\tlearn: 0.3238119\ttotal: 971ms\tremaining: 1.52s\n",
      "389:\tlearn: 0.3234359\ttotal: 973ms\tremaining: 1.52s\n",
      "390:\tlearn: 0.3231692\ttotal: 976ms\tremaining: 1.52s\n",
      "391:\tlearn: 0.3230048\ttotal: 978ms\tremaining: 1.52s\n",
      "392:\tlearn: 0.3229011\ttotal: 980ms\tremaining: 1.51s\n",
      "393:\tlearn: 0.3228948\ttotal: 981ms\tremaining: 1.51s\n",
      "394:\tlearn: 0.3228135\ttotal: 983ms\tremaining: 1.5s\n",
      "395:\tlearn: 0.3226509\ttotal: 985ms\tremaining: 1.5s\n",
      "396:\tlearn: 0.3224436\ttotal: 987ms\tremaining: 1.5s\n",
      "397:\tlearn: 0.3222221\ttotal: 989ms\tremaining: 1.5s\n",
      "398:\tlearn: 0.3221047\ttotal: 991ms\tremaining: 1.49s\n",
      "399:\tlearn: 0.3218814\ttotal: 993ms\tremaining: 1.49s\n",
      "400:\tlearn: 0.3216631\ttotal: 996ms\tremaining: 1.49s\n",
      "401:\tlearn: 0.3214900\ttotal: 998ms\tremaining: 1.48s\n",
      "402:\tlearn: 0.3213200\ttotal: 1000ms\tremaining: 1.48s\n",
      "403:\tlearn: 0.3212311\ttotal: 1s\tremaining: 1.48s\n",
      "404:\tlearn: 0.3210619\ttotal: 1s\tremaining: 1.47s\n",
      "405:\tlearn: 0.3209515\ttotal: 1s\tremaining: 1.47s\n",
      "406:\tlearn: 0.3207242\ttotal: 1.01s\tremaining: 1.47s\n",
      "407:\tlearn: 0.3206059\ttotal: 1.01s\tremaining: 1.47s\n",
      "408:\tlearn: 0.3204698\ttotal: 1.01s\tremaining: 1.46s\n",
      "409:\tlearn: 0.3203317\ttotal: 1.01s\tremaining: 1.46s\n",
      "410:\tlearn: 0.3202702\ttotal: 1.02s\tremaining: 1.46s\n",
      "411:\tlearn: 0.3201342\ttotal: 1.02s\tremaining: 1.45s\n",
      "412:\tlearn: 0.3198855\ttotal: 1.02s\tremaining: 1.45s\n",
      "413:\tlearn: 0.3198123\ttotal: 1.02s\tremaining: 1.45s\n",
      "414:\tlearn: 0.3196099\ttotal: 1.02s\tremaining: 1.44s\n",
      "415:\tlearn: 0.3194687\ttotal: 1.02s\tremaining: 1.44s\n",
      "416:\tlearn: 0.3193406\ttotal: 1.03s\tremaining: 1.44s\n",
      "417:\tlearn: 0.3192596\ttotal: 1.03s\tremaining: 1.43s\n",
      "418:\tlearn: 0.3190680\ttotal: 1.03s\tremaining: 1.43s\n",
      "419:\tlearn: 0.3188547\ttotal: 1.03s\tremaining: 1.43s\n",
      "420:\tlearn: 0.3186277\ttotal: 1.03s\tremaining: 1.42s\n",
      "421:\tlearn: 0.3184076\ttotal: 1.04s\tremaining: 1.42s\n",
      "422:\tlearn: 0.3182798\ttotal: 1.04s\tremaining: 1.42s\n",
      "423:\tlearn: 0.3181795\ttotal: 1.04s\tremaining: 1.42s\n",
      "424:\tlearn: 0.3179165\ttotal: 1.04s\tremaining: 1.41s\n",
      "425:\tlearn: 0.3178508\ttotal: 1.04s\tremaining: 1.41s\n",
      "426:\tlearn: 0.3176935\ttotal: 1.05s\tremaining: 1.41s\n",
      "427:\tlearn: 0.3174453\ttotal: 1.05s\tremaining: 1.4s\n",
      "428:\tlearn: 0.3173272\ttotal: 1.05s\tremaining: 1.4s\n",
      "429:\tlearn: 0.3171513\ttotal: 1.05s\tremaining: 1.4s\n",
      "430:\tlearn: 0.3170544\ttotal: 1.05s\tremaining: 1.39s\n",
      "431:\tlearn: 0.3169355\ttotal: 1.06s\tremaining: 1.39s\n",
      "432:\tlearn: 0.3167671\ttotal: 1.06s\tremaining: 1.39s\n",
      "433:\tlearn: 0.3166728\ttotal: 1.06s\tremaining: 1.38s\n",
      "434:\tlearn: 0.3163299\ttotal: 1.06s\tremaining: 1.38s\n",
      "435:\tlearn: 0.3162536\ttotal: 1.06s\tremaining: 1.38s\n",
      "436:\tlearn: 0.3159632\ttotal: 1.07s\tremaining: 1.38s\n",
      "437:\tlearn: 0.3157142\ttotal: 1.07s\tremaining: 1.37s\n",
      "438:\tlearn: 0.3156025\ttotal: 1.07s\tremaining: 1.37s\n",
      "439:\tlearn: 0.3155447\ttotal: 1.07s\tremaining: 1.37s\n",
      "440:\tlearn: 0.3154836\ttotal: 1.08s\tremaining: 1.36s\n",
      "441:\tlearn: 0.3148787\ttotal: 1.08s\tremaining: 1.36s\n",
      "442:\tlearn: 0.3146531\ttotal: 1.08s\tremaining: 1.36s\n",
      "443:\tlearn: 0.3146039\ttotal: 1.08s\tremaining: 1.35s\n",
      "444:\tlearn: 0.3143617\ttotal: 1.08s\tremaining: 1.35s\n",
      "445:\tlearn: 0.3141265\ttotal: 1.09s\tremaining: 1.35s\n",
      "446:\tlearn: 0.3140298\ttotal: 1.09s\tremaining: 1.35s\n",
      "447:\tlearn: 0.3137754\ttotal: 1.09s\tremaining: 1.34s\n",
      "448:\tlearn: 0.3137181\ttotal: 1.09s\tremaining: 1.34s\n",
      "449:\tlearn: 0.3135890\ttotal: 1.09s\tremaining: 1.34s\n",
      "450:\tlearn: 0.3133591\ttotal: 1.1s\tremaining: 1.34s\n",
      "451:\tlearn: 0.3131550\ttotal: 1.1s\tremaining: 1.33s\n",
      "452:\tlearn: 0.3130631\ttotal: 1.1s\tremaining: 1.33s\n",
      "453:\tlearn: 0.3129747\ttotal: 1.1s\tremaining: 1.33s\n",
      "454:\tlearn: 0.3127768\ttotal: 1.11s\tremaining: 1.32s\n",
      "455:\tlearn: 0.3124435\ttotal: 1.11s\tremaining: 1.32s\n",
      "456:\tlearn: 0.3121660\ttotal: 1.11s\tremaining: 1.32s\n",
      "457:\tlearn: 0.3120525\ttotal: 1.11s\tremaining: 1.32s\n",
      "458:\tlearn: 0.3119409\ttotal: 1.12s\tremaining: 1.31s\n",
      "459:\tlearn: 0.3117583\ttotal: 1.12s\tremaining: 1.31s\n",
      "460:\tlearn: 0.3114769\ttotal: 1.12s\tremaining: 1.31s\n",
      "461:\tlearn: 0.3114454\ttotal: 1.12s\tremaining: 1.31s\n",
      "462:\tlearn: 0.3114199\ttotal: 1.12s\tremaining: 1.3s\n",
      "463:\tlearn: 0.3111968\ttotal: 1.13s\tremaining: 1.3s\n",
      "464:\tlearn: 0.3111507\ttotal: 1.13s\tremaining: 1.3s\n",
      "465:\tlearn: 0.3110948\ttotal: 1.13s\tremaining: 1.3s\n",
      "466:\tlearn: 0.3109510\ttotal: 1.13s\tremaining: 1.29s\n",
      "467:\tlearn: 0.3109438\ttotal: 1.13s\tremaining: 1.29s\n",
      "468:\tlearn: 0.3107877\ttotal: 1.14s\tremaining: 1.29s\n",
      "469:\tlearn: 0.3106216\ttotal: 1.14s\tremaining: 1.28s\n",
      "470:\tlearn: 0.3105453\ttotal: 1.14s\tremaining: 1.28s\n",
      "471:\tlearn: 0.3104303\ttotal: 1.14s\tremaining: 1.28s\n",
      "472:\tlearn: 0.3102420\ttotal: 1.15s\tremaining: 1.27s\n",
      "473:\tlearn: 0.3100519\ttotal: 1.15s\tremaining: 1.27s\n",
      "474:\tlearn: 0.3098329\ttotal: 1.15s\tremaining: 1.27s\n",
      "475:\tlearn: 0.3095644\ttotal: 1.15s\tremaining: 1.27s\n",
      "476:\tlearn: 0.3094410\ttotal: 1.15s\tremaining: 1.26s\n",
      "477:\tlearn: 0.3093176\ttotal: 1.16s\tremaining: 1.26s\n",
      "478:\tlearn: 0.3091389\ttotal: 1.16s\tremaining: 1.26s\n",
      "479:\tlearn: 0.3090671\ttotal: 1.16s\tremaining: 1.26s\n",
      "480:\tlearn: 0.3090283\ttotal: 1.16s\tremaining: 1.25s\n",
      "481:\tlearn: 0.3089464\ttotal: 1.16s\tremaining: 1.25s\n",
      "482:\tlearn: 0.3088295\ttotal: 1.17s\tremaining: 1.25s\n",
      "483:\tlearn: 0.3088154\ttotal: 1.17s\tremaining: 1.24s\n",
      "484:\tlearn: 0.3086904\ttotal: 1.17s\tremaining: 1.24s\n",
      "485:\tlearn: 0.3085154\ttotal: 1.17s\tremaining: 1.24s\n",
      "486:\tlearn: 0.3084165\ttotal: 1.17s\tremaining: 1.24s\n",
      "487:\tlearn: 0.3082049\ttotal: 1.18s\tremaining: 1.23s\n",
      "488:\tlearn: 0.3081115\ttotal: 1.18s\tremaining: 1.23s\n",
      "489:\tlearn: 0.3080709\ttotal: 1.18s\tremaining: 1.23s\n",
      "490:\tlearn: 0.3079652\ttotal: 1.18s\tremaining: 1.22s\n",
      "491:\tlearn: 0.3076973\ttotal: 1.18s\tremaining: 1.22s\n",
      "492:\tlearn: 0.3075715\ttotal: 1.19s\tremaining: 1.22s\n",
      "493:\tlearn: 0.3074505\ttotal: 1.19s\tremaining: 1.22s\n",
      "494:\tlearn: 0.3073867\ttotal: 1.19s\tremaining: 1.21s\n",
      "495:\tlearn: 0.3070909\ttotal: 1.19s\tremaining: 1.21s\n",
      "496:\tlearn: 0.3069790\ttotal: 1.19s\tremaining: 1.21s\n",
      "497:\tlearn: 0.3068963\ttotal: 1.2s\tremaining: 1.21s\n",
      "498:\tlearn: 0.3067224\ttotal: 1.2s\tremaining: 1.2s\n",
      "499:\tlearn: 0.3065960\ttotal: 1.2s\tremaining: 1.2s\n",
      "500:\tlearn: 0.3063311\ttotal: 1.2s\tremaining: 1.2s\n",
      "501:\tlearn: 0.3061889\ttotal: 1.2s\tremaining: 1.2s\n",
      "502:\tlearn: 0.3058584\ttotal: 1.21s\tremaining: 1.19s\n",
      "503:\tlearn: 0.3058299\ttotal: 1.21s\tremaining: 1.19s\n",
      "504:\tlearn: 0.3058013\ttotal: 1.21s\tremaining: 1.19s\n",
      "505:\tlearn: 0.3057121\ttotal: 1.21s\tremaining: 1.18s\n",
      "506:\tlearn: 0.3055488\ttotal: 1.22s\tremaining: 1.18s\n",
      "507:\tlearn: 0.3054921\ttotal: 1.22s\tremaining: 1.18s\n",
      "508:\tlearn: 0.3054314\ttotal: 1.22s\tremaining: 1.18s\n",
      "509:\tlearn: 0.3053683\ttotal: 1.22s\tremaining: 1.17s\n",
      "510:\tlearn: 0.3052104\ttotal: 1.22s\tremaining: 1.17s\n",
      "511:\tlearn: 0.3051061\ttotal: 1.22s\tremaining: 1.17s\n",
      "512:\tlearn: 0.3049586\ttotal: 1.23s\tremaining: 1.16s\n",
      "513:\tlearn: 0.3046745\ttotal: 1.23s\tremaining: 1.16s\n",
      "514:\tlearn: 0.3045383\ttotal: 1.23s\tremaining: 1.16s\n",
      "515:\tlearn: 0.3042895\ttotal: 1.23s\tremaining: 1.16s\n",
      "516:\tlearn: 0.3041615\ttotal: 1.23s\tremaining: 1.15s\n",
      "517:\tlearn: 0.3040454\ttotal: 1.24s\tremaining: 1.15s\n",
      "518:\tlearn: 0.3038583\ttotal: 1.24s\tremaining: 1.15s\n",
      "519:\tlearn: 0.3037734\ttotal: 1.24s\tremaining: 1.15s\n",
      "520:\tlearn: 0.3036744\ttotal: 1.24s\tremaining: 1.14s\n",
      "521:\tlearn: 0.3036266\ttotal: 1.25s\tremaining: 1.14s\n",
      "522:\tlearn: 0.3035335\ttotal: 1.25s\tremaining: 1.14s\n",
      "523:\tlearn: 0.3034135\ttotal: 1.25s\tremaining: 1.13s\n",
      "524:\tlearn: 0.3032431\ttotal: 1.25s\tremaining: 1.13s\n",
      "525:\tlearn: 0.3030022\ttotal: 1.25s\tremaining: 1.13s\n",
      "526:\tlearn: 0.3027960\ttotal: 1.26s\tremaining: 1.13s\n",
      "527:\tlearn: 0.3027205\ttotal: 1.26s\tremaining: 1.12s\n",
      "528:\tlearn: 0.3025000\ttotal: 1.26s\tremaining: 1.12s\n",
      "529:\tlearn: 0.3024964\ttotal: 1.26s\tremaining: 1.12s\n",
      "530:\tlearn: 0.3024077\ttotal: 1.26s\tremaining: 1.11s\n",
      "531:\tlearn: 0.3023044\ttotal: 1.26s\tremaining: 1.11s\n",
      "532:\tlearn: 0.3020874\ttotal: 1.27s\tremaining: 1.11s\n",
      "533:\tlearn: 0.3020087\ttotal: 1.27s\tremaining: 1.11s\n",
      "534:\tlearn: 0.3019188\ttotal: 1.27s\tremaining: 1.1s\n",
      "535:\tlearn: 0.3017637\ttotal: 1.27s\tremaining: 1.1s\n",
      "536:\tlearn: 0.3016638\ttotal: 1.28s\tremaining: 1.1s\n",
      "537:\tlearn: 0.3013179\ttotal: 1.28s\tremaining: 1.1s\n",
      "538:\tlearn: 0.3011779\ttotal: 1.28s\tremaining: 1.1s\n",
      "539:\tlearn: 0.3010410\ttotal: 1.28s\tremaining: 1.09s\n",
      "540:\tlearn: 0.3009594\ttotal: 1.29s\tremaining: 1.09s\n",
      "541:\tlearn: 0.3008803\ttotal: 1.29s\tremaining: 1.09s\n",
      "542:\tlearn: 0.3007965\ttotal: 1.29s\tremaining: 1.09s\n",
      "543:\tlearn: 0.3005051\ttotal: 1.29s\tremaining: 1.08s\n",
      "544:\tlearn: 0.3003939\ttotal: 1.29s\tremaining: 1.08s\n",
      "545:\tlearn: 0.3001115\ttotal: 1.3s\tremaining: 1.08s\n",
      "546:\tlearn: 0.3000033\ttotal: 1.3s\tremaining: 1.08s\n",
      "547:\tlearn: 0.2999137\ttotal: 1.3s\tremaining: 1.07s\n",
      "548:\tlearn: 0.2998254\ttotal: 1.3s\tremaining: 1.07s\n",
      "549:\tlearn: 0.2997483\ttotal: 1.3s\tremaining: 1.07s\n",
      "550:\tlearn: 0.2996979\ttotal: 1.31s\tremaining: 1.06s\n",
      "551:\tlearn: 0.2995939\ttotal: 1.31s\tremaining: 1.06s\n",
      "552:\tlearn: 0.2994840\ttotal: 1.31s\tremaining: 1.06s\n",
      "553:\tlearn: 0.2994079\ttotal: 1.31s\tremaining: 1.06s\n",
      "554:\tlearn: 0.2993172\ttotal: 1.32s\tremaining: 1.05s\n",
      "555:\tlearn: 0.2993002\ttotal: 1.32s\tremaining: 1.05s\n",
      "556:\tlearn: 0.2991767\ttotal: 1.32s\tremaining: 1.05s\n",
      "557:\tlearn: 0.2989813\ttotal: 1.32s\tremaining: 1.05s\n",
      "558:\tlearn: 0.2988663\ttotal: 1.32s\tremaining: 1.04s\n",
      "559:\tlearn: 0.2987560\ttotal: 1.33s\tremaining: 1.04s\n",
      "560:\tlearn: 0.2987314\ttotal: 1.33s\tremaining: 1.04s\n",
      "561:\tlearn: 0.2985971\ttotal: 1.33s\tremaining: 1.04s\n",
      "562:\tlearn: 0.2984862\ttotal: 1.33s\tremaining: 1.03s\n",
      "563:\tlearn: 0.2982847\ttotal: 1.33s\tremaining: 1.03s\n",
      "564:\tlearn: 0.2982539\ttotal: 1.34s\tremaining: 1.03s\n",
      "565:\tlearn: 0.2981278\ttotal: 1.34s\tremaining: 1.03s\n",
      "566:\tlearn: 0.2980168\ttotal: 1.34s\tremaining: 1.02s\n",
      "567:\tlearn: 0.2978715\ttotal: 1.34s\tremaining: 1.02s\n",
      "568:\tlearn: 0.2977976\ttotal: 1.35s\tremaining: 1.02s\n",
      "569:\tlearn: 0.2977746\ttotal: 1.35s\tremaining: 1.02s\n",
      "570:\tlearn: 0.2976550\ttotal: 1.35s\tremaining: 1.01s\n",
      "571:\tlearn: 0.2974540\ttotal: 1.35s\tremaining: 1.01s\n",
      "572:\tlearn: 0.2973901\ttotal: 1.35s\tremaining: 1.01s\n",
      "573:\tlearn: 0.2973067\ttotal: 1.36s\tremaining: 1.01s\n",
      "574:\tlearn: 0.2972694\ttotal: 1.36s\tremaining: 1s\n",
      "575:\tlearn: 0.2971399\ttotal: 1.36s\tremaining: 1s\n",
      "576:\tlearn: 0.2970135\ttotal: 1.36s\tremaining: 1s\n",
      "577:\tlearn: 0.2969346\ttotal: 1.37s\tremaining: 998ms\n",
      "578:\tlearn: 0.2968371\ttotal: 1.37s\tremaining: 995ms\n",
      "579:\tlearn: 0.2967924\ttotal: 1.37s\tremaining: 993ms\n",
      "580:\tlearn: 0.2967276\ttotal: 1.37s\tremaining: 991ms\n",
      "581:\tlearn: 0.2966407\ttotal: 1.38s\tremaining: 988ms\n",
      "582:\tlearn: 0.2963692\ttotal: 1.38s\tremaining: 985ms\n",
      "583:\tlearn: 0.2962044\ttotal: 1.38s\tremaining: 983ms\n",
      "584:\tlearn: 0.2961341\ttotal: 1.38s\tremaining: 981ms\n",
      "585:\tlearn: 0.2960303\ttotal: 1.38s\tremaining: 978ms\n",
      "586:\tlearn: 0.2959953\ttotal: 1.39s\tremaining: 975ms\n",
      "587:\tlearn: 0.2959335\ttotal: 1.39s\tremaining: 973ms\n",
      "588:\tlearn: 0.2956585\ttotal: 1.39s\tremaining: 970ms\n",
      "589:\tlearn: 0.2956154\ttotal: 1.39s\tremaining: 968ms\n",
      "590:\tlearn: 0.2954028\ttotal: 1.39s\tremaining: 965ms\n",
      "591:\tlearn: 0.2953030\ttotal: 1.4s\tremaining: 963ms\n",
      "592:\tlearn: 0.2952255\ttotal: 1.4s\tremaining: 960ms\n",
      "593:\tlearn: 0.2951647\ttotal: 1.4s\tremaining: 957ms\n",
      "594:\tlearn: 0.2951232\ttotal: 1.4s\tremaining: 954ms\n",
      "595:\tlearn: 0.2949222\ttotal: 1.4s\tremaining: 952ms\n",
      "596:\tlearn: 0.2947516\ttotal: 1.41s\tremaining: 949ms\n",
      "597:\tlearn: 0.2947194\ttotal: 1.41s\tremaining: 946ms\n"
     ]
    },
    {
     "name": "stdout",
     "output_type": "stream",
     "text": [
      "598:\tlearn: 0.2946104\ttotal: 1.41s\tremaining: 944ms\n",
      "599:\tlearn: 0.2945958\ttotal: 1.41s\tremaining: 942ms\n",
      "600:\tlearn: 0.2945000\ttotal: 1.41s\tremaining: 939ms\n",
      "601:\tlearn: 0.2943426\ttotal: 1.42s\tremaining: 937ms\n",
      "602:\tlearn: 0.2942435\ttotal: 1.42s\tremaining: 934ms\n",
      "603:\tlearn: 0.2940870\ttotal: 1.42s\tremaining: 932ms\n",
      "604:\tlearn: 0.2939644\ttotal: 1.42s\tremaining: 930ms\n",
      "605:\tlearn: 0.2938463\ttotal: 1.43s\tremaining: 927ms\n",
      "606:\tlearn: 0.2937573\ttotal: 1.43s\tremaining: 925ms\n",
      "607:\tlearn: 0.2935083\ttotal: 1.43s\tremaining: 922ms\n",
      "608:\tlearn: 0.2933106\ttotal: 1.43s\tremaining: 920ms\n",
      "609:\tlearn: 0.2932260\ttotal: 1.43s\tremaining: 917ms\n",
      "610:\tlearn: 0.2931809\ttotal: 1.44s\tremaining: 914ms\n",
      "611:\tlearn: 0.2931139\ttotal: 1.44s\tremaining: 912ms\n",
      "612:\tlearn: 0.2929942\ttotal: 1.44s\tremaining: 910ms\n",
      "613:\tlearn: 0.2929143\ttotal: 1.44s\tremaining: 907ms\n",
      "614:\tlearn: 0.2928553\ttotal: 1.44s\tremaining: 904ms\n",
      "615:\tlearn: 0.2928285\ttotal: 1.45s\tremaining: 901ms\n",
      "616:\tlearn: 0.2927541\ttotal: 1.45s\tremaining: 899ms\n",
      "617:\tlearn: 0.2926854\ttotal: 1.45s\tremaining: 897ms\n",
      "618:\tlearn: 0.2925020\ttotal: 1.45s\tremaining: 895ms\n",
      "619:\tlearn: 0.2923766\ttotal: 1.46s\tremaining: 892ms\n",
      "620:\tlearn: 0.2922585\ttotal: 1.46s\tremaining: 890ms\n",
      "621:\tlearn: 0.2921628\ttotal: 1.46s\tremaining: 888ms\n",
      "622:\tlearn: 0.2921227\ttotal: 1.46s\tremaining: 885ms\n",
      "623:\tlearn: 0.2919792\ttotal: 1.46s\tremaining: 883ms\n",
      "624:\tlearn: 0.2917611\ttotal: 1.47s\tremaining: 880ms\n",
      "625:\tlearn: 0.2916072\ttotal: 1.47s\tremaining: 878ms\n",
      "626:\tlearn: 0.2914508\ttotal: 1.47s\tremaining: 875ms\n",
      "627:\tlearn: 0.2913842\ttotal: 1.47s\tremaining: 873ms\n",
      "628:\tlearn: 0.2913063\ttotal: 1.48s\tremaining: 870ms\n",
      "629:\tlearn: 0.2912565\ttotal: 1.48s\tremaining: 868ms\n",
      "630:\tlearn: 0.2911801\ttotal: 1.48s\tremaining: 865ms\n",
      "631:\tlearn: 0.2911255\ttotal: 1.48s\tremaining: 863ms\n",
      "632:\tlearn: 0.2909923\ttotal: 1.48s\tremaining: 861ms\n",
      "633:\tlearn: 0.2908936\ttotal: 1.49s\tremaining: 858ms\n",
      "634:\tlearn: 0.2906543\ttotal: 1.49s\tremaining: 856ms\n",
      "635:\tlearn: 0.2905587\ttotal: 1.49s\tremaining: 853ms\n",
      "636:\tlearn: 0.2904299\ttotal: 1.49s\tremaining: 851ms\n",
      "637:\tlearn: 0.2903705\ttotal: 1.49s\tremaining: 848ms\n",
      "638:\tlearn: 0.2902347\ttotal: 1.5s\tremaining: 845ms\n",
      "639:\tlearn: 0.2901659\ttotal: 1.5s\tremaining: 843ms\n",
      "640:\tlearn: 0.2901446\ttotal: 1.5s\tremaining: 840ms\n",
      "641:\tlearn: 0.2899497\ttotal: 1.5s\tremaining: 838ms\n",
      "642:\tlearn: 0.2898918\ttotal: 1.5s\tremaining: 835ms\n",
      "643:\tlearn: 0.2897988\ttotal: 1.5s\tremaining: 832ms\n",
      "644:\tlearn: 0.2896735\ttotal: 1.51s\tremaining: 830ms\n",
      "645:\tlearn: 0.2896549\ttotal: 1.51s\tremaining: 827ms\n",
      "646:\tlearn: 0.2896023\ttotal: 1.51s\tremaining: 825ms\n",
      "647:\tlearn: 0.2894428\ttotal: 1.51s\tremaining: 822ms\n",
      "648:\tlearn: 0.2893783\ttotal: 1.51s\tremaining: 820ms\n",
      "649:\tlearn: 0.2893295\ttotal: 1.52s\tremaining: 817ms\n",
      "650:\tlearn: 0.2892619\ttotal: 1.52s\tremaining: 815ms\n",
      "651:\tlearn: 0.2891987\ttotal: 1.52s\tremaining: 813ms\n",
      "652:\tlearn: 0.2890845\ttotal: 1.52s\tremaining: 810ms\n",
      "653:\tlearn: 0.2888589\ttotal: 1.53s\tremaining: 808ms\n",
      "654:\tlearn: 0.2888373\ttotal: 1.53s\tremaining: 805ms\n",
      "655:\tlearn: 0.2887141\ttotal: 1.53s\tremaining: 803ms\n",
      "656:\tlearn: 0.2885960\ttotal: 1.53s\tremaining: 800ms\n",
      "657:\tlearn: 0.2883287\ttotal: 1.53s\tremaining: 798ms\n",
      "658:\tlearn: 0.2882023\ttotal: 1.54s\tremaining: 795ms\n",
      "659:\tlearn: 0.2881610\ttotal: 1.54s\tremaining: 793ms\n",
      "660:\tlearn: 0.2880391\ttotal: 1.54s\tremaining: 790ms\n",
      "661:\tlearn: 0.2878970\ttotal: 1.54s\tremaining: 788ms\n",
      "662:\tlearn: 0.2878225\ttotal: 1.54s\tremaining: 785ms\n",
      "663:\tlearn: 0.2876580\ttotal: 1.55s\tremaining: 783ms\n",
      "664:\tlearn: 0.2874851\ttotal: 1.55s\tremaining: 780ms\n",
      "665:\tlearn: 0.2874033\ttotal: 1.55s\tremaining: 778ms\n",
      "666:\tlearn: 0.2872778\ttotal: 1.55s\tremaining: 776ms\n",
      "667:\tlearn: 0.2871953\ttotal: 1.55s\tremaining: 773ms\n",
      "668:\tlearn: 0.2871529\ttotal: 1.56s\tremaining: 771ms\n",
      "669:\tlearn: 0.2870474\ttotal: 1.56s\tremaining: 768ms\n",
      "670:\tlearn: 0.2868074\ttotal: 1.56s\tremaining: 766ms\n",
      "671:\tlearn: 0.2867134\ttotal: 1.56s\tremaining: 763ms\n",
      "672:\tlearn: 0.2866665\ttotal: 1.56s\tremaining: 760ms\n",
      "673:\tlearn: 0.2865531\ttotal: 1.57s\tremaining: 758ms\n",
      "674:\tlearn: 0.2863680\ttotal: 1.57s\tremaining: 756ms\n",
      "675:\tlearn: 0.2863131\ttotal: 1.57s\tremaining: 753ms\n",
      "676:\tlearn: 0.2860940\ttotal: 1.57s\tremaining: 751ms\n",
      "677:\tlearn: 0.2860164\ttotal: 1.57s\tremaining: 748ms\n",
      "678:\tlearn: 0.2859673\ttotal: 1.58s\tremaining: 746ms\n",
      "679:\tlearn: 0.2858049\ttotal: 1.58s\tremaining: 744ms\n",
      "680:\tlearn: 0.2856567\ttotal: 1.58s\tremaining: 741ms\n",
      "681:\tlearn: 0.2855916\ttotal: 1.58s\tremaining: 739ms\n",
      "682:\tlearn: 0.2855284\ttotal: 1.59s\tremaining: 736ms\n",
      "683:\tlearn: 0.2853769\ttotal: 1.59s\tremaining: 734ms\n",
      "684:\tlearn: 0.2853682\ttotal: 1.59s\tremaining: 731ms\n",
      "685:\tlearn: 0.2852545\ttotal: 1.59s\tremaining: 729ms\n",
      "686:\tlearn: 0.2852192\ttotal: 1.59s\tremaining: 727ms\n",
      "687:\tlearn: 0.2850406\ttotal: 1.6s\tremaining: 724ms\n",
      "688:\tlearn: 0.2848868\ttotal: 1.6s\tremaining: 722ms\n",
      "689:\tlearn: 0.2848457\ttotal: 1.6s\tremaining: 719ms\n",
      "690:\tlearn: 0.2844629\ttotal: 1.6s\tremaining: 717ms\n",
      "691:\tlearn: 0.2844086\ttotal: 1.61s\tremaining: 715ms\n",
      "692:\tlearn: 0.2842723\ttotal: 1.61s\tremaining: 713ms\n",
      "693:\tlearn: 0.2842335\ttotal: 1.61s\tremaining: 710ms\n",
      "694:\tlearn: 0.2841069\ttotal: 1.61s\tremaining: 708ms\n",
      "695:\tlearn: 0.2840372\ttotal: 1.61s\tremaining: 705ms\n",
      "696:\tlearn: 0.2838770\ttotal: 1.62s\tremaining: 703ms\n",
      "697:\tlearn: 0.2838661\ttotal: 1.62s\tremaining: 700ms\n",
      "698:\tlearn: 0.2838320\ttotal: 1.62s\tremaining: 698ms\n",
      "699:\tlearn: 0.2835521\ttotal: 1.62s\tremaining: 696ms\n",
      "700:\tlearn: 0.2833960\ttotal: 1.63s\tremaining: 693ms\n",
      "701:\tlearn: 0.2832307\ttotal: 1.63s\tremaining: 691ms\n",
      "702:\tlearn: 0.2830165\ttotal: 1.63s\tremaining: 688ms\n",
      "703:\tlearn: 0.2828547\ttotal: 1.63s\tremaining: 686ms\n",
      "704:\tlearn: 0.2825698\ttotal: 1.63s\tremaining: 684ms\n",
      "705:\tlearn: 0.2825058\ttotal: 1.64s\tremaining: 681ms\n",
      "706:\tlearn: 0.2823378\ttotal: 1.64s\tremaining: 679ms\n",
      "707:\tlearn: 0.2822124\ttotal: 1.64s\tremaining: 676ms\n",
      "708:\tlearn: 0.2820594\ttotal: 1.64s\tremaining: 674ms\n",
      "709:\tlearn: 0.2820101\ttotal: 1.64s\tremaining: 671ms\n",
      "710:\tlearn: 0.2819672\ttotal: 1.65s\tremaining: 669ms\n",
      "711:\tlearn: 0.2817815\ttotal: 1.65s\tremaining: 667ms\n",
      "712:\tlearn: 0.2816611\ttotal: 1.65s\tremaining: 664ms\n",
      "713:\tlearn: 0.2816309\ttotal: 1.65s\tremaining: 662ms\n",
      "714:\tlearn: 0.2814585\ttotal: 1.65s\tremaining: 659ms\n",
      "715:\tlearn: 0.2813485\ttotal: 1.66s\tremaining: 657ms\n",
      "716:\tlearn: 0.2812557\ttotal: 1.66s\tremaining: 654ms\n",
      "717:\tlearn: 0.2810100\ttotal: 1.66s\tremaining: 652ms\n",
      "718:\tlearn: 0.2810035\ttotal: 1.66s\tremaining: 649ms\n",
      "719:\tlearn: 0.2808444\ttotal: 1.66s\tremaining: 647ms\n",
      "720:\tlearn: 0.2808083\ttotal: 1.67s\tremaining: 644ms\n",
      "721:\tlearn: 0.2807482\ttotal: 1.67s\tremaining: 642ms\n",
      "722:\tlearn: 0.2807105\ttotal: 1.67s\tremaining: 640ms\n",
      "723:\tlearn: 0.2802921\ttotal: 1.67s\tremaining: 637ms\n",
      "724:\tlearn: 0.2802044\ttotal: 1.67s\tremaining: 635ms\n",
      "725:\tlearn: 0.2801506\ttotal: 1.68s\tremaining: 632ms\n",
      "726:\tlearn: 0.2799615\ttotal: 1.68s\tremaining: 630ms\n",
      "727:\tlearn: 0.2798592\ttotal: 1.68s\tremaining: 627ms\n",
      "728:\tlearn: 0.2797080\ttotal: 1.68s\tremaining: 625ms\n",
      "729:\tlearn: 0.2796194\ttotal: 1.68s\tremaining: 623ms\n",
      "730:\tlearn: 0.2794008\ttotal: 1.69s\tremaining: 620ms\n",
      "731:\tlearn: 0.2791866\ttotal: 1.69s\tremaining: 618ms\n",
      "732:\tlearn: 0.2789701\ttotal: 1.69s\tremaining: 616ms\n",
      "733:\tlearn: 0.2786351\ttotal: 1.69s\tremaining: 613ms\n",
      "734:\tlearn: 0.2785577\ttotal: 1.69s\tremaining: 611ms\n",
      "735:\tlearn: 0.2783859\ttotal: 1.7s\tremaining: 608ms\n",
      "736:\tlearn: 0.2782570\ttotal: 1.7s\tremaining: 606ms\n",
      "737:\tlearn: 0.2779899\ttotal: 1.7s\tremaining: 604ms\n",
      "738:\tlearn: 0.2779780\ttotal: 1.7s\tremaining: 601ms\n",
      "739:\tlearn: 0.2779216\ttotal: 1.71s\tremaining: 599ms\n",
      "740:\tlearn: 0.2777436\ttotal: 1.71s\tremaining: 597ms\n",
      "741:\tlearn: 0.2776652\ttotal: 1.71s\tremaining: 594ms\n",
      "742:\tlearn: 0.2775260\ttotal: 1.71s\tremaining: 592ms\n",
      "743:\tlearn: 0.2772700\ttotal: 1.71s\tremaining: 590ms\n",
      "744:\tlearn: 0.2771677\ttotal: 1.72s\tremaining: 587ms\n",
      "745:\tlearn: 0.2771430\ttotal: 1.72s\tremaining: 585ms\n",
      "746:\tlearn: 0.2769692\ttotal: 1.72s\tremaining: 582ms\n",
      "747:\tlearn: 0.2768654\ttotal: 1.72s\tremaining: 580ms\n",
      "748:\tlearn: 0.2767027\ttotal: 1.72s\tremaining: 577ms\n",
      "749:\tlearn: 0.2764380\ttotal: 1.72s\tremaining: 575ms\n",
      "750:\tlearn: 0.2762305\ttotal: 1.73s\tremaining: 573ms\n",
      "751:\tlearn: 0.2758814\ttotal: 1.73s\tremaining: 570ms\n",
      "752:\tlearn: 0.2757566\ttotal: 1.73s\tremaining: 568ms\n",
      "753:\tlearn: 0.2756998\ttotal: 1.73s\tremaining: 566ms\n",
      "754:\tlearn: 0.2754568\ttotal: 1.74s\tremaining: 564ms\n",
      "755:\tlearn: 0.2753962\ttotal: 1.74s\tremaining: 561ms\n",
      "756:\tlearn: 0.2752904\ttotal: 1.74s\tremaining: 559ms\n",
      "757:\tlearn: 0.2752507\ttotal: 1.74s\tremaining: 557ms\n",
      "758:\tlearn: 0.2750907\ttotal: 1.75s\tremaining: 554ms\n",
      "759:\tlearn: 0.2749085\ttotal: 1.75s\tremaining: 552ms\n",
      "760:\tlearn: 0.2748336\ttotal: 1.75s\tremaining: 549ms\n"
     ]
    },
    {
     "name": "stdout",
     "output_type": "stream",
     "text": [
      "761:\tlearn: 0.2746773\ttotal: 1.75s\tremaining: 547ms\n",
      "762:\tlearn: 0.2745160\ttotal: 1.75s\tremaining: 545ms\n",
      "763:\tlearn: 0.2743963\ttotal: 1.76s\tremaining: 543ms\n",
      "764:\tlearn: 0.2743385\ttotal: 1.76s\tremaining: 540ms\n",
      "765:\tlearn: 0.2742005\ttotal: 1.76s\tremaining: 538ms\n",
      "766:\tlearn: 0.2740804\ttotal: 1.76s\tremaining: 536ms\n",
      "767:\tlearn: 0.2740078\ttotal: 1.77s\tremaining: 534ms\n",
      "768:\tlearn: 0.2738867\ttotal: 1.77s\tremaining: 531ms\n",
      "769:\tlearn: 0.2737775\ttotal: 1.77s\tremaining: 529ms\n",
      "770:\tlearn: 0.2737400\ttotal: 1.77s\tremaining: 526ms\n",
      "771:\tlearn: 0.2734616\ttotal: 1.77s\tremaining: 524ms\n",
      "772:\tlearn: 0.2731847\ttotal: 1.78s\tremaining: 522ms\n",
      "773:\tlearn: 0.2729527\ttotal: 1.78s\tremaining: 519ms\n",
      "774:\tlearn: 0.2728701\ttotal: 1.78s\tremaining: 517ms\n",
      "775:\tlearn: 0.2727553\ttotal: 1.78s\tremaining: 515ms\n",
      "776:\tlearn: 0.2726893\ttotal: 1.78s\tremaining: 512ms\n",
      "777:\tlearn: 0.2726033\ttotal: 1.79s\tremaining: 510ms\n",
      "778:\tlearn: 0.2725609\ttotal: 1.79s\tremaining: 508ms\n",
      "779:\tlearn: 0.2723278\ttotal: 1.79s\tremaining: 505ms\n",
      "780:\tlearn: 0.2722486\ttotal: 1.79s\tremaining: 503ms\n",
      "781:\tlearn: 0.2721306\ttotal: 1.8s\tremaining: 501ms\n",
      "782:\tlearn: 0.2720275\ttotal: 1.8s\tremaining: 498ms\n",
      "783:\tlearn: 0.2718494\ttotal: 1.8s\tremaining: 496ms\n",
      "784:\tlearn: 0.2717760\ttotal: 1.8s\tremaining: 494ms\n",
      "785:\tlearn: 0.2716851\ttotal: 1.8s\tremaining: 491ms\n",
      "786:\tlearn: 0.2715132\ttotal: 1.81s\tremaining: 489ms\n",
      "787:\tlearn: 0.2714987\ttotal: 1.81s\tremaining: 487ms\n",
      "788:\tlearn: 0.2714069\ttotal: 1.81s\tremaining: 484ms\n",
      "789:\tlearn: 0.2712027\ttotal: 1.81s\tremaining: 482ms\n",
      "790:\tlearn: 0.2709936\ttotal: 1.81s\tremaining: 479ms\n",
      "791:\tlearn: 0.2708669\ttotal: 1.82s\tremaining: 477ms\n",
      "792:\tlearn: 0.2706728\ttotal: 1.82s\tremaining: 475ms\n",
      "793:\tlearn: 0.2705388\ttotal: 1.82s\tremaining: 472ms\n",
      "794:\tlearn: 0.2704282\ttotal: 1.82s\tremaining: 470ms\n",
      "795:\tlearn: 0.2702954\ttotal: 1.82s\tremaining: 468ms\n",
      "796:\tlearn: 0.2701813\ttotal: 1.83s\tremaining: 465ms\n",
      "797:\tlearn: 0.2701225\ttotal: 1.83s\tremaining: 463ms\n",
      "798:\tlearn: 0.2700037\ttotal: 1.83s\tremaining: 461ms\n",
      "799:\tlearn: 0.2699478\ttotal: 1.83s\tremaining: 458ms\n",
      "800:\tlearn: 0.2697889\ttotal: 1.83s\tremaining: 456ms\n",
      "801:\tlearn: 0.2695153\ttotal: 1.84s\tremaining: 453ms\n",
      "802:\tlearn: 0.2691941\ttotal: 1.84s\tremaining: 451ms\n",
      "803:\tlearn: 0.2691118\ttotal: 1.84s\tremaining: 449ms\n",
      "804:\tlearn: 0.2690483\ttotal: 1.84s\tremaining: 446ms\n",
      "805:\tlearn: 0.2689958\ttotal: 1.84s\tremaining: 444ms\n",
      "806:\tlearn: 0.2687837\ttotal: 1.85s\tremaining: 442ms\n",
      "807:\tlearn: 0.2685873\ttotal: 1.85s\tremaining: 440ms\n",
      "808:\tlearn: 0.2685362\ttotal: 1.85s\tremaining: 437ms\n",
      "809:\tlearn: 0.2683629\ttotal: 1.85s\tremaining: 435ms\n",
      "810:\tlearn: 0.2682543\ttotal: 1.85s\tremaining: 433ms\n",
      "811:\tlearn: 0.2681942\ttotal: 1.86s\tremaining: 430ms\n",
      "812:\tlearn: 0.2679668\ttotal: 1.86s\tremaining: 428ms\n",
      "813:\tlearn: 0.2679003\ttotal: 1.86s\tremaining: 425ms\n",
      "814:\tlearn: 0.2677902\ttotal: 1.86s\tremaining: 423ms\n",
      "815:\tlearn: 0.2676536\ttotal: 1.87s\tremaining: 421ms\n",
      "816:\tlearn: 0.2674800\ttotal: 1.87s\tremaining: 419ms\n",
      "817:\tlearn: 0.2674176\ttotal: 1.87s\tremaining: 416ms\n",
      "818:\tlearn: 0.2673567\ttotal: 1.87s\tremaining: 414ms\n",
      "819:\tlearn: 0.2672433\ttotal: 1.88s\tremaining: 412ms\n",
      "820:\tlearn: 0.2671864\ttotal: 1.88s\tremaining: 409ms\n",
      "821:\tlearn: 0.2670732\ttotal: 1.88s\tremaining: 407ms\n",
      "822:\tlearn: 0.2669154\ttotal: 1.88s\tremaining: 405ms\n",
      "823:\tlearn: 0.2667302\ttotal: 1.88s\tremaining: 402ms\n",
      "824:\tlearn: 0.2664503\ttotal: 1.89s\tremaining: 400ms\n",
      "825:\tlearn: 0.2662392\ttotal: 1.89s\tremaining: 398ms\n",
      "826:\tlearn: 0.2660928\ttotal: 1.89s\tremaining: 395ms\n",
      "827:\tlearn: 0.2659847\ttotal: 1.89s\tremaining: 393ms\n",
      "828:\tlearn: 0.2658288\ttotal: 1.89s\tremaining: 391ms\n",
      "829:\tlearn: 0.2657341\ttotal: 1.9s\tremaining: 389ms\n",
      "830:\tlearn: 0.2655793\ttotal: 1.9s\tremaining: 386ms\n",
      "831:\tlearn: 0.2655347\ttotal: 1.9s\tremaining: 384ms\n",
      "832:\tlearn: 0.2654435\ttotal: 1.9s\tremaining: 382ms\n",
      "833:\tlearn: 0.2653874\ttotal: 1.91s\tremaining: 379ms\n",
      "834:\tlearn: 0.2652013\ttotal: 1.91s\tremaining: 377ms\n",
      "835:\tlearn: 0.2651719\ttotal: 1.91s\tremaining: 375ms\n",
      "836:\tlearn: 0.2650363\ttotal: 1.91s\tremaining: 372ms\n",
      "837:\tlearn: 0.2649814\ttotal: 1.92s\tremaining: 370ms\n",
      "838:\tlearn: 0.2649280\ttotal: 1.92s\tremaining: 368ms\n",
      "839:\tlearn: 0.2648204\ttotal: 1.92s\tremaining: 366ms\n",
      "840:\tlearn: 0.2647889\ttotal: 1.92s\tremaining: 363ms\n",
      "841:\tlearn: 0.2647756\ttotal: 1.92s\tremaining: 361ms\n",
      "842:\tlearn: 0.2646747\ttotal: 1.93s\tremaining: 359ms\n",
      "843:\tlearn: 0.2644995\ttotal: 1.93s\tremaining: 356ms\n",
      "844:\tlearn: 0.2644519\ttotal: 1.93s\tremaining: 354ms\n",
      "845:\tlearn: 0.2643915\ttotal: 1.93s\tremaining: 352ms\n",
      "846:\tlearn: 0.2643748\ttotal: 1.93s\tremaining: 349ms\n",
      "847:\tlearn: 0.2642696\ttotal: 1.94s\tremaining: 347ms\n",
      "848:\tlearn: 0.2641829\ttotal: 1.94s\tremaining: 345ms\n",
      "849:\tlearn: 0.2641118\ttotal: 1.94s\tremaining: 342ms\n",
      "850:\tlearn: 0.2640415\ttotal: 1.94s\tremaining: 340ms\n",
      "851:\tlearn: 0.2639082\ttotal: 1.94s\tremaining: 338ms\n",
      "852:\tlearn: 0.2637587\ttotal: 1.95s\tremaining: 335ms\n",
      "853:\tlearn: 0.2635428\ttotal: 1.95s\tremaining: 333ms\n",
      "854:\tlearn: 0.2633158\ttotal: 1.95s\tremaining: 331ms\n",
      "855:\tlearn: 0.2631840\ttotal: 1.95s\tremaining: 328ms\n",
      "856:\tlearn: 0.2631371\ttotal: 1.96s\tremaining: 326ms\n",
      "857:\tlearn: 0.2631185\ttotal: 1.96s\tremaining: 324ms\n",
      "858:\tlearn: 0.2629471\ttotal: 1.96s\tremaining: 322ms\n",
      "859:\tlearn: 0.2625729\ttotal: 1.96s\tremaining: 319ms\n",
      "860:\tlearn: 0.2624903\ttotal: 1.96s\tremaining: 317ms\n",
      "861:\tlearn: 0.2624055\ttotal: 1.97s\tremaining: 315ms\n",
      "862:\tlearn: 0.2623868\ttotal: 1.97s\tremaining: 312ms\n",
      "863:\tlearn: 0.2621698\ttotal: 1.97s\tremaining: 310ms\n",
      "864:\tlearn: 0.2621174\ttotal: 1.97s\tremaining: 308ms\n",
      "865:\tlearn: 0.2618428\ttotal: 1.97s\tremaining: 305ms\n",
      "866:\tlearn: 0.2617694\ttotal: 1.98s\tremaining: 303ms\n",
      "867:\tlearn: 0.2616626\ttotal: 1.98s\tremaining: 301ms\n",
      "868:\tlearn: 0.2615732\ttotal: 1.98s\tremaining: 298ms\n",
      "869:\tlearn: 0.2614031\ttotal: 1.98s\tremaining: 296ms\n",
      "870:\tlearn: 0.2613450\ttotal: 1.98s\tremaining: 294ms\n",
      "871:\tlearn: 0.2611596\ttotal: 1.99s\tremaining: 292ms\n",
      "872:\tlearn: 0.2610423\ttotal: 1.99s\tremaining: 289ms\n",
      "873:\tlearn: 0.2609920\ttotal: 1.99s\tremaining: 287ms\n",
      "874:\tlearn: 0.2609349\ttotal: 1.99s\tremaining: 285ms\n",
      "875:\tlearn: 0.2609049\ttotal: 1.99s\tremaining: 282ms\n",
      "876:\tlearn: 0.2608658\ttotal: 2s\tremaining: 280ms\n",
      "877:\tlearn: 0.2607801\ttotal: 2s\tremaining: 278ms\n",
      "878:\tlearn: 0.2606870\ttotal: 2s\tremaining: 275ms\n",
      "879:\tlearn: 0.2606371\ttotal: 2s\tremaining: 273ms\n",
      "880:\tlearn: 0.2605500\ttotal: 2s\tremaining: 271ms\n",
      "881:\tlearn: 0.2604516\ttotal: 2.01s\tremaining: 268ms\n",
      "882:\tlearn: 0.2604287\ttotal: 2.01s\tremaining: 266ms\n",
      "883:\tlearn: 0.2603196\ttotal: 2.01s\tremaining: 264ms\n",
      "884:\tlearn: 0.2602426\ttotal: 2.01s\tremaining: 261ms\n",
      "885:\tlearn: 0.2600218\ttotal: 2.01s\tremaining: 259ms\n",
      "886:\tlearn: 0.2598388\ttotal: 2.02s\tremaining: 257ms\n",
      "887:\tlearn: 0.2597773\ttotal: 2.02s\tremaining: 255ms\n",
      "888:\tlearn: 0.2597301\ttotal: 2.02s\tremaining: 252ms\n",
      "889:\tlearn: 0.2593661\ttotal: 2.02s\tremaining: 250ms\n",
      "890:\tlearn: 0.2591307\ttotal: 2.02s\tremaining: 248ms\n",
      "891:\tlearn: 0.2590409\ttotal: 2.03s\tremaining: 246ms\n",
      "892:\tlearn: 0.2588894\ttotal: 2.03s\tremaining: 243ms\n",
      "893:\tlearn: 0.2588354\ttotal: 2.03s\tremaining: 241ms\n",
      "894:\tlearn: 0.2586263\ttotal: 2.03s\tremaining: 239ms\n",
      "895:\tlearn: 0.2585634\ttotal: 2.04s\tremaining: 236ms\n",
      "896:\tlearn: 0.2585207\ttotal: 2.04s\tremaining: 234ms\n",
      "897:\tlearn: 0.2584828\ttotal: 2.04s\tremaining: 232ms\n",
      "898:\tlearn: 0.2583751\ttotal: 2.04s\tremaining: 229ms\n",
      "899:\tlearn: 0.2580146\ttotal: 2.04s\tremaining: 227ms\n",
      "900:\tlearn: 0.2579839\ttotal: 2.05s\tremaining: 225ms\n",
      "901:\tlearn: 0.2578972\ttotal: 2.05s\tremaining: 223ms\n",
      "902:\tlearn: 0.2578163\ttotal: 2.05s\tremaining: 220ms\n",
      "903:\tlearn: 0.2577681\ttotal: 2.05s\tremaining: 218ms\n",
      "904:\tlearn: 0.2576098\ttotal: 2.05s\tremaining: 216ms\n",
      "905:\tlearn: 0.2575293\ttotal: 2.06s\tremaining: 213ms\n",
      "906:\tlearn: 0.2574556\ttotal: 2.06s\tremaining: 211ms\n",
      "907:\tlearn: 0.2573164\ttotal: 2.06s\tremaining: 209ms\n",
      "908:\tlearn: 0.2572103\ttotal: 2.06s\tremaining: 206ms\n",
      "909:\tlearn: 0.2570053\ttotal: 2.06s\tremaining: 204ms\n",
      "910:\tlearn: 0.2568876\ttotal: 2.07s\tremaining: 202ms\n",
      "911:\tlearn: 0.2568364\ttotal: 2.07s\tremaining: 200ms\n",
      "912:\tlearn: 0.2564891\ttotal: 2.07s\tremaining: 197ms\n",
      "913:\tlearn: 0.2564371\ttotal: 2.07s\tremaining: 195ms\n",
      "914:\tlearn: 0.2562824\ttotal: 2.08s\tremaining: 193ms\n",
      "915:\tlearn: 0.2562577\ttotal: 2.08s\tremaining: 191ms\n",
      "916:\tlearn: 0.2561893\ttotal: 2.08s\tremaining: 188ms\n",
      "917:\tlearn: 0.2557774\ttotal: 2.08s\tremaining: 186ms\n",
      "918:\tlearn: 0.2556877\ttotal: 2.08s\tremaining: 184ms\n",
      "919:\tlearn: 0.2555399\ttotal: 2.09s\tremaining: 181ms\n",
      "920:\tlearn: 0.2554759\ttotal: 2.09s\tremaining: 179ms\n",
      "921:\tlearn: 0.2553205\ttotal: 2.09s\tremaining: 177ms\n",
      "922:\tlearn: 0.2552297\ttotal: 2.09s\tremaining: 175ms\n",
      "923:\tlearn: 0.2551445\ttotal: 2.09s\tremaining: 172ms\n",
      "924:\tlearn: 0.2551089\ttotal: 2.1s\tremaining: 170ms\n",
      "925:\tlearn: 0.2549747\ttotal: 2.1s\tremaining: 168ms\n",
      "926:\tlearn: 0.2548626\ttotal: 2.1s\tremaining: 165ms\n",
      "927:\tlearn: 0.2547097\ttotal: 2.1s\tremaining: 163ms\n",
      "928:\tlearn: 0.2546541\ttotal: 2.1s\tremaining: 161ms\n",
      "929:\tlearn: 0.2544876\ttotal: 2.11s\tremaining: 159ms\n",
      "930:\tlearn: 0.2544310\ttotal: 2.11s\tremaining: 156ms\n",
      "931:\tlearn: 0.2543919\ttotal: 2.11s\tremaining: 154ms\n",
      "932:\tlearn: 0.2541764\ttotal: 2.11s\tremaining: 152ms\n",
      "933:\tlearn: 0.2540670\ttotal: 2.12s\tremaining: 150ms\n",
      "934:\tlearn: 0.2540095\ttotal: 2.12s\tremaining: 147ms\n",
      "935:\tlearn: 0.2538890\ttotal: 2.12s\tremaining: 145ms\n",
      "936:\tlearn: 0.2537489\ttotal: 2.12s\tremaining: 143ms\n",
      "937:\tlearn: 0.2536279\ttotal: 2.12s\tremaining: 140ms\n",
      "938:\tlearn: 0.2535698\ttotal: 2.13s\tremaining: 138ms\n",
      "939:\tlearn: 0.2533542\ttotal: 2.13s\tremaining: 136ms\n",
      "940:\tlearn: 0.2532820\ttotal: 2.13s\tremaining: 134ms\n",
      "941:\tlearn: 0.2531401\ttotal: 2.13s\tremaining: 131ms\n",
      "942:\tlearn: 0.2530889\ttotal: 2.13s\tremaining: 129ms\n",
      "943:\tlearn: 0.2530291\ttotal: 2.14s\tremaining: 127ms\n",
      "944:\tlearn: 0.2527556\ttotal: 2.14s\tremaining: 125ms\n",
      "945:\tlearn: 0.2527445\ttotal: 2.14s\tremaining: 122ms\n",
      "946:\tlearn: 0.2526878\ttotal: 2.14s\tremaining: 120ms\n",
      "947:\tlearn: 0.2526070\ttotal: 2.15s\tremaining: 118ms\n",
      "948:\tlearn: 0.2525542\ttotal: 2.15s\tremaining: 115ms\n",
      "949:\tlearn: 0.2524903\ttotal: 2.15s\tremaining: 113ms\n",
      "950:\tlearn: 0.2523666\ttotal: 2.15s\tremaining: 111ms\n",
      "951:\tlearn: 0.2522355\ttotal: 2.15s\tremaining: 109ms\n",
      "952:\tlearn: 0.2521881\ttotal: 2.15s\tremaining: 106ms\n",
      "953:\tlearn: 0.2520643\ttotal: 2.16s\tremaining: 104ms\n",
      "954:\tlearn: 0.2520181\ttotal: 2.16s\tremaining: 102ms\n",
      "955:\tlearn: 0.2518784\ttotal: 2.16s\tremaining: 99.5ms\n",
      "956:\tlearn: 0.2518648\ttotal: 2.16s\tremaining: 97.2ms\n",
      "957:\tlearn: 0.2518062\ttotal: 2.17s\tremaining: 94.9ms\n",
      "958:\tlearn: 0.2517723\ttotal: 2.17s\tremaining: 92.7ms\n",
      "959:\tlearn: 0.2517250\ttotal: 2.17s\tremaining: 90.4ms\n",
      "960:\tlearn: 0.2515671\ttotal: 2.17s\tremaining: 88.1ms\n",
      "961:\tlearn: 0.2513815\ttotal: 2.17s\tremaining: 85.8ms\n",
      "962:\tlearn: 0.2513460\ttotal: 2.17s\tremaining: 83.6ms\n",
      "963:\tlearn: 0.2510970\ttotal: 2.18s\tremaining: 81.3ms\n",
      "964:\tlearn: 0.2510473\ttotal: 2.18s\tremaining: 79ms\n",
      "965:\tlearn: 0.2509690\ttotal: 2.18s\tremaining: 76.8ms\n",
      "966:\tlearn: 0.2509375\ttotal: 2.18s\tremaining: 74.5ms\n",
      "967:\tlearn: 0.2508553\ttotal: 2.19s\tremaining: 72.2ms\n",
      "968:\tlearn: 0.2507879\ttotal: 2.19s\tremaining: 70ms\n",
      "969:\tlearn: 0.2507271\ttotal: 2.19s\tremaining: 67.7ms\n",
      "970:\tlearn: 0.2506289\ttotal: 2.19s\tremaining: 65.5ms\n",
      "971:\tlearn: 0.2505172\ttotal: 2.19s\tremaining: 63.2ms\n",
      "972:\tlearn: 0.2504694\ttotal: 2.19s\tremaining: 60.9ms\n",
      "973:\tlearn: 0.2502261\ttotal: 2.2s\tremaining: 58.7ms\n"
     ]
    },
    {
     "name": "stdout",
     "output_type": "stream",
     "text": [
      "974:\tlearn: 0.2501907\ttotal: 2.2s\tremaining: 56.4ms\n",
      "975:\tlearn: 0.2501511\ttotal: 2.2s\tremaining: 54.1ms\n",
      "976:\tlearn: 0.2501113\ttotal: 2.2s\tremaining: 51.9ms\n",
      "977:\tlearn: 0.2499403\ttotal: 2.21s\tremaining: 49.6ms\n",
      "978:\tlearn: 0.2498354\ttotal: 2.21s\tremaining: 47.4ms\n",
      "979:\tlearn: 0.2495745\ttotal: 2.21s\tremaining: 45.1ms\n",
      "980:\tlearn: 0.2494751\ttotal: 2.21s\tremaining: 42.9ms\n",
      "981:\tlearn: 0.2494262\ttotal: 2.21s\tremaining: 40.6ms\n",
      "982:\tlearn: 0.2493934\ttotal: 2.22s\tremaining: 38.3ms\n",
      "983:\tlearn: 0.2493620\ttotal: 2.22s\tremaining: 36.1ms\n",
      "984:\tlearn: 0.2491835\ttotal: 2.22s\tremaining: 33.8ms\n",
      "985:\tlearn: 0.2491471\ttotal: 2.22s\tremaining: 31.6ms\n",
      "986:\tlearn: 0.2490721\ttotal: 2.23s\tremaining: 29.3ms\n",
      "987:\tlearn: 0.2489801\ttotal: 2.23s\tremaining: 27.1ms\n",
      "988:\tlearn: 0.2487962\ttotal: 2.23s\tremaining: 24.8ms\n",
      "989:\tlearn: 0.2487436\ttotal: 2.23s\tremaining: 22.6ms\n",
      "990:\tlearn: 0.2484564\ttotal: 2.23s\tremaining: 20.3ms\n",
      "991:\tlearn: 0.2481827\ttotal: 2.24s\tremaining: 18ms\n",
      "992:\tlearn: 0.2479538\ttotal: 2.24s\tremaining: 15.8ms\n",
      "993:\tlearn: 0.2477976\ttotal: 2.24s\tremaining: 13.5ms\n",
      "994:\tlearn: 0.2477477\ttotal: 2.24s\tremaining: 11.3ms\n",
      "995:\tlearn: 0.2476293\ttotal: 2.25s\tremaining: 9.02ms\n",
      "996:\tlearn: 0.2474581\ttotal: 2.25s\tremaining: 6.76ms\n",
      "997:\tlearn: 0.2472284\ttotal: 2.25s\tremaining: 4.51ms\n",
      "998:\tlearn: 0.2471589\ttotal: 2.25s\tremaining: 2.25ms\n",
      "999:\tlearn: 0.2471048\ttotal: 2.25s\tremaining: 0us\n",
      "Accuracy: 0.8324022346368715\n"
     ]
    }
   ],
   "source": [
    "CatBoost_classifier = CatBoostClassifier()\n",
    "\n",
    "CatBoost_classifier.fit(X_train, y_train)\n",
    "\n",
    "y_pred = CatBoost_classifier.predict(X_test)\n",
    "\n",
    "accuracy = accuracy_score(y_test, y_pred)\n",
    "print('Accuracy:', accuracy)"
   ]
  },
  {
   "cell_type": "code",
   "execution_count": 150,
   "metadata": {},
   "outputs": [
    {
     "name": "stdout",
     "output_type": "stream",
     "text": [
      "[[96 14]\n",
      " [16 53]]\n"
     ]
    }
   ],
   "source": [
    "print(confusion_matrix(y_test, y_pred))"
   ]
  },
  {
   "cell_type": "code",
   "execution_count": 151,
   "metadata": {},
   "outputs": [
    {
     "name": "stdout",
     "output_type": "stream",
     "text": [
      "Accuracy: 0.8379888268156425\n"
     ]
    }
   ],
   "source": [
    "LGBM_classifier = LGBMClassifier()\n",
    "\n",
    "LGBM_classifier.fit(X_train, y_train)\n",
    "\n",
    "y_pred = LGBM_classifier.predict(X_test)\n",
    "\n",
    "accuracy = accuracy_score(y_test, y_pred)\n",
    "print('Accuracy:', accuracy)"
   ]
  },
  {
   "cell_type": "code",
   "execution_count": 152,
   "metadata": {},
   "outputs": [
    {
     "name": "stdout",
     "output_type": "stream",
     "text": [
      "[[96 14]\n",
      " [15 54]]\n"
     ]
    }
   ],
   "source": [
    "print(confusion_matrix(y_test, y_pred))"
   ]
  },
  {
   "cell_type": "code",
   "execution_count": 153,
   "metadata": {},
   "outputs": [
    {
     "name": "stdout",
     "output_type": "stream",
     "text": [
      "Logistic Regression accuracy: 0.832%\n",
      "GB accuracy: 0.827%\n",
      "Cat accuracy: 0.832%\n",
      "LGBM accuracy: 0.838%\n",
      "Random Forest accuracy: 0.838%\n",
      "Xgboost accuracy: 0.86%\n"
     ]
    }
   ],
   "source": [
    "classifiers = [('Logistic Regression', best_lr),\n",
    "               ('GB', GradientBoosting_classifier),\n",
    "               ('Cat', CatBoost_classifier),\n",
    "               ('LGBM', LGBM_classifier),\n",
    "               ('Random Forest', best_rf),\n",
    "               ('Xgboost', xgb)]\n",
    "\n",
    "for name_clf, clf in classifiers:\n",
    "    y_pred = clf.predict(X_test)\n",
    "    acc = accuracy_score(y_test, y_pred)\n",
    "    print(f'{name_clf} accuracy: {round(acc, 3)}%')"
   ]
  },
  {
   "cell_type": "code",
   "execution_count": 154,
   "metadata": {},
   "outputs": [
    {
     "name": "stdout",
     "output_type": "stream",
     "text": [
      "[[98 12]\n",
      " [13 56]]\n"
     ]
    }
   ],
   "source": [
    "print(confusion_matrix(y_test, y_pred))"
   ]
  },
  {
   "cell_type": "code",
   "execution_count": 155,
   "metadata": {},
   "outputs": [
    {
     "name": "stdout",
     "output_type": "stream",
     "text": [
      "Learning rate set to 0.008911\n",
      "0:\tlearn: 0.6874472\ttotal: 2.24ms\tremaining: 2.24s\n",
      "1:\tlearn: 0.6812164\ttotal: 4.66ms\tremaining: 2.33s\n",
      "2:\tlearn: 0.6753549\ttotal: 6.95ms\tremaining: 2.31s\n",
      "3:\tlearn: 0.6701691\ttotal: 8.88ms\tremaining: 2.21s\n",
      "4:\tlearn: 0.6646097\ttotal: 11.1ms\tremaining: 2.22s\n",
      "5:\tlearn: 0.6590470\ttotal: 13.2ms\tremaining: 2.18s\n",
      "6:\tlearn: 0.6539511\ttotal: 15ms\tremaining: 2.13s\n",
      "7:\tlearn: 0.6484745\ttotal: 17ms\tremaining: 2.11s\n",
      "8:\tlearn: 0.6434521\ttotal: 19.2ms\tremaining: 2.11s\n",
      "9:\tlearn: 0.6380793\ttotal: 21.2ms\tremaining: 2.1s\n",
      "10:\tlearn: 0.6340415\ttotal: 22.8ms\tremaining: 2.05s\n",
      "11:\tlearn: 0.6291378\ttotal: 25ms\tremaining: 2.06s\n",
      "12:\tlearn: 0.6246981\ttotal: 27.2ms\tremaining: 2.07s\n",
      "13:\tlearn: 0.6204981\ttotal: 29.4ms\tremaining: 2.07s\n",
      "14:\tlearn: 0.6164172\ttotal: 31.3ms\tremaining: 2.06s\n",
      "15:\tlearn: 0.6118140\ttotal: 33.5ms\tremaining: 2.06s\n",
      "16:\tlearn: 0.6076514\ttotal: 35.9ms\tremaining: 2.07s\n",
      "17:\tlearn: 0.6034800\ttotal: 37.8ms\tremaining: 2.06s\n",
      "18:\tlearn: 0.5992560\ttotal: 39.9ms\tremaining: 2.06s\n",
      "19:\tlearn: 0.5947303\ttotal: 41.9ms\tremaining: 2.05s\n",
      "20:\tlearn: 0.5909185\ttotal: 43.9ms\tremaining: 2.05s\n",
      "21:\tlearn: 0.5866896\ttotal: 45.8ms\tremaining: 2.04s\n",
      "22:\tlearn: 0.5830206\ttotal: 47.8ms\tremaining: 2.03s\n",
      "23:\tlearn: 0.5785607\ttotal: 49.8ms\tremaining: 2.02s\n",
      "24:\tlearn: 0.5750126\ttotal: 52ms\tremaining: 2.03s\n",
      "25:\tlearn: 0.5713222\ttotal: 53.9ms\tremaining: 2.02s\n",
      "26:\tlearn: 0.5672742\ttotal: 55.9ms\tremaining: 2.01s\n",
      "27:\tlearn: 0.5639499\ttotal: 58.2ms\tremaining: 2.02s\n",
      "28:\tlearn: 0.5602933\ttotal: 60.6ms\tremaining: 2.03s\n",
      "29:\tlearn: 0.5570746\ttotal: 63.1ms\tremaining: 2.04s\n",
      "30:\tlearn: 0.5535525\ttotal: 65.9ms\tremaining: 2.06s\n",
      "31:\tlearn: 0.5505933\ttotal: 68.3ms\tremaining: 2.06s\n",
      "32:\tlearn: 0.5470943\ttotal: 70.6ms\tremaining: 2.07s\n",
      "33:\tlearn: 0.5438647\ttotal: 72.8ms\tremaining: 2.07s\n",
      "34:\tlearn: 0.5405115\ttotal: 75.2ms\tremaining: 2.07s\n",
      "35:\tlearn: 0.5375139\ttotal: 77.3ms\tremaining: 2.07s\n",
      "36:\tlearn: 0.5349188\ttotal: 78.9ms\tremaining: 2.05s\n",
      "37:\tlearn: 0.5322521\ttotal: 81.1ms\tremaining: 2.05s\n",
      "38:\tlearn: 0.5295406\ttotal: 83.7ms\tremaining: 2.06s\n",
      "39:\tlearn: 0.5269375\ttotal: 86.4ms\tremaining: 2.07s\n",
      "40:\tlearn: 0.5241554\ttotal: 88.9ms\tremaining: 2.08s\n",
      "41:\tlearn: 0.5214767\ttotal: 90.8ms\tremaining: 2.07s\n",
      "42:\tlearn: 0.5190018\ttotal: 93ms\tremaining: 2.07s\n",
      "43:\tlearn: 0.5163188\ttotal: 95.7ms\tremaining: 2.08s\n",
      "44:\tlearn: 0.5140852\ttotal: 98.1ms\tremaining: 2.08s\n",
      "45:\tlearn: 0.5119236\ttotal: 100ms\tremaining: 2.08s\n",
      "46:\tlearn: 0.5093411\ttotal: 102ms\tremaining: 2.08s\n",
      "47:\tlearn: 0.5068244\ttotal: 105ms\tremaining: 2.07s\n",
      "48:\tlearn: 0.5041323\ttotal: 107ms\tremaining: 2.08s\n",
      "49:\tlearn: 0.5016345\ttotal: 109ms\tremaining: 2.07s\n",
      "50:\tlearn: 0.4997722\ttotal: 112ms\tremaining: 2.07s\n",
      "51:\tlearn: 0.4972050\ttotal: 114ms\tremaining: 2.07s\n",
      "52:\tlearn: 0.4951163\ttotal: 116ms\tremaining: 2.07s\n",
      "53:\tlearn: 0.4930030\ttotal: 118ms\tremaining: 2.06s\n",
      "54:\tlearn: 0.4907564\ttotal: 120ms\tremaining: 2.06s\n",
      "55:\tlearn: 0.4887299\ttotal: 122ms\tremaining: 2.06s\n",
      "56:\tlearn: 0.4867030\ttotal: 124ms\tremaining: 2.06s\n",
      "57:\tlearn: 0.4844792\ttotal: 127ms\tremaining: 2.06s\n",
      "58:\tlearn: 0.4822225\ttotal: 129ms\tremaining: 2.05s\n",
      "59:\tlearn: 0.4800655\ttotal: 130ms\tremaining: 2.04s\n",
      "60:\tlearn: 0.4784893\ttotal: 132ms\tremaining: 2.04s\n",
      "61:\tlearn: 0.4763308\ttotal: 134ms\tremaining: 2.03s\n",
      "62:\tlearn: 0.4745194\ttotal: 136ms\tremaining: 2.03s\n",
      "63:\tlearn: 0.4727316\ttotal: 138ms\tremaining: 2.02s\n",
      "64:\tlearn: 0.4708000\ttotal: 141ms\tremaining: 2.02s\n",
      "65:\tlearn: 0.4692973\ttotal: 143ms\tremaining: 2.03s\n",
      "66:\tlearn: 0.4678260\ttotal: 145ms\tremaining: 2.02s\n",
      "67:\tlearn: 0.4657732\ttotal: 147ms\tremaining: 2.02s\n",
      "68:\tlearn: 0.4644008\ttotal: 149ms\tremaining: 2.02s\n",
      "69:\tlearn: 0.4626037\ttotal: 151ms\tremaining: 2.01s\n",
      "70:\tlearn: 0.4610352\ttotal: 154ms\tremaining: 2.01s\n",
      "71:\tlearn: 0.4595576\ttotal: 156ms\tremaining: 2.01s\n",
      "72:\tlearn: 0.4578230\ttotal: 158ms\tremaining: 2.01s\n",
      "73:\tlearn: 0.4561325\ttotal: 160ms\tremaining: 2.01s\n",
      "74:\tlearn: 0.4544742\ttotal: 163ms\tremaining: 2s\n",
      "75:\tlearn: 0.4531770\ttotal: 165ms\tremaining: 2s\n",
      "76:\tlearn: 0.4514772\ttotal: 167ms\tremaining: 2s\n",
      "77:\tlearn: 0.4499098\ttotal: 169ms\tremaining: 2s\n",
      "78:\tlearn: 0.4485473\ttotal: 171ms\tremaining: 2s\n",
      "79:\tlearn: 0.4473486\ttotal: 174ms\tremaining: 2s\n",
      "80:\tlearn: 0.4458669\ttotal: 176ms\tremaining: 1.99s\n",
      "81:\tlearn: 0.4444417\ttotal: 178ms\tremaining: 1.99s\n",
      "82:\tlearn: 0.4432542\ttotal: 180ms\tremaining: 1.99s\n",
      "83:\tlearn: 0.4418521\ttotal: 183ms\tremaining: 1.99s\n",
      "84:\tlearn: 0.4404515\ttotal: 185ms\tremaining: 1.99s\n",
      "85:\tlearn: 0.4392751\ttotal: 187ms\tremaining: 1.99s\n",
      "86:\tlearn: 0.4380726\ttotal: 189ms\tremaining: 1.99s\n",
      "87:\tlearn: 0.4369448\ttotal: 191ms\tremaining: 1.98s\n",
      "88:\tlearn: 0.4354262\ttotal: 193ms\tremaining: 1.98s\n",
      "89:\tlearn: 0.4341444\ttotal: 196ms\tremaining: 1.98s\n",
      "90:\tlearn: 0.4330500\ttotal: 198ms\tremaining: 1.98s\n",
      "91:\tlearn: 0.4320262\ttotal: 200ms\tremaining: 1.97s\n",
      "92:\tlearn: 0.4307487\ttotal: 202ms\tremaining: 1.97s\n",
      "93:\tlearn: 0.4293731\ttotal: 204ms\tremaining: 1.97s\n",
      "94:\tlearn: 0.4287829\ttotal: 206ms\tremaining: 1.96s\n",
      "95:\tlearn: 0.4280785\ttotal: 208ms\tremaining: 1.96s\n",
      "96:\tlearn: 0.4273272\ttotal: 210ms\tremaining: 1.96s\n",
      "97:\tlearn: 0.4266871\ttotal: 211ms\tremaining: 1.95s\n",
      "98:\tlearn: 0.4257726\ttotal: 214ms\tremaining: 1.94s\n",
      "99:\tlearn: 0.4244599\ttotal: 216ms\tremaining: 1.94s\n",
      "100:\tlearn: 0.4235892\ttotal: 218ms\tremaining: 1.94s\n",
      "101:\tlearn: 0.4226753\ttotal: 219ms\tremaining: 1.93s\n",
      "102:\tlearn: 0.4216052\ttotal: 222ms\tremaining: 1.93s\n",
      "103:\tlearn: 0.4206627\ttotal: 224ms\tremaining: 1.93s\n",
      "104:\tlearn: 0.4197716\ttotal: 226ms\tremaining: 1.92s\n",
      "105:\tlearn: 0.4188972\ttotal: 228ms\tremaining: 1.92s\n",
      "106:\tlearn: 0.4180881\ttotal: 230ms\tremaining: 1.92s\n",
      "107:\tlearn: 0.4171933\ttotal: 232ms\tremaining: 1.92s\n",
      "108:\tlearn: 0.4162864\ttotal: 234ms\tremaining: 1.91s\n",
      "109:\tlearn: 0.4156205\ttotal: 236ms\tremaining: 1.91s\n",
      "110:\tlearn: 0.4150833\ttotal: 238ms\tremaining: 1.91s\n",
      "111:\tlearn: 0.4142778\ttotal: 240ms\tremaining: 1.91s\n",
      "112:\tlearn: 0.4135688\ttotal: 243ms\tremaining: 1.9s\n",
      "113:\tlearn: 0.4124984\ttotal: 245ms\tremaining: 1.9s\n",
      "114:\tlearn: 0.4121205\ttotal: 246ms\tremaining: 1.89s\n",
      "115:\tlearn: 0.4111688\ttotal: 248ms\tremaining: 1.89s\n",
      "116:\tlearn: 0.4108163\ttotal: 250ms\tremaining: 1.89s\n",
      "117:\tlearn: 0.4100969\ttotal: 252ms\tremaining: 1.88s\n",
      "118:\tlearn: 0.4091780\ttotal: 254ms\tremaining: 1.88s\n",
      "119:\tlearn: 0.4082803\ttotal: 256ms\tremaining: 1.87s\n",
      "120:\tlearn: 0.4074978\ttotal: 258ms\tremaining: 1.87s\n",
      "121:\tlearn: 0.4068494\ttotal: 260ms\tremaining: 1.87s\n",
      "122:\tlearn: 0.4062216\ttotal: 262ms\tremaining: 1.87s\n",
      "123:\tlearn: 0.4052454\ttotal: 265ms\tremaining: 1.87s\n",
      "124:\tlearn: 0.4045375\ttotal: 267ms\tremaining: 1.87s\n",
      "125:\tlearn: 0.4038970\ttotal: 270ms\tremaining: 1.87s\n",
      "126:\tlearn: 0.4035181\ttotal: 271ms\tremaining: 1.86s\n",
      "127:\tlearn: 0.4027633\ttotal: 273ms\tremaining: 1.86s\n",
      "128:\tlearn: 0.4019650\ttotal: 275ms\tremaining: 1.85s\n",
      "129:\tlearn: 0.4017493\ttotal: 276ms\tremaining: 1.84s\n",
      "130:\tlearn: 0.4011743\ttotal: 278ms\tremaining: 1.84s\n",
      "131:\tlearn: 0.4007792\ttotal: 280ms\tremaining: 1.84s\n",
      "132:\tlearn: 0.4000565\ttotal: 282ms\tremaining: 1.84s\n",
      "133:\tlearn: 0.3992186\ttotal: 284ms\tremaining: 1.84s\n",
      "134:\tlearn: 0.3983857\ttotal: 287ms\tremaining: 1.84s\n",
      "135:\tlearn: 0.3977603\ttotal: 289ms\tremaining: 1.83s\n",
      "136:\tlearn: 0.3973215\ttotal: 291ms\tremaining: 1.83s\n",
      "137:\tlearn: 0.3964614\ttotal: 293ms\tremaining: 1.83s\n",
      "138:\tlearn: 0.3957587\ttotal: 295ms\tremaining: 1.83s\n",
      "139:\tlearn: 0.3952065\ttotal: 297ms\tremaining: 1.83s\n",
      "140:\tlearn: 0.3945049\ttotal: 299ms\tremaining: 1.82s\n",
      "141:\tlearn: 0.3937922\ttotal: 301ms\tremaining: 1.82s\n",
      "142:\tlearn: 0.3930642\ttotal: 303ms\tremaining: 1.81s\n",
      "143:\tlearn: 0.3922952\ttotal: 305ms\tremaining: 1.81s\n",
      "144:\tlearn: 0.3915945\ttotal: 307ms\tremaining: 1.81s\n",
      "145:\tlearn: 0.3910790\ttotal: 309ms\tremaining: 1.81s\n",
      "146:\tlearn: 0.3905403\ttotal: 311ms\tremaining: 1.8s\n",
      "147:\tlearn: 0.3901374\ttotal: 314ms\tremaining: 1.8s\n",
      "148:\tlearn: 0.3897008\ttotal: 316ms\tremaining: 1.8s\n",
      "149:\tlearn: 0.3891009\ttotal: 318ms\tremaining: 1.8s\n",
      "150:\tlearn: 0.3889512\ttotal: 319ms\tremaining: 1.79s\n",
      "151:\tlearn: 0.3885986\ttotal: 321ms\tremaining: 1.79s\n",
      "152:\tlearn: 0.3878378\ttotal: 323ms\tremaining: 1.79s\n",
      "153:\tlearn: 0.3873883\ttotal: 326ms\tremaining: 1.79s\n",
      "154:\tlearn: 0.3867960\ttotal: 328ms\tremaining: 1.79s\n",
      "155:\tlearn: 0.3863245\ttotal: 330ms\tremaining: 1.78s\n",
      "156:\tlearn: 0.3857225\ttotal: 332ms\tremaining: 1.78s\n",
      "157:\tlearn: 0.3848829\ttotal: 334ms\tremaining: 1.78s\n",
      "158:\tlearn: 0.3844206\ttotal: 336ms\tremaining: 1.78s\n",
      "159:\tlearn: 0.3837630\ttotal: 339ms\tremaining: 1.78s\n",
      "160:\tlearn: 0.3834421\ttotal: 341ms\tremaining: 1.77s\n",
      "161:\tlearn: 0.3829897\ttotal: 343ms\tremaining: 1.77s\n",
      "162:\tlearn: 0.3824267\ttotal: 345ms\tremaining: 1.77s\n",
      "163:\tlearn: 0.3820858\ttotal: 347ms\tremaining: 1.77s\n",
      "164:\tlearn: 0.3817409\ttotal: 349ms\tremaining: 1.77s\n",
      "165:\tlearn: 0.3815373\ttotal: 351ms\tremaining: 1.76s\n",
      "166:\tlearn: 0.3810811\ttotal: 353ms\tremaining: 1.76s\n",
      "167:\tlearn: 0.3806989\ttotal: 356ms\tremaining: 1.76s\n",
      "168:\tlearn: 0.3803151\ttotal: 358ms\tremaining: 1.76s\n",
      "169:\tlearn: 0.3800743\ttotal: 360ms\tremaining: 1.75s\n",
      "170:\tlearn: 0.3798202\ttotal: 362ms\tremaining: 1.75s\n",
      "171:\tlearn: 0.3792605\ttotal: 364ms\tremaining: 1.75s\n",
      "172:\tlearn: 0.3787793\ttotal: 366ms\tremaining: 1.75s\n",
      "173:\tlearn: 0.3783372\ttotal: 369ms\tremaining: 1.75s\n",
      "174:\tlearn: 0.3780623\ttotal: 371ms\tremaining: 1.75s\n",
      "175:\tlearn: 0.3774472\ttotal: 373ms\tremaining: 1.75s\n",
      "176:\tlearn: 0.3770665\ttotal: 376ms\tremaining: 1.75s\n",
      "177:\tlearn: 0.3765938\ttotal: 378ms\tremaining: 1.75s\n",
      "178:\tlearn: 0.3762032\ttotal: 380ms\tremaining: 1.74s\n",
      "179:\tlearn: 0.3758941\ttotal: 382ms\tremaining: 1.74s\n",
      "180:\tlearn: 0.3755783\ttotal: 384ms\tremaining: 1.74s\n",
      "181:\tlearn: 0.3751707\ttotal: 386ms\tremaining: 1.74s\n",
      "182:\tlearn: 0.3746557\ttotal: 388ms\tremaining: 1.73s\n",
      "183:\tlearn: 0.3743673\ttotal: 392ms\tremaining: 1.74s\n",
      "184:\tlearn: 0.3738477\ttotal: 394ms\tremaining: 1.74s\n",
      "185:\tlearn: 0.3735658\ttotal: 396ms\tremaining: 1.73s\n",
      "186:\tlearn: 0.3731177\ttotal: 398ms\tremaining: 1.73s\n",
      "187:\tlearn: 0.3728017\ttotal: 401ms\tremaining: 1.73s\n",
      "188:\tlearn: 0.3722555\ttotal: 403ms\tremaining: 1.73s\n",
      "189:\tlearn: 0.3718966\ttotal: 406ms\tremaining: 1.73s\n",
      "190:\tlearn: 0.3715734\ttotal: 408ms\tremaining: 1.73s\n",
      "191:\tlearn: 0.3711803\ttotal: 410ms\tremaining: 1.72s\n",
      "192:\tlearn: 0.3707198\ttotal: 412ms\tremaining: 1.72s\n",
      "193:\tlearn: 0.3703964\ttotal: 414ms\tremaining: 1.72s\n",
      "194:\tlearn: 0.3700785\ttotal: 416ms\tremaining: 1.72s\n",
      "195:\tlearn: 0.3698553\ttotal: 418ms\tremaining: 1.71s\n",
      "196:\tlearn: 0.3694186\ttotal: 420ms\tremaining: 1.71s\n",
      "197:\tlearn: 0.3690948\ttotal: 422ms\tremaining: 1.71s\n",
      "198:\tlearn: 0.3688822\ttotal: 425ms\tremaining: 1.71s\n",
      "199:\tlearn: 0.3683882\ttotal: 427ms\tremaining: 1.71s\n",
      "200:\tlearn: 0.3680772\ttotal: 429ms\tremaining: 1.7s\n",
      "201:\tlearn: 0.3676768\ttotal: 431ms\tremaining: 1.7s\n",
      "202:\tlearn: 0.3674761\ttotal: 433ms\tremaining: 1.7s\n",
      "203:\tlearn: 0.3670233\ttotal: 435ms\tremaining: 1.7s\n",
      "204:\tlearn: 0.3664629\ttotal: 437ms\tremaining: 1.69s\n",
      "205:\tlearn: 0.3658443\ttotal: 439ms\tremaining: 1.69s\n",
      "206:\tlearn: 0.3655372\ttotal: 441ms\tremaining: 1.69s\n",
      "207:\tlearn: 0.3652576\ttotal: 443ms\tremaining: 1.69s\n",
      "208:\tlearn: 0.3649394\ttotal: 445ms\tremaining: 1.68s\n",
      "209:\tlearn: 0.3645391\ttotal: 447ms\tremaining: 1.68s\n",
      "210:\tlearn: 0.3643784\ttotal: 449ms\tremaining: 1.68s\n",
      "211:\tlearn: 0.3640132\ttotal: 451ms\tremaining: 1.68s\n",
      "212:\tlearn: 0.3637465\ttotal: 453ms\tremaining: 1.68s\n",
      "213:\tlearn: 0.3634112\ttotal: 456ms\tremaining: 1.67s\n",
      "214:\tlearn: 0.3631185\ttotal: 458ms\tremaining: 1.67s\n",
      "215:\tlearn: 0.3627930\ttotal: 460ms\tremaining: 1.67s\n",
      "216:\tlearn: 0.3625900\ttotal: 462ms\tremaining: 1.67s\n",
      "217:\tlearn: 0.3622534\ttotal: 464ms\tremaining: 1.66s\n",
      "218:\tlearn: 0.3617855\ttotal: 466ms\tremaining: 1.66s\n",
      "219:\tlearn: 0.3615213\ttotal: 468ms\tremaining: 1.66s\n",
      "220:\tlearn: 0.3610235\ttotal: 470ms\tremaining: 1.66s\n"
     ]
    },
    {
     "name": "stdout",
     "output_type": "stream",
     "text": [
      "221:\tlearn: 0.3607877\ttotal: 472ms\tremaining: 1.65s\n",
      "222:\tlearn: 0.3603677\ttotal: 475ms\tremaining: 1.65s\n",
      "223:\tlearn: 0.3599478\ttotal: 477ms\tremaining: 1.65s\n",
      "224:\tlearn: 0.3596321\ttotal: 479ms\tremaining: 1.65s\n",
      "225:\tlearn: 0.3593695\ttotal: 481ms\tremaining: 1.65s\n",
      "226:\tlearn: 0.3591610\ttotal: 483ms\tremaining: 1.65s\n",
      "227:\tlearn: 0.3588511\ttotal: 486ms\tremaining: 1.64s\n",
      "228:\tlearn: 0.3587040\ttotal: 487ms\tremaining: 1.64s\n",
      "229:\tlearn: 0.3585150\ttotal: 489ms\tremaining: 1.64s\n",
      "230:\tlearn: 0.3583819\ttotal: 492ms\tremaining: 1.64s\n",
      "231:\tlearn: 0.3579993\ttotal: 493ms\tremaining: 1.63s\n",
      "232:\tlearn: 0.3575984\ttotal: 495ms\tremaining: 1.63s\n",
      "233:\tlearn: 0.3572635\ttotal: 498ms\tremaining: 1.63s\n",
      "234:\tlearn: 0.3570086\ttotal: 500ms\tremaining: 1.63s\n",
      "235:\tlearn: 0.3566842\ttotal: 503ms\tremaining: 1.63s\n",
      "236:\tlearn: 0.3564347\ttotal: 506ms\tremaining: 1.63s\n",
      "237:\tlearn: 0.3560734\ttotal: 508ms\tremaining: 1.63s\n",
      "238:\tlearn: 0.3559040\ttotal: 510ms\tremaining: 1.62s\n",
      "239:\tlearn: 0.3555425\ttotal: 512ms\tremaining: 1.62s\n",
      "240:\tlearn: 0.3551936\ttotal: 514ms\tremaining: 1.62s\n",
      "241:\tlearn: 0.3547860\ttotal: 516ms\tremaining: 1.62s\n",
      "242:\tlearn: 0.3546213\ttotal: 519ms\tremaining: 1.61s\n",
      "243:\tlearn: 0.3543789\ttotal: 520ms\tremaining: 1.61s\n",
      "244:\tlearn: 0.3540780\ttotal: 523ms\tremaining: 1.61s\n",
      "245:\tlearn: 0.3537897\ttotal: 525ms\tremaining: 1.61s\n",
      "246:\tlearn: 0.3536354\ttotal: 527ms\tremaining: 1.61s\n",
      "247:\tlearn: 0.3535196\ttotal: 529ms\tremaining: 1.6s\n",
      "248:\tlearn: 0.3531412\ttotal: 531ms\tremaining: 1.6s\n",
      "249:\tlearn: 0.3529990\ttotal: 533ms\tremaining: 1.6s\n",
      "250:\tlearn: 0.3527648\ttotal: 535ms\tremaining: 1.6s\n",
      "251:\tlearn: 0.3526154\ttotal: 538ms\tremaining: 1.6s\n",
      "252:\tlearn: 0.3523480\ttotal: 540ms\tremaining: 1.59s\n",
      "253:\tlearn: 0.3520375\ttotal: 542ms\tremaining: 1.59s\n",
      "254:\tlearn: 0.3518083\ttotal: 544ms\tremaining: 1.59s\n",
      "255:\tlearn: 0.3515747\ttotal: 546ms\tremaining: 1.59s\n",
      "256:\tlearn: 0.3514576\ttotal: 547ms\tremaining: 1.58s\n",
      "257:\tlearn: 0.3512561\ttotal: 549ms\tremaining: 1.58s\n",
      "258:\tlearn: 0.3507725\ttotal: 551ms\tremaining: 1.58s\n",
      "259:\tlearn: 0.3506115\ttotal: 554ms\tremaining: 1.57s\n",
      "260:\tlearn: 0.3502076\ttotal: 556ms\tremaining: 1.57s\n",
      "261:\tlearn: 0.3499818\ttotal: 558ms\tremaining: 1.57s\n",
      "262:\tlearn: 0.3496234\ttotal: 560ms\tremaining: 1.57s\n",
      "263:\tlearn: 0.3492393\ttotal: 562ms\tremaining: 1.57s\n",
      "264:\tlearn: 0.3490007\ttotal: 565ms\tremaining: 1.56s\n",
      "265:\tlearn: 0.3487918\ttotal: 567ms\tremaining: 1.56s\n",
      "266:\tlearn: 0.3484328\ttotal: 569ms\tremaining: 1.56s\n",
      "267:\tlearn: 0.3484160\ttotal: 569ms\tremaining: 1.55s\n",
      "268:\tlearn: 0.3482373\ttotal: 571ms\tremaining: 1.55s\n",
      "269:\tlearn: 0.3479923\ttotal: 573ms\tremaining: 1.55s\n",
      "270:\tlearn: 0.3478610\ttotal: 576ms\tremaining: 1.55s\n",
      "271:\tlearn: 0.3477900\ttotal: 577ms\tremaining: 1.54s\n",
      "272:\tlearn: 0.3475661\ttotal: 579ms\tremaining: 1.54s\n",
      "273:\tlearn: 0.3474045\ttotal: 581ms\tremaining: 1.54s\n",
      "274:\tlearn: 0.3469722\ttotal: 583ms\tremaining: 1.54s\n",
      "275:\tlearn: 0.3467103\ttotal: 585ms\tremaining: 1.53s\n",
      "276:\tlearn: 0.3465896\ttotal: 587ms\tremaining: 1.53s\n",
      "277:\tlearn: 0.3463168\ttotal: 589ms\tremaining: 1.53s\n",
      "278:\tlearn: 0.3460238\ttotal: 591ms\tremaining: 1.53s\n",
      "279:\tlearn: 0.3457947\ttotal: 593ms\tremaining: 1.53s\n",
      "280:\tlearn: 0.3456023\ttotal: 596ms\tremaining: 1.52s\n",
      "281:\tlearn: 0.3455031\ttotal: 598ms\tremaining: 1.52s\n",
      "282:\tlearn: 0.3452761\ttotal: 600ms\tremaining: 1.52s\n",
      "283:\tlearn: 0.3447553\ttotal: 602ms\tremaining: 1.52s\n",
      "284:\tlearn: 0.3445606\ttotal: 604ms\tremaining: 1.52s\n",
      "285:\tlearn: 0.3443546\ttotal: 606ms\tremaining: 1.51s\n",
      "286:\tlearn: 0.3442079\ttotal: 608ms\tremaining: 1.51s\n",
      "287:\tlearn: 0.3440880\ttotal: 610ms\tremaining: 1.51s\n",
      "288:\tlearn: 0.3439676\ttotal: 612ms\tremaining: 1.5s\n",
      "289:\tlearn: 0.3437394\ttotal: 614ms\tremaining: 1.5s\n",
      "290:\tlearn: 0.3433639\ttotal: 616ms\tremaining: 1.5s\n",
      "291:\tlearn: 0.3430376\ttotal: 618ms\tremaining: 1.5s\n",
      "292:\tlearn: 0.3428360\ttotal: 620ms\tremaining: 1.5s\n",
      "293:\tlearn: 0.3427201\ttotal: 622ms\tremaining: 1.49s\n",
      "294:\tlearn: 0.3424740\ttotal: 624ms\tremaining: 1.49s\n",
      "295:\tlearn: 0.3422626\ttotal: 627ms\tremaining: 1.49s\n",
      "296:\tlearn: 0.3419087\ttotal: 629ms\tremaining: 1.49s\n",
      "297:\tlearn: 0.3417394\ttotal: 632ms\tremaining: 1.49s\n",
      "298:\tlearn: 0.3415082\ttotal: 634ms\tremaining: 1.49s\n",
      "299:\tlearn: 0.3413654\ttotal: 636ms\tremaining: 1.48s\n",
      "300:\tlearn: 0.3413371\ttotal: 638ms\tremaining: 1.48s\n",
      "301:\tlearn: 0.3411985\ttotal: 640ms\tremaining: 1.48s\n",
      "302:\tlearn: 0.3410018\ttotal: 642ms\tremaining: 1.48s\n",
      "303:\tlearn: 0.3408367\ttotal: 644ms\tremaining: 1.48s\n",
      "304:\tlearn: 0.3404985\ttotal: 647ms\tremaining: 1.47s\n",
      "305:\tlearn: 0.3403665\ttotal: 649ms\tremaining: 1.47s\n",
      "306:\tlearn: 0.3400269\ttotal: 651ms\tremaining: 1.47s\n",
      "307:\tlearn: 0.3398555\ttotal: 653ms\tremaining: 1.47s\n",
      "308:\tlearn: 0.3397397\ttotal: 655ms\tremaining: 1.46s\n",
      "309:\tlearn: 0.3395117\ttotal: 657ms\tremaining: 1.46s\n",
      "310:\tlearn: 0.3393043\ttotal: 660ms\tremaining: 1.46s\n",
      "311:\tlearn: 0.3391388\ttotal: 662ms\tremaining: 1.46s\n",
      "312:\tlearn: 0.3389718\ttotal: 664ms\tremaining: 1.46s\n",
      "313:\tlearn: 0.3387913\ttotal: 666ms\tremaining: 1.45s\n",
      "314:\tlearn: 0.3386873\ttotal: 668ms\tremaining: 1.45s\n",
      "315:\tlearn: 0.3383650\ttotal: 670ms\tremaining: 1.45s\n",
      "316:\tlearn: 0.3382921\ttotal: 673ms\tremaining: 1.45s\n",
      "317:\tlearn: 0.3379087\ttotal: 675ms\tremaining: 1.45s\n",
      "318:\tlearn: 0.3377646\ttotal: 677ms\tremaining: 1.44s\n",
      "319:\tlearn: 0.3375809\ttotal: 679ms\tremaining: 1.44s\n",
      "320:\tlearn: 0.3374727\ttotal: 680ms\tremaining: 1.44s\n",
      "321:\tlearn: 0.3371180\ttotal: 682ms\tremaining: 1.44s\n",
      "322:\tlearn: 0.3369683\ttotal: 684ms\tremaining: 1.43s\n",
      "323:\tlearn: 0.3366342\ttotal: 687ms\tremaining: 1.43s\n",
      "324:\tlearn: 0.3362802\ttotal: 689ms\tremaining: 1.43s\n",
      "325:\tlearn: 0.3360342\ttotal: 691ms\tremaining: 1.43s\n",
      "326:\tlearn: 0.3359563\ttotal: 693ms\tremaining: 1.43s\n",
      "327:\tlearn: 0.3357069\ttotal: 695ms\tremaining: 1.42s\n",
      "328:\tlearn: 0.3355439\ttotal: 698ms\tremaining: 1.42s\n",
      "329:\tlearn: 0.3353157\ttotal: 700ms\tremaining: 1.42s\n",
      "330:\tlearn: 0.3351579\ttotal: 702ms\tremaining: 1.42s\n",
      "331:\tlearn: 0.3349975\ttotal: 704ms\tremaining: 1.42s\n",
      "332:\tlearn: 0.3347424\ttotal: 706ms\tremaining: 1.41s\n",
      "333:\tlearn: 0.3344882\ttotal: 708ms\tremaining: 1.41s\n",
      "334:\tlearn: 0.3344441\ttotal: 710ms\tremaining: 1.41s\n",
      "335:\tlearn: 0.3342481\ttotal: 712ms\tremaining: 1.41s\n",
      "336:\tlearn: 0.3340456\ttotal: 714ms\tremaining: 1.4s\n",
      "337:\tlearn: 0.3337687\ttotal: 716ms\tremaining: 1.4s\n",
      "338:\tlearn: 0.3335666\ttotal: 719ms\tremaining: 1.4s\n",
      "339:\tlearn: 0.3334455\ttotal: 721ms\tremaining: 1.4s\n",
      "340:\tlearn: 0.3331567\ttotal: 723ms\tremaining: 1.4s\n",
      "341:\tlearn: 0.3328181\ttotal: 725ms\tremaining: 1.4s\n",
      "342:\tlearn: 0.3326838\ttotal: 727ms\tremaining: 1.39s\n",
      "343:\tlearn: 0.3323486\ttotal: 730ms\tremaining: 1.39s\n",
      "344:\tlearn: 0.3321422\ttotal: 732ms\tremaining: 1.39s\n",
      "345:\tlearn: 0.3320219\ttotal: 734ms\tremaining: 1.39s\n",
      "346:\tlearn: 0.3319629\ttotal: 736ms\tremaining: 1.38s\n",
      "347:\tlearn: 0.3318327\ttotal: 738ms\tremaining: 1.38s\n",
      "348:\tlearn: 0.3316385\ttotal: 740ms\tremaining: 1.38s\n",
      "349:\tlearn: 0.3313447\ttotal: 742ms\tremaining: 1.38s\n",
      "350:\tlearn: 0.3312501\ttotal: 744ms\tremaining: 1.38s\n",
      "351:\tlearn: 0.3311055\ttotal: 746ms\tremaining: 1.37s\n",
      "352:\tlearn: 0.3310505\ttotal: 748ms\tremaining: 1.37s\n",
      "353:\tlearn: 0.3308626\ttotal: 751ms\tremaining: 1.37s\n",
      "354:\tlearn: 0.3306886\ttotal: 753ms\tremaining: 1.37s\n",
      "355:\tlearn: 0.3304385\ttotal: 755ms\tremaining: 1.37s\n",
      "356:\tlearn: 0.3303431\ttotal: 758ms\tremaining: 1.36s\n",
      "357:\tlearn: 0.3301548\ttotal: 760ms\tremaining: 1.36s\n",
      "358:\tlearn: 0.3299942\ttotal: 762ms\tremaining: 1.36s\n",
      "359:\tlearn: 0.3298805\ttotal: 764ms\tremaining: 1.36s\n",
      "360:\tlearn: 0.3297740\ttotal: 766ms\tremaining: 1.35s\n",
      "361:\tlearn: 0.3294476\ttotal: 768ms\tremaining: 1.35s\n",
      "362:\tlearn: 0.3293859\ttotal: 770ms\tremaining: 1.35s\n",
      "363:\tlearn: 0.3291827\ttotal: 772ms\tremaining: 1.35s\n",
      "364:\tlearn: 0.3289421\ttotal: 774ms\tremaining: 1.35s\n",
      "365:\tlearn: 0.3286801\ttotal: 776ms\tremaining: 1.34s\n",
      "366:\tlearn: 0.3285907\ttotal: 779ms\tremaining: 1.34s\n",
      "367:\tlearn: 0.3284605\ttotal: 782ms\tremaining: 1.34s\n",
      "368:\tlearn: 0.3279775\ttotal: 787ms\tremaining: 1.34s\n",
      "369:\tlearn: 0.3278836\ttotal: 789ms\tremaining: 1.34s\n",
      "370:\tlearn: 0.3275042\ttotal: 792ms\tremaining: 1.34s\n",
      "371:\tlearn: 0.3272993\ttotal: 794ms\tremaining: 1.34s\n",
      "372:\tlearn: 0.3272572\ttotal: 796ms\tremaining: 1.34s\n",
      "373:\tlearn: 0.3270021\ttotal: 799ms\tremaining: 1.34s\n",
      "374:\tlearn: 0.3267494\ttotal: 801ms\tremaining: 1.33s\n",
      "375:\tlearn: 0.3264839\ttotal: 803ms\tremaining: 1.33s\n",
      "376:\tlearn: 0.3262672\ttotal: 805ms\tremaining: 1.33s\n",
      "377:\tlearn: 0.3260910\ttotal: 807ms\tremaining: 1.33s\n",
      "378:\tlearn: 0.3259307\ttotal: 810ms\tremaining: 1.33s\n",
      "379:\tlearn: 0.3258163\ttotal: 812ms\tremaining: 1.32s\n",
      "380:\tlearn: 0.3255970\ttotal: 814ms\tremaining: 1.32s\n",
      "381:\tlearn: 0.3252290\ttotal: 817ms\tremaining: 1.32s\n",
      "382:\tlearn: 0.3250952\ttotal: 818ms\tremaining: 1.32s\n",
      "383:\tlearn: 0.3249778\ttotal: 820ms\tremaining: 1.32s\n",
      "384:\tlearn: 0.3247516\ttotal: 822ms\tremaining: 1.31s\n",
      "385:\tlearn: 0.3246550\ttotal: 824ms\tremaining: 1.31s\n",
      "386:\tlearn: 0.3244181\ttotal: 826ms\tremaining: 1.31s\n",
      "387:\tlearn: 0.3242867\ttotal: 829ms\tremaining: 1.31s\n",
      "388:\tlearn: 0.3238119\ttotal: 831ms\tremaining: 1.3s\n",
      "389:\tlearn: 0.3234359\ttotal: 833ms\tremaining: 1.3s\n",
      "390:\tlearn: 0.3231692\ttotal: 835ms\tremaining: 1.3s\n",
      "391:\tlearn: 0.3230048\ttotal: 837ms\tremaining: 1.3s\n",
      "392:\tlearn: 0.3229011\ttotal: 839ms\tremaining: 1.3s\n",
      "393:\tlearn: 0.3228948\ttotal: 841ms\tremaining: 1.29s\n",
      "394:\tlearn: 0.3228135\ttotal: 843ms\tremaining: 1.29s\n",
      "395:\tlearn: 0.3226509\ttotal: 845ms\tremaining: 1.29s\n",
      "396:\tlearn: 0.3224436\ttotal: 847ms\tremaining: 1.29s\n",
      "397:\tlearn: 0.3222221\ttotal: 849ms\tremaining: 1.28s\n",
      "398:\tlearn: 0.3221047\ttotal: 851ms\tremaining: 1.28s\n",
      "399:\tlearn: 0.3218814\ttotal: 853ms\tremaining: 1.28s\n",
      "400:\tlearn: 0.3216631\ttotal: 854ms\tremaining: 1.28s\n",
      "401:\tlearn: 0.3214900\ttotal: 856ms\tremaining: 1.27s\n",
      "402:\tlearn: 0.3213200\ttotal: 859ms\tremaining: 1.27s\n",
      "403:\tlearn: 0.3212311\ttotal: 861ms\tremaining: 1.27s\n",
      "404:\tlearn: 0.3210619\ttotal: 863ms\tremaining: 1.27s\n",
      "405:\tlearn: 0.3209515\ttotal: 865ms\tremaining: 1.26s\n",
      "406:\tlearn: 0.3207242\ttotal: 867ms\tremaining: 1.26s\n",
      "407:\tlearn: 0.3206059\ttotal: 870ms\tremaining: 1.26s\n",
      "408:\tlearn: 0.3204698\ttotal: 872ms\tremaining: 1.26s\n",
      "409:\tlearn: 0.3203317\ttotal: 874ms\tremaining: 1.26s\n",
      "410:\tlearn: 0.3202702\ttotal: 876ms\tremaining: 1.25s\n",
      "411:\tlearn: 0.3201342\ttotal: 878ms\tremaining: 1.25s\n",
      "412:\tlearn: 0.3198855\ttotal: 880ms\tremaining: 1.25s\n",
      "413:\tlearn: 0.3198123\ttotal: 882ms\tremaining: 1.25s\n",
      "414:\tlearn: 0.3196099\ttotal: 884ms\tremaining: 1.25s\n",
      "415:\tlearn: 0.3194687\ttotal: 886ms\tremaining: 1.24s\n",
      "416:\tlearn: 0.3193406\ttotal: 888ms\tremaining: 1.24s\n",
      "417:\tlearn: 0.3192596\ttotal: 889ms\tremaining: 1.24s\n",
      "418:\tlearn: 0.3190680\ttotal: 891ms\tremaining: 1.24s\n",
      "419:\tlearn: 0.3188547\ttotal: 893ms\tremaining: 1.23s\n",
      "420:\tlearn: 0.3186277\ttotal: 895ms\tremaining: 1.23s\n",
      "421:\tlearn: 0.3184076\ttotal: 897ms\tremaining: 1.23s\n",
      "422:\tlearn: 0.3182798\ttotal: 900ms\tremaining: 1.23s\n",
      "423:\tlearn: 0.3181795\ttotal: 901ms\tremaining: 1.22s\n",
      "424:\tlearn: 0.3179165\ttotal: 904ms\tremaining: 1.22s\n",
      "425:\tlearn: 0.3178508\ttotal: 905ms\tremaining: 1.22s\n",
      "426:\tlearn: 0.3176935\ttotal: 907ms\tremaining: 1.22s\n",
      "427:\tlearn: 0.3174453\ttotal: 909ms\tremaining: 1.22s\n",
      "428:\tlearn: 0.3173272\ttotal: 911ms\tremaining: 1.21s\n",
      "429:\tlearn: 0.3171513\ttotal: 913ms\tremaining: 1.21s\n",
      "430:\tlearn: 0.3170544\ttotal: 915ms\tremaining: 1.21s\n",
      "431:\tlearn: 0.3169355\ttotal: 917ms\tremaining: 1.21s\n",
      "432:\tlearn: 0.3167671\ttotal: 919ms\tremaining: 1.2s\n",
      "433:\tlearn: 0.3166728\ttotal: 921ms\tremaining: 1.2s\n",
      "434:\tlearn: 0.3163299\ttotal: 923ms\tremaining: 1.2s\n",
      "435:\tlearn: 0.3162536\ttotal: 925ms\tremaining: 1.2s\n",
      "436:\tlearn: 0.3159632\ttotal: 927ms\tremaining: 1.19s\n",
      "437:\tlearn: 0.3157142\ttotal: 930ms\tremaining: 1.19s\n",
      "438:\tlearn: 0.3156025\ttotal: 932ms\tremaining: 1.19s\n",
      "439:\tlearn: 0.3155447\ttotal: 934ms\tremaining: 1.19s\n",
      "440:\tlearn: 0.3154836\ttotal: 936ms\tremaining: 1.19s\n",
      "441:\tlearn: 0.3148787\ttotal: 938ms\tremaining: 1.18s\n",
      "442:\tlearn: 0.3146531\ttotal: 940ms\tremaining: 1.18s\n",
      "443:\tlearn: 0.3146039\ttotal: 942ms\tremaining: 1.18s\n",
      "444:\tlearn: 0.3143617\ttotal: 944ms\tremaining: 1.18s\n",
      "445:\tlearn: 0.3141265\ttotal: 946ms\tremaining: 1.18s\n"
     ]
    },
    {
     "name": "stdout",
     "output_type": "stream",
     "text": [
      "446:\tlearn: 0.3140298\ttotal: 948ms\tremaining: 1.17s\n",
      "447:\tlearn: 0.3137754\ttotal: 950ms\tremaining: 1.17s\n",
      "448:\tlearn: 0.3137181\ttotal: 952ms\tremaining: 1.17s\n",
      "449:\tlearn: 0.3135890\ttotal: 955ms\tremaining: 1.17s\n",
      "450:\tlearn: 0.3133591\ttotal: 957ms\tremaining: 1.17s\n",
      "451:\tlearn: 0.3131550\ttotal: 959ms\tremaining: 1.16s\n",
      "452:\tlearn: 0.3130631\ttotal: 961ms\tremaining: 1.16s\n",
      "453:\tlearn: 0.3129747\ttotal: 964ms\tremaining: 1.16s\n",
      "454:\tlearn: 0.3127768\ttotal: 966ms\tremaining: 1.16s\n",
      "455:\tlearn: 0.3124435\ttotal: 968ms\tremaining: 1.15s\n",
      "456:\tlearn: 0.3121660\ttotal: 970ms\tremaining: 1.15s\n",
      "457:\tlearn: 0.3120525\ttotal: 972ms\tremaining: 1.15s\n",
      "458:\tlearn: 0.3119409\ttotal: 974ms\tremaining: 1.15s\n",
      "459:\tlearn: 0.3117583\ttotal: 976ms\tremaining: 1.15s\n",
      "460:\tlearn: 0.3114769\ttotal: 978ms\tremaining: 1.14s\n",
      "461:\tlearn: 0.3114454\ttotal: 980ms\tremaining: 1.14s\n",
      "462:\tlearn: 0.3114199\ttotal: 983ms\tremaining: 1.14s\n",
      "463:\tlearn: 0.3111968\ttotal: 985ms\tremaining: 1.14s\n",
      "464:\tlearn: 0.3111507\ttotal: 987ms\tremaining: 1.14s\n",
      "465:\tlearn: 0.3110948\ttotal: 989ms\tremaining: 1.13s\n",
      "466:\tlearn: 0.3109510\ttotal: 991ms\tremaining: 1.13s\n",
      "467:\tlearn: 0.3109438\ttotal: 992ms\tremaining: 1.13s\n",
      "468:\tlearn: 0.3107877\ttotal: 994ms\tremaining: 1.13s\n",
      "469:\tlearn: 0.3106216\ttotal: 996ms\tremaining: 1.12s\n",
      "470:\tlearn: 0.3105453\ttotal: 998ms\tremaining: 1.12s\n",
      "471:\tlearn: 0.3104303\ttotal: 1s\tremaining: 1.12s\n",
      "472:\tlearn: 0.3102420\ttotal: 1s\tremaining: 1.12s\n",
      "473:\tlearn: 0.3100519\ttotal: 1s\tremaining: 1.11s\n",
      "474:\tlearn: 0.3098329\ttotal: 1.01s\tremaining: 1.11s\n",
      "475:\tlearn: 0.3095644\ttotal: 1.01s\tremaining: 1.11s\n",
      "476:\tlearn: 0.3094410\ttotal: 1.01s\tremaining: 1.11s\n",
      "477:\tlearn: 0.3093176\ttotal: 1.01s\tremaining: 1.11s\n",
      "478:\tlearn: 0.3091389\ttotal: 1.01s\tremaining: 1.1s\n",
      "479:\tlearn: 0.3090671\ttotal: 1.02s\tremaining: 1.1s\n",
      "480:\tlearn: 0.3090283\ttotal: 1.02s\tremaining: 1.1s\n",
      "481:\tlearn: 0.3089464\ttotal: 1.02s\tremaining: 1.1s\n",
      "482:\tlearn: 0.3088295\ttotal: 1.02s\tremaining: 1.1s\n",
      "483:\tlearn: 0.3088154\ttotal: 1.02s\tremaining: 1.09s\n",
      "484:\tlearn: 0.3086904\ttotal: 1.03s\tremaining: 1.09s\n",
      "485:\tlearn: 0.3085154\ttotal: 1.03s\tremaining: 1.09s\n",
      "486:\tlearn: 0.3084165\ttotal: 1.03s\tremaining: 1.09s\n",
      "487:\tlearn: 0.3082049\ttotal: 1.03s\tremaining: 1.08s\n",
      "488:\tlearn: 0.3081115\ttotal: 1.03s\tremaining: 1.08s\n",
      "489:\tlearn: 0.3080709\ttotal: 1.04s\tremaining: 1.08s\n",
      "490:\tlearn: 0.3079652\ttotal: 1.04s\tremaining: 1.08s\n",
      "491:\tlearn: 0.3076973\ttotal: 1.04s\tremaining: 1.07s\n",
      "492:\tlearn: 0.3075715\ttotal: 1.04s\tremaining: 1.07s\n",
      "493:\tlearn: 0.3074505\ttotal: 1.04s\tremaining: 1.07s\n",
      "494:\tlearn: 0.3073867\ttotal: 1.05s\tremaining: 1.07s\n",
      "495:\tlearn: 0.3070909\ttotal: 1.05s\tremaining: 1.07s\n",
      "496:\tlearn: 0.3069790\ttotal: 1.05s\tremaining: 1.06s\n",
      "497:\tlearn: 0.3068963\ttotal: 1.05s\tremaining: 1.06s\n",
      "498:\tlearn: 0.3067224\ttotal: 1.06s\tremaining: 1.06s\n",
      "499:\tlearn: 0.3065960\ttotal: 1.06s\tremaining: 1.06s\n",
      "500:\tlearn: 0.3063311\ttotal: 1.06s\tremaining: 1.05s\n",
      "501:\tlearn: 0.3061889\ttotal: 1.06s\tremaining: 1.05s\n",
      "502:\tlearn: 0.3058584\ttotal: 1.06s\tremaining: 1.05s\n",
      "503:\tlearn: 0.3058299\ttotal: 1.06s\tremaining: 1.05s\n",
      "504:\tlearn: 0.3058013\ttotal: 1.07s\tremaining: 1.05s\n",
      "505:\tlearn: 0.3057121\ttotal: 1.07s\tremaining: 1.04s\n",
      "506:\tlearn: 0.3055488\ttotal: 1.07s\tremaining: 1.04s\n",
      "507:\tlearn: 0.3054921\ttotal: 1.07s\tremaining: 1.04s\n",
      "508:\tlearn: 0.3054314\ttotal: 1.08s\tremaining: 1.04s\n",
      "509:\tlearn: 0.3053683\ttotal: 1.08s\tremaining: 1.03s\n",
      "510:\tlearn: 0.3052104\ttotal: 1.08s\tremaining: 1.03s\n",
      "511:\tlearn: 0.3051061\ttotal: 1.08s\tremaining: 1.03s\n",
      "512:\tlearn: 0.3049586\ttotal: 1.08s\tremaining: 1.03s\n",
      "513:\tlearn: 0.3046745\ttotal: 1.08s\tremaining: 1.03s\n",
      "514:\tlearn: 0.3045383\ttotal: 1.09s\tremaining: 1.02s\n",
      "515:\tlearn: 0.3042895\ttotal: 1.09s\tremaining: 1.02s\n",
      "516:\tlearn: 0.3041615\ttotal: 1.09s\tremaining: 1.02s\n",
      "517:\tlearn: 0.3040454\ttotal: 1.09s\tremaining: 1.02s\n",
      "518:\tlearn: 0.3038583\ttotal: 1.09s\tremaining: 1.01s\n",
      "519:\tlearn: 0.3037734\ttotal: 1.1s\tremaining: 1.01s\n",
      "520:\tlearn: 0.3036744\ttotal: 1.1s\tremaining: 1.01s\n",
      "521:\tlearn: 0.3036266\ttotal: 1.1s\tremaining: 1.01s\n",
      "522:\tlearn: 0.3035335\ttotal: 1.1s\tremaining: 1.01s\n",
      "523:\tlearn: 0.3034135\ttotal: 1.1s\tremaining: 1s\n",
      "524:\tlearn: 0.3032431\ttotal: 1.11s\tremaining: 1s\n",
      "525:\tlearn: 0.3030022\ttotal: 1.11s\tremaining: 1s\n",
      "526:\tlearn: 0.3027960\ttotal: 1.11s\tremaining: 1000ms\n",
      "527:\tlearn: 0.3027205\ttotal: 1.12s\tremaining: 998ms\n",
      "528:\tlearn: 0.3025000\ttotal: 1.12s\tremaining: 996ms\n",
      "529:\tlearn: 0.3024964\ttotal: 1.12s\tremaining: 993ms\n",
      "530:\tlearn: 0.3024077\ttotal: 1.12s\tremaining: 991ms\n",
      "531:\tlearn: 0.3023044\ttotal: 1.12s\tremaining: 989ms\n",
      "532:\tlearn: 0.3020874\ttotal: 1.13s\tremaining: 987ms\n",
      "533:\tlearn: 0.3020087\ttotal: 1.13s\tremaining: 984ms\n",
      "534:\tlearn: 0.3019188\ttotal: 1.13s\tremaining: 982ms\n",
      "535:\tlearn: 0.3017637\ttotal: 1.13s\tremaining: 980ms\n",
      "536:\tlearn: 0.3016638\ttotal: 1.13s\tremaining: 978ms\n",
      "537:\tlearn: 0.3013179\ttotal: 1.14s\tremaining: 976ms\n",
      "538:\tlearn: 0.3011779\ttotal: 1.14s\tremaining: 974ms\n",
      "539:\tlearn: 0.3010410\ttotal: 1.14s\tremaining: 972ms\n",
      "540:\tlearn: 0.3009594\ttotal: 1.14s\tremaining: 970ms\n",
      "541:\tlearn: 0.3008803\ttotal: 1.15s\tremaining: 968ms\n",
      "542:\tlearn: 0.3007965\ttotal: 1.15s\tremaining: 966ms\n",
      "543:\tlearn: 0.3005051\ttotal: 1.15s\tremaining: 963ms\n",
      "544:\tlearn: 0.3003939\ttotal: 1.15s\tremaining: 961ms\n",
      "545:\tlearn: 0.3001115\ttotal: 1.15s\tremaining: 959ms\n",
      "546:\tlearn: 0.3000033\ttotal: 1.16s\tremaining: 957ms\n",
      "547:\tlearn: 0.2999137\ttotal: 1.16s\tremaining: 955ms\n",
      "548:\tlearn: 0.2998254\ttotal: 1.16s\tremaining: 952ms\n",
      "549:\tlearn: 0.2997483\ttotal: 1.16s\tremaining: 950ms\n",
      "550:\tlearn: 0.2996979\ttotal: 1.16s\tremaining: 948ms\n",
      "551:\tlearn: 0.2995939\ttotal: 1.17s\tremaining: 946ms\n",
      "552:\tlearn: 0.2994840\ttotal: 1.17s\tremaining: 944ms\n",
      "553:\tlearn: 0.2994079\ttotal: 1.17s\tremaining: 942ms\n",
      "554:\tlearn: 0.2993172\ttotal: 1.17s\tremaining: 940ms\n",
      "555:\tlearn: 0.2993002\ttotal: 1.17s\tremaining: 938ms\n",
      "556:\tlearn: 0.2991767\ttotal: 1.18s\tremaining: 935ms\n",
      "557:\tlearn: 0.2989813\ttotal: 1.18s\tremaining: 933ms\n",
      "558:\tlearn: 0.2988663\ttotal: 1.18s\tremaining: 931ms\n",
      "559:\tlearn: 0.2987560\ttotal: 1.18s\tremaining: 929ms\n",
      "560:\tlearn: 0.2987314\ttotal: 1.18s\tremaining: 927ms\n",
      "561:\tlearn: 0.2985971\ttotal: 1.19s\tremaining: 924ms\n",
      "562:\tlearn: 0.2984862\ttotal: 1.19s\tremaining: 922ms\n",
      "563:\tlearn: 0.2982847\ttotal: 1.19s\tremaining: 920ms\n",
      "564:\tlearn: 0.2982539\ttotal: 1.19s\tremaining: 918ms\n",
      "565:\tlearn: 0.2981278\ttotal: 1.19s\tremaining: 915ms\n",
      "566:\tlearn: 0.2980168\ttotal: 1.2s\tremaining: 913ms\n",
      "567:\tlearn: 0.2978715\ttotal: 1.2s\tremaining: 911ms\n",
      "568:\tlearn: 0.2977976\ttotal: 1.2s\tremaining: 909ms\n",
      "569:\tlearn: 0.2977746\ttotal: 1.2s\tremaining: 907ms\n",
      "570:\tlearn: 0.2976550\ttotal: 1.2s\tremaining: 905ms\n",
      "571:\tlearn: 0.2974540\ttotal: 1.21s\tremaining: 903ms\n",
      "572:\tlearn: 0.2973901\ttotal: 1.21s\tremaining: 902ms\n",
      "573:\tlearn: 0.2973067\ttotal: 1.21s\tremaining: 900ms\n",
      "574:\tlearn: 0.2972694\ttotal: 1.21s\tremaining: 898ms\n",
      "575:\tlearn: 0.2971399\ttotal: 1.22s\tremaining: 896ms\n",
      "576:\tlearn: 0.2970135\ttotal: 1.22s\tremaining: 893ms\n",
      "577:\tlearn: 0.2969346\ttotal: 1.22s\tremaining: 891ms\n",
      "578:\tlearn: 0.2968371\ttotal: 1.22s\tremaining: 889ms\n",
      "579:\tlearn: 0.2967924\ttotal: 1.22s\tremaining: 887ms\n",
      "580:\tlearn: 0.2967276\ttotal: 1.23s\tremaining: 885ms\n",
      "581:\tlearn: 0.2966407\ttotal: 1.23s\tremaining: 882ms\n",
      "582:\tlearn: 0.2963692\ttotal: 1.23s\tremaining: 881ms\n",
      "583:\tlearn: 0.2962044\ttotal: 1.23s\tremaining: 879ms\n",
      "584:\tlearn: 0.2961341\ttotal: 1.24s\tremaining: 876ms\n",
      "585:\tlearn: 0.2960303\ttotal: 1.24s\tremaining: 875ms\n",
      "586:\tlearn: 0.2959953\ttotal: 1.24s\tremaining: 873ms\n",
      "587:\tlearn: 0.2959335\ttotal: 1.24s\tremaining: 871ms\n",
      "588:\tlearn: 0.2956585\ttotal: 1.24s\tremaining: 868ms\n",
      "589:\tlearn: 0.2956154\ttotal: 1.25s\tremaining: 866ms\n",
      "590:\tlearn: 0.2954028\ttotal: 1.25s\tremaining: 864ms\n",
      "591:\tlearn: 0.2953030\ttotal: 1.25s\tremaining: 862ms\n",
      "592:\tlearn: 0.2952255\ttotal: 1.25s\tremaining: 860ms\n",
      "593:\tlearn: 0.2951647\ttotal: 1.25s\tremaining: 857ms\n",
      "594:\tlearn: 0.2951232\ttotal: 1.25s\tremaining: 855ms\n",
      "595:\tlearn: 0.2949222\ttotal: 1.26s\tremaining: 853ms\n",
      "596:\tlearn: 0.2947516\ttotal: 1.26s\tremaining: 851ms\n",
      "597:\tlearn: 0.2947194\ttotal: 1.26s\tremaining: 848ms\n",
      "598:\tlearn: 0.2946104\ttotal: 1.26s\tremaining: 846ms\n",
      "599:\tlearn: 0.2945958\ttotal: 1.27s\tremaining: 844ms\n",
      "600:\tlearn: 0.2945000\ttotal: 1.27s\tremaining: 842ms\n",
      "601:\tlearn: 0.2943426\ttotal: 1.27s\tremaining: 840ms\n",
      "602:\tlearn: 0.2942435\ttotal: 1.27s\tremaining: 838ms\n",
      "603:\tlearn: 0.2940870\ttotal: 1.27s\tremaining: 836ms\n",
      "604:\tlearn: 0.2939644\ttotal: 1.28s\tremaining: 834ms\n",
      "605:\tlearn: 0.2938463\ttotal: 1.28s\tremaining: 832ms\n",
      "606:\tlearn: 0.2937573\ttotal: 1.28s\tremaining: 830ms\n",
      "607:\tlearn: 0.2935083\ttotal: 1.28s\tremaining: 828ms\n",
      "608:\tlearn: 0.2933106\ttotal: 1.29s\tremaining: 826ms\n",
      "609:\tlearn: 0.2932260\ttotal: 1.29s\tremaining: 824ms\n",
      "610:\tlearn: 0.2931809\ttotal: 1.29s\tremaining: 822ms\n",
      "611:\tlearn: 0.2931139\ttotal: 1.29s\tremaining: 820ms\n",
      "612:\tlearn: 0.2929942\ttotal: 1.29s\tremaining: 818ms\n",
      "613:\tlearn: 0.2929143\ttotal: 1.3s\tremaining: 816ms\n",
      "614:\tlearn: 0.2928553\ttotal: 1.3s\tremaining: 813ms\n",
      "615:\tlearn: 0.2928285\ttotal: 1.3s\tremaining: 811ms\n",
      "616:\tlearn: 0.2927541\ttotal: 1.3s\tremaining: 808ms\n",
      "617:\tlearn: 0.2926854\ttotal: 1.3s\tremaining: 806ms\n",
      "618:\tlearn: 0.2925020\ttotal: 1.31s\tremaining: 804ms\n",
      "619:\tlearn: 0.2923766\ttotal: 1.31s\tremaining: 802ms\n",
      "620:\tlearn: 0.2922585\ttotal: 1.31s\tremaining: 800ms\n",
      "621:\tlearn: 0.2921628\ttotal: 1.31s\tremaining: 798ms\n",
      "622:\tlearn: 0.2921227\ttotal: 1.31s\tremaining: 796ms\n",
      "623:\tlearn: 0.2919792\ttotal: 1.32s\tremaining: 794ms\n",
      "624:\tlearn: 0.2917611\ttotal: 1.32s\tremaining: 791ms\n",
      "625:\tlearn: 0.2916072\ttotal: 1.32s\tremaining: 790ms\n",
      "626:\tlearn: 0.2914508\ttotal: 1.32s\tremaining: 788ms\n",
      "627:\tlearn: 0.2913842\ttotal: 1.32s\tremaining: 785ms\n",
      "628:\tlearn: 0.2913063\ttotal: 1.33s\tremaining: 783ms\n",
      "629:\tlearn: 0.2912565\ttotal: 1.33s\tremaining: 781ms\n",
      "630:\tlearn: 0.2911801\ttotal: 1.33s\tremaining: 779ms\n",
      "631:\tlearn: 0.2911255\ttotal: 1.33s\tremaining: 776ms\n",
      "632:\tlearn: 0.2909923\ttotal: 1.33s\tremaining: 774ms\n",
      "633:\tlearn: 0.2908936\ttotal: 1.34s\tremaining: 772ms\n",
      "634:\tlearn: 0.2906543\ttotal: 1.34s\tremaining: 770ms\n",
      "635:\tlearn: 0.2905587\ttotal: 1.34s\tremaining: 768ms\n",
      "636:\tlearn: 0.2904299\ttotal: 1.34s\tremaining: 766ms\n",
      "637:\tlearn: 0.2903705\ttotal: 1.34s\tremaining: 764ms\n",
      "638:\tlearn: 0.2902347\ttotal: 1.35s\tremaining: 762ms\n",
      "639:\tlearn: 0.2901659\ttotal: 1.35s\tremaining: 760ms\n",
      "640:\tlearn: 0.2901446\ttotal: 1.35s\tremaining: 758ms\n",
      "641:\tlearn: 0.2899497\ttotal: 1.35s\tremaining: 756ms\n",
      "642:\tlearn: 0.2898918\ttotal: 1.36s\tremaining: 753ms\n",
      "643:\tlearn: 0.2897988\ttotal: 1.36s\tremaining: 751ms\n",
      "644:\tlearn: 0.2896735\ttotal: 1.36s\tremaining: 749ms\n",
      "645:\tlearn: 0.2896549\ttotal: 1.36s\tremaining: 746ms\n",
      "646:\tlearn: 0.2896023\ttotal: 1.36s\tremaining: 744ms\n",
      "647:\tlearn: 0.2894428\ttotal: 1.36s\tremaining: 742ms\n",
      "648:\tlearn: 0.2893783\ttotal: 1.37s\tremaining: 740ms\n",
      "649:\tlearn: 0.2893295\ttotal: 1.37s\tremaining: 738ms\n",
      "650:\tlearn: 0.2892619\ttotal: 1.37s\tremaining: 735ms\n",
      "651:\tlearn: 0.2891987\ttotal: 1.37s\tremaining: 734ms\n",
      "652:\tlearn: 0.2890845\ttotal: 1.38s\tremaining: 731ms\n",
      "653:\tlearn: 0.2888589\ttotal: 1.38s\tremaining: 729ms\n",
      "654:\tlearn: 0.2888373\ttotal: 1.38s\tremaining: 727ms\n",
      "655:\tlearn: 0.2887141\ttotal: 1.38s\tremaining: 725ms\n",
      "656:\tlearn: 0.2885960\ttotal: 1.38s\tremaining: 723ms\n",
      "657:\tlearn: 0.2883287\ttotal: 1.39s\tremaining: 721ms\n",
      "658:\tlearn: 0.2882023\ttotal: 1.39s\tremaining: 719ms\n",
      "659:\tlearn: 0.2881610\ttotal: 1.39s\tremaining: 717ms\n",
      "660:\tlearn: 0.2880391\ttotal: 1.39s\tremaining: 715ms\n",
      "661:\tlearn: 0.2878970\ttotal: 1.4s\tremaining: 713ms\n",
      "662:\tlearn: 0.2878225\ttotal: 1.4s\tremaining: 710ms\n",
      "663:\tlearn: 0.2876580\ttotal: 1.4s\tremaining: 708ms\n",
      "664:\tlearn: 0.2874851\ttotal: 1.4s\tremaining: 706ms\n",
      "665:\tlearn: 0.2874033\ttotal: 1.4s\tremaining: 704ms\n",
      "666:\tlearn: 0.2872778\ttotal: 1.41s\tremaining: 702ms\n",
      "667:\tlearn: 0.2871953\ttotal: 1.41s\tremaining: 700ms\n",
      "668:\tlearn: 0.2871529\ttotal: 1.41s\tremaining: 698ms\n",
      "669:\tlearn: 0.2870474\ttotal: 1.41s\tremaining: 696ms\n",
      "670:\tlearn: 0.2868074\ttotal: 1.41s\tremaining: 694ms\n",
      "671:\tlearn: 0.2867134\ttotal: 1.42s\tremaining: 691ms\n",
      "672:\tlearn: 0.2866665\ttotal: 1.42s\tremaining: 689ms\n",
      "673:\tlearn: 0.2865531\ttotal: 1.42s\tremaining: 687ms\n",
      "674:\tlearn: 0.2863680\ttotal: 1.42s\tremaining: 685ms\n"
     ]
    },
    {
     "name": "stdout",
     "output_type": "stream",
     "text": [
      "675:\tlearn: 0.2863131\ttotal: 1.42s\tremaining: 683ms\n",
      "676:\tlearn: 0.2860940\ttotal: 1.43s\tremaining: 681ms\n",
      "677:\tlearn: 0.2860164\ttotal: 1.43s\tremaining: 679ms\n",
      "678:\tlearn: 0.2859673\ttotal: 1.43s\tremaining: 676ms\n",
      "679:\tlearn: 0.2858049\ttotal: 1.43s\tremaining: 674ms\n",
      "680:\tlearn: 0.2856567\ttotal: 1.44s\tremaining: 672ms\n",
      "681:\tlearn: 0.2855916\ttotal: 1.44s\tremaining: 670ms\n",
      "682:\tlearn: 0.2855284\ttotal: 1.44s\tremaining: 668ms\n",
      "683:\tlearn: 0.2853769\ttotal: 1.44s\tremaining: 666ms\n",
      "684:\tlearn: 0.2853682\ttotal: 1.44s\tremaining: 663ms\n",
      "685:\tlearn: 0.2852545\ttotal: 1.45s\tremaining: 661ms\n",
      "686:\tlearn: 0.2852192\ttotal: 1.45s\tremaining: 659ms\n",
      "687:\tlearn: 0.2850406\ttotal: 1.45s\tremaining: 657ms\n",
      "688:\tlearn: 0.2848868\ttotal: 1.45s\tremaining: 655ms\n",
      "689:\tlearn: 0.2848457\ttotal: 1.45s\tremaining: 653ms\n",
      "690:\tlearn: 0.2844629\ttotal: 1.46s\tremaining: 651ms\n",
      "691:\tlearn: 0.2844086\ttotal: 1.46s\tremaining: 649ms\n",
      "692:\tlearn: 0.2842723\ttotal: 1.46s\tremaining: 647ms\n",
      "693:\tlearn: 0.2842335\ttotal: 1.46s\tremaining: 645ms\n",
      "694:\tlearn: 0.2841069\ttotal: 1.47s\tremaining: 643ms\n",
      "695:\tlearn: 0.2840372\ttotal: 1.47s\tremaining: 641ms\n",
      "696:\tlearn: 0.2838770\ttotal: 1.47s\tremaining: 639ms\n",
      "697:\tlearn: 0.2838661\ttotal: 1.47s\tremaining: 637ms\n",
      "698:\tlearn: 0.2838320\ttotal: 1.47s\tremaining: 634ms\n",
      "699:\tlearn: 0.2835521\ttotal: 1.48s\tremaining: 632ms\n",
      "700:\tlearn: 0.2833960\ttotal: 1.48s\tremaining: 630ms\n",
      "701:\tlearn: 0.2832307\ttotal: 1.48s\tremaining: 628ms\n",
      "702:\tlearn: 0.2830165\ttotal: 1.48s\tremaining: 626ms\n",
      "703:\tlearn: 0.2828547\ttotal: 1.48s\tremaining: 624ms\n",
      "704:\tlearn: 0.2825698\ttotal: 1.49s\tremaining: 622ms\n",
      "705:\tlearn: 0.2825058\ttotal: 1.49s\tremaining: 619ms\n",
      "706:\tlearn: 0.2823378\ttotal: 1.49s\tremaining: 617ms\n",
      "707:\tlearn: 0.2822124\ttotal: 1.49s\tremaining: 615ms\n",
      "708:\tlearn: 0.2820594\ttotal: 1.49s\tremaining: 613ms\n",
      "709:\tlearn: 0.2820101\ttotal: 1.5s\tremaining: 611ms\n",
      "710:\tlearn: 0.2819672\ttotal: 1.5s\tremaining: 609ms\n",
      "711:\tlearn: 0.2817815\ttotal: 1.5s\tremaining: 607ms\n",
      "712:\tlearn: 0.2816611\ttotal: 1.5s\tremaining: 604ms\n",
      "713:\tlearn: 0.2816309\ttotal: 1.5s\tremaining: 602ms\n",
      "714:\tlearn: 0.2814585\ttotal: 1.5s\tremaining: 600ms\n",
      "715:\tlearn: 0.2813485\ttotal: 1.51s\tremaining: 598ms\n",
      "716:\tlearn: 0.2812557\ttotal: 1.51s\tremaining: 596ms\n",
      "717:\tlearn: 0.2810100\ttotal: 1.51s\tremaining: 594ms\n",
      "718:\tlearn: 0.2810035\ttotal: 1.51s\tremaining: 591ms\n",
      "719:\tlearn: 0.2808444\ttotal: 1.51s\tremaining: 589ms\n",
      "720:\tlearn: 0.2808083\ttotal: 1.52s\tremaining: 587ms\n",
      "721:\tlearn: 0.2807482\ttotal: 1.52s\tremaining: 585ms\n",
      "722:\tlearn: 0.2807105\ttotal: 1.52s\tremaining: 583ms\n",
      "723:\tlearn: 0.2802921\ttotal: 1.52s\tremaining: 581ms\n",
      "724:\tlearn: 0.2802044\ttotal: 1.52s\tremaining: 579ms\n",
      "725:\tlearn: 0.2801506\ttotal: 1.53s\tremaining: 577ms\n",
      "726:\tlearn: 0.2799615\ttotal: 1.53s\tremaining: 574ms\n",
      "727:\tlearn: 0.2798592\ttotal: 1.53s\tremaining: 572ms\n",
      "728:\tlearn: 0.2797080\ttotal: 1.53s\tremaining: 570ms\n",
      "729:\tlearn: 0.2796194\ttotal: 1.53s\tremaining: 568ms\n",
      "730:\tlearn: 0.2794008\ttotal: 1.54s\tremaining: 566ms\n",
      "731:\tlearn: 0.2791866\ttotal: 1.54s\tremaining: 563ms\n",
      "732:\tlearn: 0.2789701\ttotal: 1.54s\tremaining: 561ms\n",
      "733:\tlearn: 0.2786351\ttotal: 1.54s\tremaining: 559ms\n",
      "734:\tlearn: 0.2785577\ttotal: 1.54s\tremaining: 557ms\n",
      "735:\tlearn: 0.2783859\ttotal: 1.55s\tremaining: 555ms\n",
      "736:\tlearn: 0.2782570\ttotal: 1.55s\tremaining: 553ms\n",
      "737:\tlearn: 0.2779899\ttotal: 1.55s\tremaining: 551ms\n",
      "738:\tlearn: 0.2779780\ttotal: 1.55s\tremaining: 549ms\n",
      "739:\tlearn: 0.2779216\ttotal: 1.55s\tremaining: 547ms\n",
      "740:\tlearn: 0.2777436\ttotal: 1.56s\tremaining: 544ms\n",
      "741:\tlearn: 0.2776652\ttotal: 1.56s\tremaining: 542ms\n",
      "742:\tlearn: 0.2775260\ttotal: 1.56s\tremaining: 540ms\n",
      "743:\tlearn: 0.2772700\ttotal: 1.56s\tremaining: 538ms\n",
      "744:\tlearn: 0.2771677\ttotal: 1.57s\tremaining: 536ms\n",
      "745:\tlearn: 0.2771430\ttotal: 1.57s\tremaining: 534ms\n",
      "746:\tlearn: 0.2769692\ttotal: 1.57s\tremaining: 532ms\n",
      "747:\tlearn: 0.2768654\ttotal: 1.57s\tremaining: 530ms\n",
      "748:\tlearn: 0.2767027\ttotal: 1.57s\tremaining: 528ms\n",
      "749:\tlearn: 0.2764380\ttotal: 1.58s\tremaining: 526ms\n",
      "750:\tlearn: 0.2762305\ttotal: 1.58s\tremaining: 524ms\n",
      "751:\tlearn: 0.2758814\ttotal: 1.58s\tremaining: 521ms\n",
      "752:\tlearn: 0.2757566\ttotal: 1.58s\tremaining: 519ms\n",
      "753:\tlearn: 0.2756998\ttotal: 1.58s\tremaining: 517ms\n",
      "754:\tlearn: 0.2754568\ttotal: 1.59s\tremaining: 515ms\n",
      "755:\tlearn: 0.2753962\ttotal: 1.59s\tremaining: 513ms\n",
      "756:\tlearn: 0.2752904\ttotal: 1.59s\tremaining: 511ms\n",
      "757:\tlearn: 0.2752507\ttotal: 1.59s\tremaining: 509ms\n",
      "758:\tlearn: 0.2750907\ttotal: 1.59s\tremaining: 507ms\n",
      "759:\tlearn: 0.2749085\ttotal: 1.6s\tremaining: 505ms\n",
      "760:\tlearn: 0.2748336\ttotal: 1.6s\tremaining: 502ms\n",
      "761:\tlearn: 0.2746773\ttotal: 1.6s\tremaining: 500ms\n",
      "762:\tlearn: 0.2745160\ttotal: 1.6s\tremaining: 498ms\n",
      "763:\tlearn: 0.2743963\ttotal: 1.61s\tremaining: 496ms\n",
      "764:\tlearn: 0.2743385\ttotal: 1.61s\tremaining: 494ms\n",
      "765:\tlearn: 0.2742005\ttotal: 1.61s\tremaining: 492ms\n",
      "766:\tlearn: 0.2740804\ttotal: 1.61s\tremaining: 490ms\n",
      "767:\tlearn: 0.2740078\ttotal: 1.61s\tremaining: 488ms\n",
      "768:\tlearn: 0.2738867\ttotal: 1.62s\tremaining: 486ms\n",
      "769:\tlearn: 0.2737775\ttotal: 1.62s\tremaining: 483ms\n",
      "770:\tlearn: 0.2737400\ttotal: 1.62s\tremaining: 481ms\n",
      "771:\tlearn: 0.2734616\ttotal: 1.62s\tremaining: 479ms\n",
      "772:\tlearn: 0.2731847\ttotal: 1.62s\tremaining: 477ms\n",
      "773:\tlearn: 0.2729527\ttotal: 1.63s\tremaining: 475ms\n",
      "774:\tlearn: 0.2728701\ttotal: 1.63s\tremaining: 473ms\n",
      "775:\tlearn: 0.2727553\ttotal: 1.63s\tremaining: 471ms\n",
      "776:\tlearn: 0.2726893\ttotal: 1.63s\tremaining: 469ms\n",
      "777:\tlearn: 0.2726033\ttotal: 1.64s\tremaining: 467ms\n",
      "778:\tlearn: 0.2725609\ttotal: 1.64s\tremaining: 465ms\n",
      "779:\tlearn: 0.2723278\ttotal: 1.64s\tremaining: 462ms\n",
      "780:\tlearn: 0.2722486\ttotal: 1.64s\tremaining: 460ms\n",
      "781:\tlearn: 0.2721306\ttotal: 1.64s\tremaining: 458ms\n",
      "782:\tlearn: 0.2720275\ttotal: 1.65s\tremaining: 456ms\n",
      "783:\tlearn: 0.2718494\ttotal: 1.65s\tremaining: 454ms\n",
      "784:\tlearn: 0.2717760\ttotal: 1.65s\tremaining: 452ms\n",
      "785:\tlearn: 0.2716851\ttotal: 1.65s\tremaining: 450ms\n",
      "786:\tlearn: 0.2715132\ttotal: 1.65s\tremaining: 448ms\n",
      "787:\tlearn: 0.2714987\ttotal: 1.66s\tremaining: 445ms\n",
      "788:\tlearn: 0.2714069\ttotal: 1.66s\tremaining: 443ms\n",
      "789:\tlearn: 0.2712027\ttotal: 1.66s\tremaining: 441ms\n",
      "790:\tlearn: 0.2709936\ttotal: 1.66s\tremaining: 439ms\n",
      "791:\tlearn: 0.2708669\ttotal: 1.66s\tremaining: 437ms\n",
      "792:\tlearn: 0.2706728\ttotal: 1.67s\tremaining: 435ms\n",
      "793:\tlearn: 0.2705388\ttotal: 1.67s\tremaining: 433ms\n",
      "794:\tlearn: 0.2704282\ttotal: 1.67s\tremaining: 431ms\n",
      "795:\tlearn: 0.2702954\ttotal: 1.67s\tremaining: 429ms\n",
      "796:\tlearn: 0.2701813\ttotal: 1.67s\tremaining: 427ms\n",
      "797:\tlearn: 0.2701225\ttotal: 1.68s\tremaining: 424ms\n",
      "798:\tlearn: 0.2700037\ttotal: 1.68s\tremaining: 422ms\n",
      "799:\tlearn: 0.2699478\ttotal: 1.68s\tremaining: 420ms\n",
      "800:\tlearn: 0.2697889\ttotal: 1.68s\tremaining: 418ms\n",
      "801:\tlearn: 0.2695153\ttotal: 1.68s\tremaining: 416ms\n",
      "802:\tlearn: 0.2691941\ttotal: 1.69s\tremaining: 414ms\n",
      "803:\tlearn: 0.2691118\ttotal: 1.69s\tremaining: 412ms\n",
      "804:\tlearn: 0.2690483\ttotal: 1.69s\tremaining: 410ms\n",
      "805:\tlearn: 0.2689958\ttotal: 1.69s\tremaining: 408ms\n",
      "806:\tlearn: 0.2687837\ttotal: 1.7s\tremaining: 405ms\n",
      "807:\tlearn: 0.2685873\ttotal: 1.7s\tremaining: 403ms\n",
      "808:\tlearn: 0.2685362\ttotal: 1.7s\tremaining: 401ms\n",
      "809:\tlearn: 0.2683629\ttotal: 1.7s\tremaining: 399ms\n",
      "810:\tlearn: 0.2682543\ttotal: 1.7s\tremaining: 397ms\n",
      "811:\tlearn: 0.2681942\ttotal: 1.71s\tremaining: 395ms\n",
      "812:\tlearn: 0.2679668\ttotal: 1.71s\tremaining: 393ms\n",
      "813:\tlearn: 0.2679003\ttotal: 1.71s\tremaining: 391ms\n",
      "814:\tlearn: 0.2677902\ttotal: 1.71s\tremaining: 389ms\n",
      "815:\tlearn: 0.2676536\ttotal: 1.71s\tremaining: 386ms\n",
      "816:\tlearn: 0.2674800\ttotal: 1.72s\tremaining: 384ms\n",
      "817:\tlearn: 0.2674176\ttotal: 1.72s\tremaining: 382ms\n",
      "818:\tlearn: 0.2673567\ttotal: 1.72s\tremaining: 380ms\n",
      "819:\tlearn: 0.2672433\ttotal: 1.72s\tremaining: 378ms\n",
      "820:\tlearn: 0.2671864\ttotal: 1.72s\tremaining: 376ms\n",
      "821:\tlearn: 0.2670732\ttotal: 1.73s\tremaining: 374ms\n",
      "822:\tlearn: 0.2669154\ttotal: 1.73s\tremaining: 372ms\n",
      "823:\tlearn: 0.2667302\ttotal: 1.73s\tremaining: 370ms\n",
      "824:\tlearn: 0.2664503\ttotal: 1.73s\tremaining: 368ms\n",
      "825:\tlearn: 0.2662392\ttotal: 1.74s\tremaining: 365ms\n",
      "826:\tlearn: 0.2660928\ttotal: 1.74s\tremaining: 363ms\n",
      "827:\tlearn: 0.2659847\ttotal: 1.74s\tremaining: 361ms\n",
      "828:\tlearn: 0.2658288\ttotal: 1.74s\tremaining: 359ms\n",
      "829:\tlearn: 0.2657341\ttotal: 1.74s\tremaining: 357ms\n",
      "830:\tlearn: 0.2655793\ttotal: 1.75s\tremaining: 355ms\n",
      "831:\tlearn: 0.2655347\ttotal: 1.75s\tremaining: 353ms\n",
      "832:\tlearn: 0.2654435\ttotal: 1.75s\tremaining: 351ms\n",
      "833:\tlearn: 0.2653874\ttotal: 1.75s\tremaining: 349ms\n",
      "834:\tlearn: 0.2652013\ttotal: 1.75s\tremaining: 347ms\n",
      "835:\tlearn: 0.2651719\ttotal: 1.76s\tremaining: 345ms\n",
      "836:\tlearn: 0.2650363\ttotal: 1.76s\tremaining: 343ms\n",
      "837:\tlearn: 0.2649814\ttotal: 1.76s\tremaining: 340ms\n",
      "838:\tlearn: 0.2649280\ttotal: 1.76s\tremaining: 338ms\n",
      "839:\tlearn: 0.2648204\ttotal: 1.76s\tremaining: 336ms\n",
      "840:\tlearn: 0.2647889\ttotal: 1.77s\tremaining: 334ms\n",
      "841:\tlearn: 0.2647756\ttotal: 1.77s\tremaining: 332ms\n",
      "842:\tlearn: 0.2646747\ttotal: 1.77s\tremaining: 330ms\n",
      "843:\tlearn: 0.2644995\ttotal: 1.77s\tremaining: 328ms\n",
      "844:\tlearn: 0.2644519\ttotal: 1.77s\tremaining: 326ms\n",
      "845:\tlearn: 0.2643915\ttotal: 1.78s\tremaining: 324ms\n",
      "846:\tlearn: 0.2643748\ttotal: 1.78s\tremaining: 321ms\n",
      "847:\tlearn: 0.2642696\ttotal: 1.78s\tremaining: 319ms\n",
      "848:\tlearn: 0.2641829\ttotal: 1.78s\tremaining: 317ms\n",
      "849:\tlearn: 0.2641118\ttotal: 1.78s\tremaining: 315ms\n",
      "850:\tlearn: 0.2640415\ttotal: 1.79s\tremaining: 313ms\n",
      "851:\tlearn: 0.2639082\ttotal: 1.79s\tremaining: 311ms\n",
      "852:\tlearn: 0.2637587\ttotal: 1.79s\tremaining: 309ms\n",
      "853:\tlearn: 0.2635428\ttotal: 1.79s\tremaining: 307ms\n",
      "854:\tlearn: 0.2633158\ttotal: 1.8s\tremaining: 305ms\n",
      "855:\tlearn: 0.2631840\ttotal: 1.8s\tremaining: 303ms\n",
      "856:\tlearn: 0.2631371\ttotal: 1.8s\tremaining: 301ms\n",
      "857:\tlearn: 0.2631185\ttotal: 1.8s\tremaining: 298ms\n",
      "858:\tlearn: 0.2629471\ttotal: 1.8s\tremaining: 296ms\n",
      "859:\tlearn: 0.2625729\ttotal: 1.81s\tremaining: 294ms\n",
      "860:\tlearn: 0.2624903\ttotal: 1.81s\tremaining: 292ms\n",
      "861:\tlearn: 0.2624055\ttotal: 1.81s\tremaining: 290ms\n",
      "862:\tlearn: 0.2623868\ttotal: 1.81s\tremaining: 288ms\n",
      "863:\tlearn: 0.2621698\ttotal: 1.81s\tremaining: 286ms\n",
      "864:\tlearn: 0.2621174\ttotal: 1.82s\tremaining: 283ms\n",
      "865:\tlearn: 0.2618428\ttotal: 1.82s\tremaining: 281ms\n",
      "866:\tlearn: 0.2617694\ttotal: 1.82s\tremaining: 279ms\n",
      "867:\tlearn: 0.2616626\ttotal: 1.82s\tremaining: 277ms\n",
      "868:\tlearn: 0.2615732\ttotal: 1.82s\tremaining: 275ms\n",
      "869:\tlearn: 0.2614031\ttotal: 1.83s\tremaining: 273ms\n",
      "870:\tlearn: 0.2613450\ttotal: 1.83s\tremaining: 271ms\n",
      "871:\tlearn: 0.2611596\ttotal: 1.83s\tremaining: 269ms\n",
      "872:\tlearn: 0.2610423\ttotal: 1.83s\tremaining: 267ms\n",
      "873:\tlearn: 0.2609920\ttotal: 1.83s\tremaining: 265ms\n",
      "874:\tlearn: 0.2609349\ttotal: 1.84s\tremaining: 262ms\n",
      "875:\tlearn: 0.2609049\ttotal: 1.84s\tremaining: 260ms\n",
      "876:\tlearn: 0.2608658\ttotal: 1.84s\tremaining: 258ms\n",
      "877:\tlearn: 0.2607801\ttotal: 1.84s\tremaining: 256ms\n",
      "878:\tlearn: 0.2606870\ttotal: 1.84s\tremaining: 254ms\n",
      "879:\tlearn: 0.2606371\ttotal: 1.85s\tremaining: 252ms\n",
      "880:\tlearn: 0.2605500\ttotal: 1.85s\tremaining: 250ms\n",
      "881:\tlearn: 0.2604516\ttotal: 1.85s\tremaining: 248ms\n",
      "882:\tlearn: 0.2604287\ttotal: 1.85s\tremaining: 246ms\n",
      "883:\tlearn: 0.2603196\ttotal: 1.85s\tremaining: 243ms\n",
      "884:\tlearn: 0.2602426\ttotal: 1.86s\tremaining: 241ms\n",
      "885:\tlearn: 0.2600218\ttotal: 1.86s\tremaining: 239ms\n",
      "886:\tlearn: 0.2598388\ttotal: 1.86s\tremaining: 237ms\n",
      "887:\tlearn: 0.2597773\ttotal: 1.86s\tremaining: 235ms\n",
      "888:\tlearn: 0.2597301\ttotal: 1.86s\tremaining: 233ms\n",
      "889:\tlearn: 0.2593661\ttotal: 1.87s\tremaining: 231ms\n",
      "890:\tlearn: 0.2591307\ttotal: 1.87s\tremaining: 229ms\n",
      "891:\tlearn: 0.2590409\ttotal: 1.87s\tremaining: 227ms\n",
      "892:\tlearn: 0.2588894\ttotal: 1.87s\tremaining: 225ms\n",
      "893:\tlearn: 0.2588354\ttotal: 1.88s\tremaining: 222ms\n",
      "894:\tlearn: 0.2586263\ttotal: 1.88s\tremaining: 220ms\n",
      "895:\tlearn: 0.2585634\ttotal: 1.88s\tremaining: 218ms\n",
      "896:\tlearn: 0.2585207\ttotal: 1.88s\tremaining: 216ms\n",
      "897:\tlearn: 0.2584828\ttotal: 1.88s\tremaining: 214ms\n",
      "898:\tlearn: 0.2583751\ttotal: 1.89s\tremaining: 212ms\n",
      "899:\tlearn: 0.2580146\ttotal: 1.89s\tremaining: 210ms\n",
      "900:\tlearn: 0.2579839\ttotal: 1.89s\tremaining: 208ms\n",
      "901:\tlearn: 0.2578972\ttotal: 1.89s\tremaining: 206ms\n",
      "902:\tlearn: 0.2578163\ttotal: 1.89s\tremaining: 204ms\n",
      "903:\tlearn: 0.2577681\ttotal: 1.9s\tremaining: 201ms\n"
     ]
    },
    {
     "name": "stdout",
     "output_type": "stream",
     "text": [
      "904:\tlearn: 0.2576098\ttotal: 1.9s\tremaining: 199ms\n",
      "905:\tlearn: 0.2575293\ttotal: 1.9s\tremaining: 197ms\n",
      "906:\tlearn: 0.2574556\ttotal: 1.9s\tremaining: 195ms\n",
      "907:\tlearn: 0.2573164\ttotal: 1.91s\tremaining: 193ms\n",
      "908:\tlearn: 0.2572103\ttotal: 1.91s\tremaining: 191ms\n",
      "909:\tlearn: 0.2570053\ttotal: 1.91s\tremaining: 189ms\n",
      "910:\tlearn: 0.2568876\ttotal: 1.91s\tremaining: 187ms\n",
      "911:\tlearn: 0.2568364\ttotal: 1.91s\tremaining: 185ms\n",
      "912:\tlearn: 0.2564891\ttotal: 1.92s\tremaining: 183ms\n",
      "913:\tlearn: 0.2564371\ttotal: 1.92s\tremaining: 181ms\n",
      "914:\tlearn: 0.2562824\ttotal: 1.92s\tremaining: 179ms\n",
      "915:\tlearn: 0.2562577\ttotal: 1.92s\tremaining: 176ms\n",
      "916:\tlearn: 0.2561893\ttotal: 1.93s\tremaining: 174ms\n",
      "917:\tlearn: 0.2557774\ttotal: 1.93s\tremaining: 172ms\n",
      "918:\tlearn: 0.2556877\ttotal: 1.93s\tremaining: 170ms\n",
      "919:\tlearn: 0.2555399\ttotal: 1.93s\tremaining: 168ms\n",
      "920:\tlearn: 0.2554759\ttotal: 1.93s\tremaining: 166ms\n",
      "921:\tlearn: 0.2553205\ttotal: 1.94s\tremaining: 164ms\n",
      "922:\tlearn: 0.2552297\ttotal: 1.94s\tremaining: 162ms\n",
      "923:\tlearn: 0.2551445\ttotal: 1.94s\tremaining: 160ms\n",
      "924:\tlearn: 0.2551089\ttotal: 1.94s\tremaining: 158ms\n",
      "925:\tlearn: 0.2549747\ttotal: 1.94s\tremaining: 155ms\n",
      "926:\tlearn: 0.2548626\ttotal: 1.95s\tremaining: 153ms\n",
      "927:\tlearn: 0.2547097\ttotal: 1.95s\tremaining: 151ms\n",
      "928:\tlearn: 0.2546541\ttotal: 1.95s\tremaining: 149ms\n",
      "929:\tlearn: 0.2544876\ttotal: 1.95s\tremaining: 147ms\n",
      "930:\tlearn: 0.2544310\ttotal: 1.96s\tremaining: 145ms\n",
      "931:\tlearn: 0.2543919\ttotal: 1.96s\tremaining: 143ms\n",
      "932:\tlearn: 0.2541764\ttotal: 1.96s\tremaining: 141ms\n",
      "933:\tlearn: 0.2540670\ttotal: 1.96s\tremaining: 139ms\n",
      "934:\tlearn: 0.2540095\ttotal: 1.96s\tremaining: 136ms\n",
      "935:\tlearn: 0.2538890\ttotal: 1.97s\tremaining: 134ms\n",
      "936:\tlearn: 0.2537489\ttotal: 1.97s\tremaining: 132ms\n",
      "937:\tlearn: 0.2536279\ttotal: 1.97s\tremaining: 130ms\n",
      "938:\tlearn: 0.2535698\ttotal: 1.97s\tremaining: 128ms\n",
      "939:\tlearn: 0.2533542\ttotal: 1.97s\tremaining: 126ms\n",
      "940:\tlearn: 0.2532820\ttotal: 1.98s\tremaining: 124ms\n",
      "941:\tlearn: 0.2531401\ttotal: 1.98s\tremaining: 122ms\n",
      "942:\tlearn: 0.2530889\ttotal: 1.98s\tremaining: 120ms\n",
      "943:\tlearn: 0.2530291\ttotal: 1.98s\tremaining: 118ms\n",
      "944:\tlearn: 0.2527556\ttotal: 1.99s\tremaining: 116ms\n",
      "945:\tlearn: 0.2527445\ttotal: 1.99s\tremaining: 113ms\n",
      "946:\tlearn: 0.2526878\ttotal: 1.99s\tremaining: 111ms\n",
      "947:\tlearn: 0.2526070\ttotal: 1.99s\tremaining: 109ms\n",
      "948:\tlearn: 0.2525542\ttotal: 1.99s\tremaining: 107ms\n",
      "949:\tlearn: 0.2524903\ttotal: 2s\tremaining: 105ms\n",
      "950:\tlearn: 0.2523666\ttotal: 2s\tremaining: 103ms\n",
      "951:\tlearn: 0.2522355\ttotal: 2s\tremaining: 101ms\n",
      "952:\tlearn: 0.2521881\ttotal: 2s\tremaining: 98.7ms\n",
      "953:\tlearn: 0.2520643\ttotal: 2s\tremaining: 96.6ms\n",
      "954:\tlearn: 0.2520181\ttotal: 2s\tremaining: 94.5ms\n",
      "955:\tlearn: 0.2518784\ttotal: 2.01s\tremaining: 92.4ms\n",
      "956:\tlearn: 0.2518648\ttotal: 2.01s\tremaining: 90.3ms\n",
      "957:\tlearn: 0.2518062\ttotal: 2.01s\tremaining: 88.2ms\n",
      "958:\tlearn: 0.2517723\ttotal: 2.01s\tremaining: 86.1ms\n",
      "959:\tlearn: 0.2517250\ttotal: 2.02s\tremaining: 84ms\n",
      "960:\tlearn: 0.2515671\ttotal: 2.02s\tremaining: 81.9ms\n",
      "961:\tlearn: 0.2513815\ttotal: 2.02s\tremaining: 79.8ms\n",
      "962:\tlearn: 0.2513460\ttotal: 2.02s\tremaining: 77.7ms\n",
      "963:\tlearn: 0.2510970\ttotal: 2.02s\tremaining: 75.6ms\n",
      "964:\tlearn: 0.2510473\ttotal: 2.02s\tremaining: 73.4ms\n",
      "965:\tlearn: 0.2509690\ttotal: 2.03s\tremaining: 71.4ms\n",
      "966:\tlearn: 0.2509375\ttotal: 2.03s\tremaining: 69.3ms\n",
      "967:\tlearn: 0.2508553\ttotal: 2.03s\tremaining: 67.2ms\n",
      "968:\tlearn: 0.2507879\ttotal: 2.03s\tremaining: 65.1ms\n",
      "969:\tlearn: 0.2507271\ttotal: 2.04s\tremaining: 63ms\n",
      "970:\tlearn: 0.2506289\ttotal: 2.04s\tremaining: 60.9ms\n",
      "971:\tlearn: 0.2505172\ttotal: 2.04s\tremaining: 58.8ms\n",
      "972:\tlearn: 0.2504694\ttotal: 2.04s\tremaining: 56.7ms\n",
      "973:\tlearn: 0.2502261\ttotal: 2.04s\tremaining: 54.6ms\n",
      "974:\tlearn: 0.2501907\ttotal: 2.05s\tremaining: 52.5ms\n",
      "975:\tlearn: 0.2501511\ttotal: 2.05s\tremaining: 50.4ms\n",
      "976:\tlearn: 0.2501113\ttotal: 2.05s\tremaining: 48.3ms\n",
      "977:\tlearn: 0.2499403\ttotal: 2.05s\tremaining: 46.2ms\n",
      "978:\tlearn: 0.2498354\ttotal: 2.06s\tremaining: 44.1ms\n",
      "979:\tlearn: 0.2495745\ttotal: 2.06s\tremaining: 42ms\n",
      "980:\tlearn: 0.2494751\ttotal: 2.06s\tremaining: 39.9ms\n",
      "981:\tlearn: 0.2494262\ttotal: 2.06s\tremaining: 37.8ms\n",
      "982:\tlearn: 0.2493934\ttotal: 2.06s\tremaining: 35.7ms\n",
      "983:\tlearn: 0.2493620\ttotal: 2.07s\tremaining: 33.6ms\n",
      "984:\tlearn: 0.2491835\ttotal: 2.07s\tremaining: 31.5ms\n",
      "985:\tlearn: 0.2491471\ttotal: 2.07s\tremaining: 29.4ms\n",
      "986:\tlearn: 0.2490721\ttotal: 2.07s\tremaining: 27.3ms\n",
      "987:\tlearn: 0.2489801\ttotal: 2.08s\tremaining: 25.2ms\n",
      "988:\tlearn: 0.2487962\ttotal: 2.08s\tremaining: 23.1ms\n",
      "989:\tlearn: 0.2487436\ttotal: 2.08s\tremaining: 21ms\n",
      "990:\tlearn: 0.2484564\ttotal: 2.08s\tremaining: 18.9ms\n",
      "991:\tlearn: 0.2481827\ttotal: 2.08s\tremaining: 16.8ms\n",
      "992:\tlearn: 0.2479538\ttotal: 2.09s\tremaining: 14.7ms\n",
      "993:\tlearn: 0.2477976\ttotal: 2.09s\tremaining: 12.6ms\n",
      "994:\tlearn: 0.2477477\ttotal: 2.09s\tremaining: 10.5ms\n",
      "995:\tlearn: 0.2476293\ttotal: 2.09s\tremaining: 8.4ms\n",
      "996:\tlearn: 0.2474581\ttotal: 2.09s\tremaining: 6.3ms\n",
      "997:\tlearn: 0.2472284\ttotal: 2.1s\tremaining: 4.2ms\n",
      "998:\tlearn: 0.2471589\ttotal: 2.1s\tremaining: 2.1ms\n",
      "999:\tlearn: 0.2471048\ttotal: 2.1s\tremaining: 0us\n",
      "[07:29:26] WARNING: C:/Users/Administrator/workspace/xgboost-win64_release_1.4.0/src/learner.cc:1095: Starting in XGBoost 1.3.0, the default evaluation metric used with the objective 'binary:logistic' was changed from 'error' to 'logloss'. Explicitly set eval_metric if you'd like to restore the old behavior.\n",
      "Ensembler Accuracy: 0.838%\n"
     ]
    }
   ],
   "source": [
    "from sklearn.ensemble import VotingClassifier\n",
    "\n",
    "vc = VotingClassifier(estimators=classifiers,voting='soft')\n",
    "\n",
    "vc.fit(X_train, y_train)\n",
    "\n",
    "y_pred = vc.predict(X_test)\n",
    "\n",
    "acc_vc = accuracy_score(y_test, y_pred)\n",
    "\n",
    "print(f'Ensembler Accuracy: {round(acc_vc, 3)}%')"
   ]
  },
  {
   "cell_type": "code",
   "execution_count": 156,
   "metadata": {},
   "outputs": [
    {
     "name": "stdout",
     "output_type": "stream",
     "text": [
      "[[97 13]\n",
      " [16 53]]\n"
     ]
    }
   ],
   "source": [
    "print(confusion_matrix(y_test, y_pred))"
   ]
  },
  {
   "cell_type": "code",
   "execution_count": 157,
   "metadata": {},
   "outputs": [
    {
     "data": {
      "text/plain": [
       "65.36"
      ]
     },
     "execution_count": 157,
     "metadata": {},
     "output_type": "execute_result"
    }
   ],
   "source": [
    "perceptron = Perceptron()\n",
    "perceptron.fit(X_train, y_train)\n",
    "Y_pred = perceptron.predict(X_test)\n",
    "acc_perceptron = round(perceptron.score(X_test, y_test) * 100, 2)\n",
    "acc_perceptron"
   ]
  },
  {
   "cell_type": "code",
   "execution_count": 158,
   "metadata": {},
   "outputs": [
    {
     "data": {
      "text/plain": [
       "78.21"
      ]
     },
     "execution_count": 158,
     "metadata": {},
     "output_type": "execute_result"
    }
   ],
   "source": [
    "sgd = SGDClassifier()\n",
    "sgd.fit(X_train, y_train)\n",
    "Y_pred = sgd.predict(X_test)\n",
    "acc_sgd = round(sgd.score(X_test, y_test) * 100, 2)\n",
    "acc_sgd"
   ]
  },
  {
   "cell_type": "code",
   "execution_count": 159,
   "metadata": {},
   "outputs": [],
   "source": [
    "test.set_index('PassengerId',inplace=True)"
   ]
  },
  {
   "cell_type": "code",
   "execution_count": 160,
   "metadata": {},
   "outputs": [],
   "source": [
    "test_df = test.drop(['name_title','cabin_adv','ticket_letters'], axis=1)"
   ]
  },
  {
   "cell_type": "code",
   "execution_count": 161,
   "metadata": {},
   "outputs": [],
   "source": [
    "# test_df.isna().sum()"
   ]
  },
  {
   "cell_type": "code",
   "execution_count": 162,
   "metadata": {},
   "outputs": [],
   "source": [
    "y_pred = best_rf.predict(test_df)"
   ]
  },
  {
   "cell_type": "code",
   "execution_count": 163,
   "metadata": {},
   "outputs": [],
   "source": [
    "test.reset_index(inplace=True)"
   ]
  },
  {
   "cell_type": "code",
   "execution_count": 164,
   "metadata": {},
   "outputs": [],
   "source": [
    "test['Survived'] = y_pred\n",
    "test[['PassengerId','Survived']].to_csv('submission.csv', index=False)"
   ]
  },
  {
   "cell_type": "code",
   "execution_count": null,
   "metadata": {},
   "outputs": [],
   "source": []
  },
  {
   "cell_type": "code",
   "execution_count": null,
   "metadata": {},
   "outputs": [],
   "source": []
  },
  {
   "cell_type": "code",
   "execution_count": null,
   "metadata": {},
   "outputs": [],
   "source": []
  }
 ],
 "metadata": {
  "kernelspec": {
   "display_name": "Python 3",
   "language": "python",
   "name": "python3"
  },
  "language_info": {
   "codemirror_mode": {
    "name": "ipython",
    "version": 3
   },
   "file_extension": ".py",
   "mimetype": "text/x-python",
   "name": "python",
   "nbconvert_exporter": "python",
   "pygments_lexer": "ipython3",
   "version": "3.8.5"
  }
 },
 "nbformat": 4,
 "nbformat_minor": 4
}
